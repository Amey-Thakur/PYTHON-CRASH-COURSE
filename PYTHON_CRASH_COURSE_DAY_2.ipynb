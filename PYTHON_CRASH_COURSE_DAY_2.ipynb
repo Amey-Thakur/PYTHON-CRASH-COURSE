{
  "nbformat": 4,
  "nbformat_minor": 0,
  "metadata": {
    "kernelspec": {
      "language": "python",
      "display_name": "Python 3",
      "name": "python3"
    },
    "language_info": {
      "name": "python",
      "version": "3.7.10",
      "mimetype": "text/x-python",
      "codemirror_mode": {
        "name": "ipython",
        "version": 3
      },
      "pygments_lexer": "ipython3",
      "nbconvert_exporter": "python",
      "file_extension": ".py"
    },
    "colab": {
      "name": "PYTHON-CRASH-COURSE-DAY-2.ipynb",
      "provenance": [],
      "include_colab_link": true
    }
  },
  "cells": [
    {
      "cell_type": "markdown",
      "metadata": {
        "id": "view-in-github",
        "colab_type": "text"
      },
      "source": [
        "<a href=\"https://colab.research.google.com/github/Amey-Thakur/PYTHON-CRASH-COURSE/blob/main/PYTHON_CRASH_COURSE_DAY_2.ipynb\" target=\"_parent\"><img src=\"https://colab.research.google.com/assets/colab-badge.svg\" alt=\"Open In Colab\"/></a>"
      ]
    },
    {
      "cell_type": "markdown",
      "metadata": {
        "id": "opvoczQS972q"
      },
      "source": [
        "# **Day 2**\n",
        "\n",
        "**Containers**\n",
        "\n",
        "These are the data structures that holds or contain data in them\n",
        "1. List\n",
        "2. Tuple \n",
        "3. Dictionary\n",
        "\n",
        "**List**\n",
        "\n",
        "A list is data structure that holds an collection of items, i.e. we can store a sequence of items in a list. Lists are created by placing all items in square brackets([]) seperated by comma.\n",
        "\n",
        "Lists are mutable in nature."
      ]
    },
    {
      "cell_type": "code",
      "metadata": {
        "execution": {
          "iopub.status.busy": "2021-08-08T17:20:20.804718Z",
          "iopub.execute_input": "2021-08-08T17:20:20.805138Z",
          "iopub.status.idle": "2021-08-08T17:20:20.820799Z",
          "shell.execute_reply.started": "2021-08-08T17:20:20.805051Z",
          "shell.execute_reply": "2021-08-08T17:20:20.820024Z"
        },
        "trusted": true,
        "colab": {
          "base_uri": "https://localhost:8080/"
        },
        "id": "aZciJUsT972r",
        "outputId": "d9c08e89-89ff-46e9-8c96-a5a1bb7cff94"
      },
      "source": [
        "#lets create an empty list\n",
        "names = []\n",
        "type(names)"
      ],
      "execution_count": 1,
      "outputs": [
        {
          "output_type": "execute_result",
          "data": {
            "text/plain": [
              "list"
            ]
          },
          "metadata": {
            "tags": []
          },
          "execution_count": 1
        }
      ]
    },
    {
      "cell_type": "code",
      "metadata": {
        "execution": {
          "iopub.status.busy": "2021-08-08T17:20:20.824522Z",
          "iopub.execute_input": "2021-08-08T17:20:20.825046Z",
          "iopub.status.idle": "2021-08-08T17:20:20.842290Z",
          "shell.execute_reply.started": "2021-08-08T17:20:20.825013Z",
          "shell.execute_reply": "2021-08-08T17:20:20.841584Z"
        },
        "trusted": true,
        "colab": {
          "base_uri": "https://localhost:8080/"
        },
        "id": "aUB5MNUX972s",
        "outputId": "067f5f4b-8f97-41f2-9271-d8670347b1f9"
      },
      "source": [
        "#lets create a list with items\n",
        "prg_lst = ['Python', 'Java','C++','Kotlin','C','Ruby','Swift','Pascal']\n",
        "prg_lst"
      ],
      "execution_count": 2,
      "outputs": [
        {
          "output_type": "execute_result",
          "data": {
            "text/plain": [
              "['Python', 'Java', 'C++', 'Kotlin', 'C', 'Ruby', 'Swift', 'Pascal']"
            ]
          },
          "metadata": {
            "tags": []
          },
          "execution_count": 2
        }
      ]
    },
    {
      "cell_type": "code",
      "metadata": {
        "execution": {
          "iopub.status.busy": "2021-08-08T17:20:20.843445Z",
          "iopub.execute_input": "2021-08-08T17:20:20.843832Z",
          "iopub.status.idle": "2021-08-08T17:20:20.856541Z",
          "shell.execute_reply.started": "2021-08-08T17:20:20.843802Z",
          "shell.execute_reply": "2021-08-08T17:20:20.855286Z"
        },
        "trusted": true,
        "colab": {
          "base_uri": "https://localhost:8080/",
          "height": 35
        },
        "id": "lnbo-_LD972s",
        "outputId": "89a4d044-e8b3-499c-9d3c-a9d344ac8394"
      },
      "source": [
        "#Accessing the list items by its index\n",
        "prg_lst[3]"
      ],
      "execution_count": 3,
      "outputs": [
        {
          "output_type": "execute_result",
          "data": {
            "application/vnd.google.colaboratory.intrinsic+json": {
              "type": "string"
            },
            "text/plain": [
              "'Kotlin'"
            ]
          },
          "metadata": {
            "tags": []
          },
          "execution_count": 3
        }
      ]
    },
    {
      "cell_type": "code",
      "metadata": {
        "execution": {
          "iopub.status.busy": "2021-08-08T17:20:20.858622Z",
          "iopub.execute_input": "2021-08-08T17:20:20.859044Z",
          "iopub.status.idle": "2021-08-08T17:20:20.870465Z",
          "shell.execute_reply.started": "2021-08-08T17:20:20.858990Z",
          "shell.execute_reply": "2021-08-08T17:20:20.869474Z"
        },
        "trusted": true,
        "colab": {
          "base_uri": "https://localhost:8080/",
          "height": 35
        },
        "id": "OuQSA-dl972s",
        "outputId": "12387fd6-6f58-4deb-e639-13cfe64ff329"
      },
      "source": [
        "prg_lst[-3]"
      ],
      "execution_count": 4,
      "outputs": [
        {
          "output_type": "execute_result",
          "data": {
            "application/vnd.google.colaboratory.intrinsic+json": {
              "type": "string"
            },
            "text/plain": [
              "'Ruby'"
            ]
          },
          "metadata": {
            "tags": []
          },
          "execution_count": 4
        }
      ]
    },
    {
      "cell_type": "code",
      "metadata": {
        "execution": {
          "iopub.status.busy": "2021-08-08T17:20:20.871774Z",
          "iopub.execute_input": "2021-08-08T17:20:20.872057Z",
          "iopub.status.idle": "2021-08-08T17:20:20.883937Z",
          "shell.execute_reply.started": "2021-08-08T17:20:20.872018Z",
          "shell.execute_reply": "2021-08-08T17:20:20.882920Z"
        },
        "trusted": true,
        "colab": {
          "base_uri": "https://localhost:8080/"
        },
        "id": "gJoiMd4m972t",
        "outputId": "7181727c-2fcf-48f9-99a5-0023d11a28ce"
      },
      "source": [
        "#access mutliple items from index 3 to 7\n",
        "prg_lst[3:8]"
      ],
      "execution_count": 5,
      "outputs": [
        {
          "output_type": "execute_result",
          "data": {
            "text/plain": [
              "['Kotlin', 'C', 'Ruby', 'Swift', 'Pascal']"
            ]
          },
          "metadata": {
            "tags": []
          },
          "execution_count": 5
        }
      ]
    },
    {
      "cell_type": "code",
      "metadata": {
        "execution": {
          "iopub.status.busy": "2021-08-08T17:20:20.885176Z",
          "iopub.execute_input": "2021-08-08T17:20:20.885698Z",
          "iopub.status.idle": "2021-08-08T17:20:20.897642Z",
          "shell.execute_reply.started": "2021-08-08T17:20:20.885663Z",
          "shell.execute_reply": "2021-08-08T17:20:20.896769Z"
        },
        "trusted": true,
        "colab": {
          "base_uri": "https://localhost:8080/"
        },
        "id": "1Z1_xPzO972t",
        "outputId": "db41526a-cc09-42ae-d55f-7a9522c20e18"
      },
      "source": [
        "prg_lst[3:]"
      ],
      "execution_count": 6,
      "outputs": [
        {
          "output_type": "execute_result",
          "data": {
            "text/plain": [
              "['Kotlin', 'C', 'Ruby', 'Swift', 'Pascal']"
            ]
          },
          "metadata": {
            "tags": []
          },
          "execution_count": 6
        }
      ]
    },
    {
      "cell_type": "code",
      "metadata": {
        "execution": {
          "iopub.status.busy": "2021-08-08T17:20:20.899241Z",
          "iopub.execute_input": "2021-08-08T17:20:20.899762Z",
          "iopub.status.idle": "2021-08-08T17:20:20.911264Z",
          "shell.execute_reply.started": "2021-08-08T17:20:20.899719Z",
          "shell.execute_reply": "2021-08-08T17:20:20.910527Z"
        },
        "trusted": true,
        "colab": {
          "base_uri": "https://localhost:8080/"
        },
        "id": "OGd3pP23972u",
        "outputId": "0ada345b-4db0-4e27-ad6d-31961a1b8b4b"
      },
      "source": [
        "prg_lst[:7]"
      ],
      "execution_count": 7,
      "outputs": [
        {
          "output_type": "execute_result",
          "data": {
            "text/plain": [
              "['Python', 'Java', 'C++', 'Kotlin', 'C', 'Ruby', 'Swift']"
            ]
          },
          "metadata": {
            "tags": []
          },
          "execution_count": 7
        }
      ]
    },
    {
      "cell_type": "code",
      "metadata": {
        "execution": {
          "iopub.status.busy": "2021-08-08T17:20:20.912517Z",
          "iopub.execute_input": "2021-08-08T17:20:20.912957Z",
          "iopub.status.idle": "2021-08-08T17:20:20.925261Z",
          "shell.execute_reply.started": "2021-08-08T17:20:20.912925Z",
          "shell.execute_reply": "2021-08-08T17:20:20.924262Z"
        },
        "trusted": true,
        "colab": {
          "base_uri": "https://localhost:8080/"
        },
        "id": "E9O1qlfn972u",
        "outputId": "b46c0416-182c-460f-e3bd-d80b7f0e5263"
      },
      "source": [
        "#Updating the list items\n",
        "stock_lst = ['HP','GOOG','TSLA','MSFT','AAPL','AMZN','NFLX']\n",
        "stock_lst"
      ],
      "execution_count": 8,
      "outputs": [
        {
          "output_type": "execute_result",
          "data": {
            "text/plain": [
              "['HP', 'GOOG', 'TSLA', 'MSFT', 'AAPL', 'AMZN', 'NFLX']"
            ]
          },
          "metadata": {
            "tags": []
          },
          "execution_count": 8
        }
      ]
    },
    {
      "cell_type": "code",
      "metadata": {
        "execution": {
          "iopub.status.busy": "2021-08-08T17:20:20.926428Z",
          "iopub.execute_input": "2021-08-08T17:20:20.926724Z",
          "iopub.status.idle": "2021-08-08T17:20:20.940200Z",
          "shell.execute_reply.started": "2021-08-08T17:20:20.926694Z",
          "shell.execute_reply": "2021-08-08T17:20:20.939365Z"
        },
        "trusted": true,
        "colab": {
          "base_uri": "https://localhost:8080/"
        },
        "id": "0lXfPnd5972u",
        "outputId": "77b594cc-c11c-4edd-896f-7db2df6c8072"
      },
      "source": [
        "#append(element): This method adds a single element to the end of the list. \n",
        "names"
      ],
      "execution_count": 9,
      "outputs": [
        {
          "output_type": "execute_result",
          "data": {
            "text/plain": [
              "[]"
            ]
          },
          "metadata": {
            "tags": []
          },
          "execution_count": 9
        }
      ]
    },
    {
      "cell_type": "code",
      "metadata": {
        "execution": {
          "iopub.status.busy": "2021-08-08T17:20:20.941945Z",
          "iopub.execute_input": "2021-08-08T17:20:20.942467Z",
          "iopub.status.idle": "2021-08-08T17:20:20.950771Z",
          "shell.execute_reply.started": "2021-08-08T17:20:20.942424Z",
          "shell.execute_reply": "2021-08-08T17:20:20.949680Z"
        },
        "trusted": true,
        "id": "TAE2-b2V972v"
      },
      "source": [
        "names.append('Jagrit Gaur')"
      ],
      "execution_count": 10,
      "outputs": []
    },
    {
      "cell_type": "code",
      "metadata": {
        "execution": {
          "iopub.status.busy": "2021-08-08T17:20:20.989148Z",
          "iopub.execute_input": "2021-08-08T17:20:20.989819Z",
          "iopub.status.idle": "2021-08-08T17:20:20.996781Z",
          "shell.execute_reply.started": "2021-08-08T17:20:20.989768Z",
          "shell.execute_reply": "2021-08-08T17:20:20.995835Z"
        },
        "trusted": true,
        "colab": {
          "base_uri": "https://localhost:8080/"
        },
        "id": "Mv8kFaZF972v",
        "outputId": "0ae249bd-7294-404a-a4cc-8c42a1219b94"
      },
      "source": [
        "names.append('Adithya Bhushan')\n",
        "names"
      ],
      "execution_count": 11,
      "outputs": [
        {
          "output_type": "execute_result",
          "data": {
            "text/plain": [
              "['Jagrit Gaur', 'Adithya Bhushan']"
            ]
          },
          "metadata": {
            "tags": []
          },
          "execution_count": 11
        }
      ]
    },
    {
      "cell_type": "code",
      "metadata": {
        "execution": {
          "iopub.status.busy": "2021-08-08T17:20:20.998903Z",
          "iopub.execute_input": "2021-08-08T17:20:20.999666Z",
          "iopub.status.idle": "2021-08-08T17:20:21.009675Z",
          "shell.execute_reply.started": "2021-08-08T17:20:20.999618Z",
          "shell.execute_reply": "2021-08-08T17:20:21.008524Z"
        },
        "trusted": true,
        "colab": {
          "base_uri": "https://localhost:8080/"
        },
        "id": "n7Ka4ozq972v",
        "outputId": "ea23f61e-d3cf-46f7-e787-e9d881074787"
      },
      "source": [
        "name_list = ['Aditya Gupta','Aditya Sankrityayan','Adithya Singh']\n",
        "names.append(name_list)\n",
        "names"
      ],
      "execution_count": 12,
      "outputs": [
        {
          "output_type": "execute_result",
          "data": {
            "text/plain": [
              "['Jagrit Gaur',\n",
              " 'Adithya Bhushan',\n",
              " ['Aditya Gupta', 'Aditya Sankrityayan', 'Adithya Singh']]"
            ]
          },
          "metadata": {
            "tags": []
          },
          "execution_count": 12
        }
      ]
    },
    {
      "cell_type": "code",
      "metadata": {
        "execution": {
          "iopub.status.busy": "2021-08-08T17:20:21.012429Z",
          "iopub.execute_input": "2021-08-08T17:20:21.013546Z",
          "iopub.status.idle": "2021-08-08T17:20:21.019662Z",
          "shell.execute_reply.started": "2021-08-08T17:20:21.013494Z",
          "shell.execute_reply": "2021-08-08T17:20:21.018685Z"
        },
        "trusted": true,
        "id": "jK5A8JbN972w"
      },
      "source": [
        "#extend(list2):L it adds the element in list2 to the end of the list \n",
        "new_lst = ['Alisha Lohia','Amey Thakur','Amit']\n",
        "name_list.extend(new_lst)"
      ],
      "execution_count": 13,
      "outputs": []
    },
    {
      "cell_type": "code",
      "metadata": {
        "execution": {
          "iopub.status.busy": "2021-08-08T17:20:21.021107Z",
          "iopub.execute_input": "2021-08-08T17:20:21.021585Z",
          "iopub.status.idle": "2021-08-08T17:20:21.033038Z",
          "shell.execute_reply.started": "2021-08-08T17:20:21.021551Z",
          "shell.execute_reply": "2021-08-08T17:20:21.032271Z"
        },
        "trusted": true,
        "colab": {
          "base_uri": "https://localhost:8080/"
        },
        "id": "QKfiOjBV972w",
        "outputId": "0e68213f-427d-4a9a-e00f-63355a604037"
      },
      "source": [
        "name_list"
      ],
      "execution_count": 14,
      "outputs": [
        {
          "output_type": "execute_result",
          "data": {
            "text/plain": [
              "['Aditya Gupta',\n",
              " 'Aditya Sankrityayan',\n",
              " 'Adithya Singh',\n",
              " 'Alisha Lohia',\n",
              " 'Amey Thakur',\n",
              " 'Amit']"
            ]
          },
          "metadata": {
            "tags": []
          },
          "execution_count": 14
        }
      ]
    },
    {
      "cell_type": "markdown",
      "metadata": {
        "id": "Ib0NQvwg972w"
      },
      "source": [
        "**List Manipulation**"
      ]
    },
    {
      "cell_type": "code",
      "metadata": {
        "execution": {
          "iopub.status.busy": "2021-08-08T17:20:21.034003Z",
          "iopub.execute_input": "2021-08-08T17:20:21.034374Z",
          "iopub.status.idle": "2021-08-08T17:20:21.046077Z",
          "shell.execute_reply.started": "2021-08-08T17:20:21.034345Z",
          "shell.execute_reply": "2021-08-08T17:20:21.044895Z"
        },
        "trusted": true,
        "colab": {
          "base_uri": "https://localhost:8080/"
        },
        "id": "qOY14x2H972w",
        "outputId": "23958cbd-d975-46c0-b38f-df33b1a251ab"
      },
      "source": [
        "#innsert(index, element): It inserts an item at a given index\n",
        "stock_lst.insert(1, \"GE\")\n",
        "stock_lst"
      ],
      "execution_count": 15,
      "outputs": [
        {
          "output_type": "execute_result",
          "data": {
            "text/plain": [
              "['HP', 'GE', 'GOOG', 'TSLA', 'MSFT', 'AAPL', 'AMZN', 'NFLX']"
            ]
          },
          "metadata": {
            "tags": []
          },
          "execution_count": 15
        }
      ]
    },
    {
      "cell_type": "code",
      "metadata": {
        "execution": {
          "iopub.status.busy": "2021-08-08T17:20:21.047553Z",
          "iopub.execute_input": "2021-08-08T17:20:21.047847Z",
          "iopub.status.idle": "2021-08-08T17:20:21.151867Z",
          "shell.execute_reply.started": "2021-08-08T17:20:21.047817Z",
          "shell.execute_reply": "2021-08-08T17:20:21.150896Z"
        },
        "trusted": true,
        "colab": {
          "base_uri": "https://localhost:8080/"
        },
        "id": "6nPyW757972x",
        "outputId": "c891d70a-9cf7-42f6-d344-924545532374"
      },
      "source": [
        "#remove(element): This removes the item whose value is element provided in an argument\n",
        "stock_lst.remove('GE')\n",
        "stock_lst"
      ],
      "execution_count": 16,
      "outputs": [
        {
          "output_type": "execute_result",
          "data": {
            "text/plain": [
              "['HP', 'GOOG', 'TSLA', 'MSFT', 'AAPL', 'AMZN', 'NFLX']"
            ]
          },
          "metadata": {
            "tags": []
          },
          "execution_count": 16
        }
      ]
    },
    {
      "cell_type": "code",
      "metadata": {
        "execution": {
          "iopub.status.busy": "2021-08-08T17:20:21.153468Z",
          "iopub.execute_input": "2021-08-08T17:20:21.153848Z",
          "iopub.status.idle": "2021-08-08T17:20:21.165186Z",
          "shell.execute_reply.started": "2021-08-08T17:20:21.153810Z",
          "shell.execute_reply": "2021-08-08T17:20:21.164226Z"
        },
        "trusted": true,
        "colab": {
          "base_uri": "https://localhost:8080/",
          "height": 35
        },
        "id": "ZfHlJjka972x",
        "outputId": "fbc1fc67-f614-4182-8a3e-dbbd5892fbb8"
      },
      "source": [
        "#pop(): This function removes and returns the last item in the list\n",
        "stock_lst.pop()"
      ],
      "execution_count": 17,
      "outputs": [
        {
          "output_type": "execute_result",
          "data": {
            "application/vnd.google.colaboratory.intrinsic+json": {
              "type": "string"
            },
            "text/plain": [
              "'NFLX'"
            ]
          },
          "metadata": {
            "tags": []
          },
          "execution_count": 17
        }
      ]
    },
    {
      "cell_type": "code",
      "metadata": {
        "execution": {
          "iopub.status.busy": "2021-08-08T17:20:21.166388Z",
          "iopub.execute_input": "2021-08-08T17:20:21.166743Z",
          "iopub.status.idle": "2021-08-08T17:20:21.177641Z",
          "shell.execute_reply.started": "2021-08-08T17:20:21.166711Z",
          "shell.execute_reply": "2021-08-08T17:20:21.176517Z"
        },
        "trusted": true,
        "colab": {
          "base_uri": "https://localhost:8080/",
          "height": 35
        },
        "id": "cJopG94f972x",
        "outputId": "0a5928ac-3baa-4523-8fd8-1e6c067c461b"
      },
      "source": [
        "#pop(index)\n",
        "stock_lst.pop(3)"
      ],
      "execution_count": 18,
      "outputs": [
        {
          "output_type": "execute_result",
          "data": {
            "application/vnd.google.colaboratory.intrinsic+json": {
              "type": "string"
            },
            "text/plain": [
              "'MSFT'"
            ]
          },
          "metadata": {
            "tags": []
          },
          "execution_count": 18
        }
      ]
    },
    {
      "cell_type": "code",
      "metadata": {
        "execution": {
          "iopub.status.busy": "2021-08-08T17:20:21.180746Z",
          "iopub.execute_input": "2021-08-08T17:20:21.181415Z",
          "iopub.status.idle": "2021-08-08T17:20:21.190213Z",
          "shell.execute_reply.started": "2021-08-08T17:20:21.181347Z",
          "shell.execute_reply": "2021-08-08T17:20:21.189050Z"
        },
        "trusted": true,
        "colab": {
          "base_uri": "https://localhost:8080/"
        },
        "id": "DEWzVS-u972x",
        "outputId": "f4e39cc0-6ff9-44ae-f406-5c8dd209e947"
      },
      "source": [
        "#index(element): Returns the index of the first item whose value is provided in an argument\n",
        "stock_lst.index('GOOG')"
      ],
      "execution_count": 19,
      "outputs": [
        {
          "output_type": "execute_result",
          "data": {
            "text/plain": [
              "1"
            ]
          },
          "metadata": {
            "tags": []
          },
          "execution_count": 19
        }
      ]
    },
    {
      "cell_type": "code",
      "metadata": {
        "execution": {
          "iopub.status.busy": "2021-08-08T17:20:21.192287Z",
          "iopub.execute_input": "2021-08-08T17:20:21.192652Z",
          "iopub.status.idle": "2021-08-08T17:20:21.203119Z",
          "shell.execute_reply.started": "2021-08-08T17:20:21.192622Z",
          "shell.execute_reply": "2021-08-08T17:20:21.201969Z"
        },
        "trusted": true,
        "id": "Pw2ap_8L972y"
      },
      "source": [
        "stock_lst.append(\"GOOG\")\n",
        "stock_lst.append(\"GOOG\")\n",
        "stock_lst.append(\"GOOG\")\n",
        "stock_lst.append(\"GOOG\")\n",
        "stock_lst.append(\"GOOG\")\n",
        "stock_lst.append(\"GOOG\")"
      ],
      "execution_count": 20,
      "outputs": []
    },
    {
      "cell_type": "code",
      "metadata": {
        "execution": {
          "iopub.status.busy": "2021-08-08T17:20:21.205150Z",
          "iopub.execute_input": "2021-08-08T17:20:21.205578Z",
          "iopub.status.idle": "2021-08-08T17:20:21.220576Z",
          "shell.execute_reply.started": "2021-08-08T17:20:21.205543Z",
          "shell.execute_reply": "2021-08-08T17:20:21.219255Z"
        },
        "trusted": true,
        "colab": {
          "base_uri": "https://localhost:8080/"
        },
        "id": "2XksMZoI972y",
        "outputId": "baa06055-c22a-4cff-c5c8-d4f2cfee7b11"
      },
      "source": [
        "stock_lst"
      ],
      "execution_count": 21,
      "outputs": [
        {
          "output_type": "execute_result",
          "data": {
            "text/plain": [
              "['HP',\n",
              " 'GOOG',\n",
              " 'TSLA',\n",
              " 'AAPL',\n",
              " 'AMZN',\n",
              " 'GOOG',\n",
              " 'GOOG',\n",
              " 'GOOG',\n",
              " 'GOOG',\n",
              " 'GOOG',\n",
              " 'GOOG']"
            ]
          },
          "metadata": {
            "tags": []
          },
          "execution_count": 21
        }
      ]
    },
    {
      "cell_type": "code",
      "metadata": {
        "execution": {
          "iopub.status.busy": "2021-08-08T17:20:21.222523Z",
          "iopub.execute_input": "2021-08-08T17:20:21.222955Z",
          "iopub.status.idle": "2021-08-08T17:20:21.233837Z",
          "shell.execute_reply.started": "2021-08-08T17:20:21.222912Z",
          "shell.execute_reply": "2021-08-08T17:20:21.232598Z"
        },
        "trusted": true,
        "colab": {
          "base_uri": "https://localhost:8080/"
        },
        "id": "t9Q2fpZE972y",
        "outputId": "ebaa5bf0-d01d-4372-bdb0-85f55f3cfe39"
      },
      "source": [
        "#count(element): Returns the number of times element appears in the list\n",
        "stock_lst.count('GOOG')"
      ],
      "execution_count": 22,
      "outputs": [
        {
          "output_type": "execute_result",
          "data": {
            "text/plain": [
              "7"
            ]
          },
          "metadata": {
            "tags": []
          },
          "execution_count": 22
        }
      ]
    },
    {
      "cell_type": "code",
      "metadata": {
        "execution": {
          "iopub.status.busy": "2021-08-08T17:20:21.235155Z",
          "iopub.execute_input": "2021-08-08T17:20:21.235486Z",
          "iopub.status.idle": "2021-08-08T17:20:21.244926Z",
          "shell.execute_reply.started": "2021-08-08T17:20:21.235454Z",
          "shell.execute_reply": "2021-08-08T17:20:21.243492Z"
        },
        "trusted": true,
        "id": "cm_TPfNP972z"
      },
      "source": [
        "#sort(): This will return the sorted list\n",
        "stock_lst.sort()"
      ],
      "execution_count": 23,
      "outputs": []
    },
    {
      "cell_type": "code",
      "metadata": {
        "execution": {
          "iopub.status.busy": "2021-08-08T17:20:21.246777Z",
          "iopub.execute_input": "2021-08-08T17:20:21.247565Z",
          "iopub.status.idle": "2021-08-08T17:20:21.260225Z",
          "shell.execute_reply.started": "2021-08-08T17:20:21.247517Z",
          "shell.execute_reply": "2021-08-08T17:20:21.259083Z"
        },
        "trusted": true,
        "colab": {
          "base_uri": "https://localhost:8080/"
        },
        "id": "2vEo_KHd972z",
        "outputId": "36b290f6-ae52-4b72-d6ca-457f7a610a7c"
      },
      "source": [
        "stock_lst"
      ],
      "execution_count": 24,
      "outputs": [
        {
          "output_type": "execute_result",
          "data": {
            "text/plain": [
              "['AAPL',\n",
              " 'AMZN',\n",
              " 'GOOG',\n",
              " 'GOOG',\n",
              " 'GOOG',\n",
              " 'GOOG',\n",
              " 'GOOG',\n",
              " 'GOOG',\n",
              " 'GOOG',\n",
              " 'HP',\n",
              " 'TSLA']"
            ]
          },
          "metadata": {
            "tags": []
          },
          "execution_count": 24
        }
      ]
    },
    {
      "cell_type": "code",
      "metadata": {
        "execution": {
          "iopub.status.busy": "2021-08-08T17:20:21.262070Z",
          "iopub.execute_input": "2021-08-08T17:20:21.262842Z",
          "iopub.status.idle": "2021-08-08T17:20:21.275474Z",
          "shell.execute_reply.started": "2021-08-08T17:20:21.262795Z",
          "shell.execute_reply": "2021-08-08T17:20:21.274540Z"
        },
        "trusted": true,
        "colab": {
          "base_uri": "https://localhost:8080/"
        },
        "id": "gvZqSQMM972z",
        "outputId": "70af9e75-40d5-48c7-8f45-3c843a4434c6"
      },
      "source": [
        "new_lst = ['A',23, 78.90, 78>98]\n",
        "new_lst"
      ],
      "execution_count": 25,
      "outputs": [
        {
          "output_type": "execute_result",
          "data": {
            "text/plain": [
              "['A', 23, 78.9, False]"
            ]
          },
          "metadata": {
            "tags": []
          },
          "execution_count": 25
        }
      ]
    },
    {
      "cell_type": "code",
      "metadata": {
        "execution": {
          "iopub.status.busy": "2021-08-08T17:20:21.277136Z",
          "iopub.execute_input": "2021-08-08T17:20:21.277683Z",
          "iopub.status.idle": "2021-08-08T17:20:34.141991Z",
          "shell.execute_reply.started": "2021-08-08T17:20:21.277635Z",
          "shell.execute_reply": "2021-08-08T17:20:34.141176Z"
        },
        "trusted": true,
        "colab": {
          "base_uri": "https://localhost:8080/"
        },
        "id": "9-xlkY4G972z",
        "outputId": "c0c68961-c80d-4823-f1ca-c52be26a5275"
      },
      "source": [
        "#Accepting the input from the user\n",
        "x = int(input('Enter first number'))\n",
        "y = int(input('Enter second number'))\n",
        "\n",
        "print('Sum of {0} and {1} is {2} '.format(x,y,x+y))"
      ],
      "execution_count": 26,
      "outputs": [
        {
          "output_type": "stream",
          "text": [
            "Enter first number12\n",
            "Enter second number20\n",
            "Sum of 12 and 20 is 32 \n"
          ],
          "name": "stdout"
        }
      ]
    },
    {
      "cell_type": "markdown",
      "metadata": {
        "id": "NjiH631e972z"
      },
      "source": [
        "**Task:**\n",
        "1. Create an empty list\n",
        "2. Add items to the list by user input, atleast 10\n",
        "3. Sort the given list\n",
        "4. Using extend method, add some more items to the list\n",
        "5. Using pop and pop(index) delete the last element and element in the index 6\n",
        "7. print back the list"
      ]
    },
    {
      "cell_type": "markdown",
      "metadata": {
        "id": "63jWpgCj9720"
      },
      "source": [
        "**Tuples**\n",
        "\n",
        "Tuples are immutable data structures which contain heterogeneous sequence of elements seperated by commas. The elements of the list are accesed by indexing or unpacking"
      ]
    },
    {
      "cell_type": "code",
      "metadata": {
        "execution": {
          "iopub.status.busy": "2021-08-08T17:20:34.143064Z",
          "iopub.execute_input": "2021-08-08T17:20:34.143469Z",
          "iopub.status.idle": "2021-08-08T17:20:34.147595Z",
          "shell.execute_reply.started": "2021-08-08T17:20:34.143438Z",
          "shell.execute_reply": "2021-08-08T17:20:34.146858Z"
        },
        "trusted": true,
        "colab": {
          "base_uri": "https://localhost:8080/"
        },
        "id": "GQmhTOVk9720",
        "outputId": "43476a5e-ad97-4a2e-92c9-fd0cdfd32a8b"
      },
      "source": [
        "#creating tuple\n",
        "tp1 = (1,2,3)\n",
        "print(tp1, type(tp1))"
      ],
      "execution_count": 27,
      "outputs": [
        {
          "output_type": "stream",
          "text": [
            "(1, 2, 3) <class 'tuple'>\n"
          ],
          "name": "stdout"
        }
      ]
    },
    {
      "cell_type": "code",
      "metadata": {
        "execution": {
          "iopub.status.busy": "2021-08-08T17:20:34.148785Z",
          "iopub.execute_input": "2021-08-08T17:20:34.149171Z",
          "iopub.status.idle": "2021-08-08T17:20:34.167387Z",
          "shell.execute_reply.started": "2021-08-08T17:20:34.149139Z",
          "shell.execute_reply": "2021-08-08T17:20:34.165861Z"
        },
        "trusted": true,
        "colab": {
          "base_uri": "https://localhost:8080/"
        },
        "id": "x3Y3G6MP9720",
        "outputId": "a076eac4-3204-4a9a-c329-549d6310935f"
      },
      "source": [
        "#Tuples with heterogenous data\n",
        "tp2 = ('Nawaz','ML','DS',32, 67, 87, 76>35)\n",
        "tp2"
      ],
      "execution_count": 28,
      "outputs": [
        {
          "output_type": "execute_result",
          "data": {
            "text/plain": [
              "('Nawaz', 'ML', 'DS', 32, 67, 87, True)"
            ]
          },
          "metadata": {
            "tags": []
          },
          "execution_count": 28
        }
      ]
    },
    {
      "cell_type": "code",
      "metadata": {
        "execution": {
          "iopub.status.busy": "2021-08-08T17:20:34.168800Z",
          "iopub.execute_input": "2021-08-08T17:20:34.169103Z",
          "iopub.status.idle": "2021-08-08T17:20:34.184885Z",
          "shell.execute_reply.started": "2021-08-08T17:20:34.169074Z",
          "shell.execute_reply": "2021-08-08T17:20:34.183640Z"
        },
        "trusted": true,
        "colab": {
          "base_uri": "https://localhost:8080/"
        },
        "id": "mjKQrnJq9720",
        "outputId": "3826e147-c2df-4c3e-e348-72a3cba03a92"
      },
      "source": [
        "#creating tuple without the braces\n",
        "tp3 = 90, 676, 'ABC',78.66\n",
        "print(type(tp3))"
      ],
      "execution_count": 29,
      "outputs": [
        {
          "output_type": "stream",
          "text": [
            "<class 'tuple'>\n"
          ],
          "name": "stdout"
        }
      ]
    },
    {
      "cell_type": "code",
      "metadata": {
        "execution": {
          "iopub.status.busy": "2021-08-08T17:20:34.186454Z",
          "iopub.execute_input": "2021-08-08T17:20:34.186784Z",
          "iopub.status.idle": "2021-08-08T17:20:34.202693Z",
          "shell.execute_reply.started": "2021-08-08T17:20:34.186754Z",
          "shell.execute_reply": "2021-08-08T17:20:34.201654Z"
        },
        "trusted": true,
        "colab": {
          "base_uri": "https://localhost:8080/"
        },
        "id": "7dpPQAAk9721",
        "outputId": "a86684e5-c01d-4069-e654-10c0b9249f1e"
      },
      "source": [
        "#creating a tuple with repetitive elements  5 to be there in the tuple 7 times\n",
        "tp_r = (5,) * 7\n",
        "tp_r"
      ],
      "execution_count": 30,
      "outputs": [
        {
          "output_type": "execute_result",
          "data": {
            "text/plain": [
              "(5, 5, 5, 5, 5, 5, 5)"
            ]
          },
          "metadata": {
            "tags": []
          },
          "execution_count": 30
        }
      ]
    },
    {
      "cell_type": "code",
      "metadata": {
        "execution": {
          "iopub.status.busy": "2021-08-08T17:20:34.204701Z",
          "iopub.execute_input": "2021-08-08T17:20:34.205319Z",
          "iopub.status.idle": "2021-08-08T17:20:34.217831Z",
          "shell.execute_reply.started": "2021-08-08T17:20:34.205233Z",
          "shell.execute_reply": "2021-08-08T17:20:34.216809Z"
        },
        "trusted": true,
        "colab": {
          "base_uri": "https://localhost:8080/",
          "height": 35
        },
        "id": "mNax2vpV9721",
        "outputId": "d282496c-16bf-46b1-9816-e566c67b5aa0"
      },
      "source": [
        "#Accessing tuple elements\n",
        "tp2[0]"
      ],
      "execution_count": 31,
      "outputs": [
        {
          "output_type": "execute_result",
          "data": {
            "application/vnd.google.colaboratory.intrinsic+json": {
              "type": "string"
            },
            "text/plain": [
              "'Nawaz'"
            ]
          },
          "metadata": {
            "tags": []
          },
          "execution_count": 31
        }
      ]
    },
    {
      "cell_type": "code",
      "metadata": {
        "execution": {
          "iopub.status.busy": "2021-08-08T17:20:34.219584Z",
          "iopub.execute_input": "2021-08-08T17:20:34.220006Z",
          "iopub.status.idle": "2021-08-08T17:20:34.231797Z",
          "shell.execute_reply.started": "2021-08-08T17:20:34.219963Z",
          "shell.execute_reply": "2021-08-08T17:20:34.230731Z"
        },
        "trusted": true,
        "colab": {
          "base_uri": "https://localhost:8080/"
        },
        "id": "RMKnFRwR9721",
        "outputId": "7c86b29c-e5f3-4c4f-9aca-76b9f6cb35c1"
      },
      "source": [
        "len(tp3)"
      ],
      "execution_count": 32,
      "outputs": [
        {
          "output_type": "execute_result",
          "data": {
            "text/plain": [
              "4"
            ]
          },
          "metadata": {
            "tags": []
          },
          "execution_count": 32
        }
      ]
    },
    {
      "cell_type": "code",
      "metadata": {
        "execution": {
          "iopub.status.busy": "2021-08-08T17:20:34.237517Z",
          "iopub.execute_input": "2021-08-08T17:20:34.237868Z",
          "iopub.status.idle": "2021-08-08T17:20:34.243659Z",
          "shell.execute_reply.started": "2021-08-08T17:20:34.237812Z",
          "shell.execute_reply": "2021-08-08T17:20:34.242342Z"
        },
        "trusted": true,
        "id": "M1bh_GIb9721"
      },
      "source": [
        "#tuple concatenation\n",
        "t1 = (1,2,3)\n",
        "t2 = 4,5"
      ],
      "execution_count": 33,
      "outputs": []
    },
    {
      "cell_type": "code",
      "metadata": {
        "execution": {
          "iopub.status.busy": "2021-08-08T17:20:34.246467Z",
          "iopub.execute_input": "2021-08-08T17:20:34.246913Z",
          "iopub.status.idle": "2021-08-08T17:20:34.258226Z",
          "shell.execute_reply.started": "2021-08-08T17:20:34.246866Z",
          "shell.execute_reply": "2021-08-08T17:20:34.257202Z"
        },
        "trusted": true,
        "colab": {
          "base_uri": "https://localhost:8080/"
        },
        "id": "s6qDsKJ19721",
        "outputId": "9bf0c78b-128d-4faf-bd04-6a6b5ba1f1e6"
      },
      "source": [
        "t1 += 4,5\n",
        "t1"
      ],
      "execution_count": 34,
      "outputs": [
        {
          "output_type": "execute_result",
          "data": {
            "text/plain": [
              "(1, 2, 3, 4, 5)"
            ]
          },
          "metadata": {
            "tags": []
          },
          "execution_count": 34
        }
      ]
    },
    {
      "cell_type": "code",
      "metadata": {
        "execution": {
          "iopub.status.busy": "2021-08-08T17:20:34.259766Z",
          "iopub.execute_input": "2021-08-08T17:20:34.260265Z",
          "iopub.status.idle": "2021-08-08T17:20:34.272020Z",
          "shell.execute_reply.started": "2021-08-08T17:20:34.260230Z",
          "shell.execute_reply": "2021-08-08T17:20:34.271044Z"
        },
        "trusted": true,
        "colab": {
          "base_uri": "https://localhost:8080/"
        },
        "id": "_TQ7NCs-9722",
        "outputId": "18c6c6df-d791-4095-e880-fd00c736c132"
      },
      "source": [
        "t1 + t2"
      ],
      "execution_count": 35,
      "outputs": [
        {
          "output_type": "execute_result",
          "data": {
            "text/plain": [
              "(1, 2, 3, 4, 5, 4, 5)"
            ]
          },
          "metadata": {
            "tags": []
          },
          "execution_count": 35
        }
      ]
    },
    {
      "cell_type": "code",
      "metadata": {
        "execution": {
          "iopub.status.busy": "2021-08-08T17:20:34.273456Z",
          "iopub.execute_input": "2021-08-08T17:20:34.273728Z",
          "iopub.status.idle": "2021-08-08T17:20:34.281378Z",
          "shell.execute_reply.started": "2021-08-08T17:20:34.273701Z",
          "shell.execute_reply": "2021-08-08T17:20:34.280491Z"
        },
        "trusted": true,
        "id": "IlzFWWoe9722"
      },
      "source": [
        "#Unpacking Tuples\n",
        "t3 = (5,6,7)\n",
        "x,y,z = t3"
      ],
      "execution_count": 36,
      "outputs": []
    },
    {
      "cell_type": "code",
      "metadata": {
        "execution": {
          "iopub.status.busy": "2021-08-08T17:20:34.283045Z",
          "iopub.execute_input": "2021-08-08T17:20:34.283323Z",
          "iopub.status.idle": "2021-08-08T17:20:34.295860Z",
          "shell.execute_reply.started": "2021-08-08T17:20:34.283296Z",
          "shell.execute_reply": "2021-08-08T17:20:34.294806Z"
        },
        "trusted": true,
        "colab": {
          "base_uri": "https://localhost:8080/"
        },
        "id": "GxT05jxc9722",
        "outputId": "492d9d2a-290d-4dea-a79d-2f9521c521cd"
      },
      "source": [
        "x"
      ],
      "execution_count": 37,
      "outputs": [
        {
          "output_type": "execute_result",
          "data": {
            "text/plain": [
              "5"
            ]
          },
          "metadata": {
            "tags": []
          },
          "execution_count": 37
        }
      ]
    },
    {
      "cell_type": "markdown",
      "metadata": {
        "id": "99iH8_p29722"
      },
      "source": [
        "**Tuple Methods**\n",
        "\n",
        "index(element): This method returns the index of the element\n",
        "\n",
        "count(): This method counts the number of occurences of the element."
      ]
    },
    {
      "cell_type": "code",
      "metadata": {
        "execution": {
          "iopub.status.busy": "2021-08-08T17:20:34.297128Z",
          "iopub.execute_input": "2021-08-08T17:20:34.297499Z",
          "iopub.status.idle": "2021-08-08T17:20:34.307889Z",
          "shell.execute_reply.started": "2021-08-08T17:20:34.297420Z",
          "shell.execute_reply": "2021-08-08T17:20:34.307061Z"
        },
        "trusted": true,
        "colab": {
          "base_uri": "https://localhost:8080/"
        },
        "id": "5Evtv97K9722",
        "outputId": "a582913e-2ad8-4f88-9d26-4bf739e2cfdd"
      },
      "source": [
        "t3.index(6)"
      ],
      "execution_count": 38,
      "outputs": [
        {
          "output_type": "execute_result",
          "data": {
            "text/plain": [
              "1"
            ]
          },
          "metadata": {
            "tags": []
          },
          "execution_count": 38
        }
      ]
    },
    {
      "cell_type": "code",
      "metadata": {
        "execution": {
          "iopub.status.busy": "2021-08-08T17:20:34.309548Z",
          "iopub.execute_input": "2021-08-08T17:20:34.309929Z",
          "iopub.status.idle": "2021-08-08T17:20:34.322787Z",
          "shell.execute_reply.started": "2021-08-08T17:20:34.309899Z",
          "shell.execute_reply": "2021-08-08T17:20:34.321831Z"
        },
        "trusted": true,
        "colab": {
          "base_uri": "https://localhost:8080/"
        },
        "id": "LQ9a0Eg89722",
        "outputId": "16e3f51c-4f5d-4c67-e250-d4d1acedb798"
      },
      "source": [
        "t4 = (7, )*8\n",
        "t4"
      ],
      "execution_count": 39,
      "outputs": [
        {
          "output_type": "execute_result",
          "data": {
            "text/plain": [
              "(7, 7, 7, 7, 7, 7, 7, 7)"
            ]
          },
          "metadata": {
            "tags": []
          },
          "execution_count": 39
        }
      ]
    },
    {
      "cell_type": "code",
      "metadata": {
        "execution": {
          "iopub.status.busy": "2021-08-08T17:20:34.324292Z",
          "iopub.execute_input": "2021-08-08T17:20:34.324729Z",
          "iopub.status.idle": "2021-08-08T17:20:34.335969Z",
          "shell.execute_reply.started": "2021-08-08T17:20:34.324693Z",
          "shell.execute_reply": "2021-08-08T17:20:34.334736Z"
        },
        "trusted": true,
        "colab": {
          "base_uri": "https://localhost:8080/"
        },
        "id": "1CJGITlj9722",
        "outputId": "4b613d09-691e-4d49-f0af-64f5231922f8"
      },
      "source": [
        "t4.count(7)"
      ],
      "execution_count": 40,
      "outputs": [
        {
          "output_type": "execute_result",
          "data": {
            "text/plain": [
              "8"
            ]
          },
          "metadata": {
            "tags": []
          },
          "execution_count": 40
        }
      ]
    },
    {
      "cell_type": "markdown",
      "metadata": {
        "id": "vc2wM2lW9723"
      },
      "source": [
        "**Advantages of using Tuples**\n",
        "\n",
        "1. They protect the data, as they are immutable\n",
        "2. Tuples are faster than lists\n",
        "3. They can be used as keys to the dictionary"
      ]
    },
    {
      "cell_type": "markdown",
      "metadata": {
        "id": "5aPBBQky9723"
      },
      "source": [
        "**Dictionary**\n",
        "\n",
        "A dictionary is an unordered collection of items, which stores data in key value pair, seperated by comma and enclosed within curly brackets.\n",
        "\n",
        "**Note:** We can use only immutable objects like strings, or tuples for the keys of the dictionary, and keys shd be unique."
      ]
    },
    {
      "cell_type": "code",
      "metadata": {
        "execution": {
          "iopub.status.busy": "2021-08-08T17:20:34.337580Z",
          "iopub.execute_input": "2021-08-08T17:20:34.337911Z",
          "iopub.status.idle": "2021-08-08T17:20:34.349748Z",
          "shell.execute_reply.started": "2021-08-08T17:20:34.337880Z",
          "shell.execute_reply": "2021-08-08T17:20:34.348533Z"
        },
        "trusted": true,
        "colab": {
          "base_uri": "https://localhost:8080/"
        },
        "id": "ruW-QQOF9723",
        "outputId": "4321b586-d967-4774-eecc-cab47aff4e06"
      },
      "source": [
        "#lets create a simple dictionary\n",
        "tickers = {}\n",
        "type(tickers)"
      ],
      "execution_count": 41,
      "outputs": [
        {
          "output_type": "execute_result",
          "data": {
            "text/plain": [
              "dict"
            ]
          },
          "metadata": {
            "tags": []
          },
          "execution_count": 41
        }
      ]
    },
    {
      "cell_type": "code",
      "metadata": {
        "execution": {
          "iopub.status.busy": "2021-08-08T17:20:34.351332Z",
          "iopub.execute_input": "2021-08-08T17:20:34.351752Z",
          "iopub.status.idle": "2021-08-08T17:20:34.362099Z",
          "shell.execute_reply.started": "2021-08-08T17:20:34.351708Z",
          "shell.execute_reply": "2021-08-08T17:20:34.361029Z"
        },
        "trusted": true,
        "colab": {
          "base_uri": "https://localhost:8080/"
        },
        "id": "ayGpitO-9723",
        "outputId": "60cb5f51-a7b8-466c-a0d1-e7b2c8058367"
      },
      "source": [
        "#now lets create a enpty dictionary using dict method\n",
        "new_tick = dict()\n",
        "type(new_tick)"
      ],
      "execution_count": 42,
      "outputs": [
        {
          "output_type": "execute_result",
          "data": {
            "text/plain": [
              "dict"
            ]
          },
          "metadata": {
            "tags": []
          },
          "execution_count": 42
        }
      ]
    },
    {
      "cell_type": "code",
      "metadata": {
        "execution": {
          "iopub.status.busy": "2021-08-08T17:20:34.363456Z",
          "iopub.execute_input": "2021-08-08T17:20:34.363859Z",
          "iopub.status.idle": "2021-08-08T17:20:34.376460Z",
          "shell.execute_reply.started": "2021-08-08T17:20:34.363811Z",
          "shell.execute_reply": "2021-08-08T17:20:34.375390Z"
        },
        "trusted": true,
        "colab": {
          "base_uri": "https://localhost:8080/"
        },
        "id": "2T336mi29723",
        "outputId": "25b3ce47-2db2-4875-cc19-f1269514b36f"
      },
      "source": [
        "#lets create dictionaries with values\n",
        "tickers = {\n",
        "    'GOOG': 'Alphabet Inc',\n",
        "    'AAPL': 'Apple Inc',\n",
        "    'MSFT': 'Microsoft Corporation'\n",
        "}\n",
        "tickers"
      ],
      "execution_count": 43,
      "outputs": [
        {
          "output_type": "execute_result",
          "data": {
            "text/plain": [
              "{'AAPL': 'Apple Inc', 'GOOG': 'Alphabet Inc', 'MSFT': 'Microsoft Corporation'}"
            ]
          },
          "metadata": {
            "tags": []
          },
          "execution_count": 43
        }
      ]
    },
    {
      "cell_type": "code",
      "metadata": {
        "execution": {
          "iopub.status.busy": "2021-08-08T17:20:34.378036Z",
          "iopub.execute_input": "2021-08-08T17:20:34.378691Z",
          "iopub.status.idle": "2021-08-08T17:20:34.391644Z",
          "shell.execute_reply.started": "2021-08-08T17:20:34.378654Z",
          "shell.execute_reply": "2021-08-08T17:20:34.390553Z"
        },
        "trusted": true,
        "colab": {
          "base_uri": "https://localhost:8080/"
        },
        "id": "wrIhc_RQ9724",
        "outputId": "8a8d9b3c-2a4a-4552-83b4-9fa592308a81"
      },
      "source": [
        "#lets create dictionary with multiple data types\n",
        "ticker = {\n",
        "    'symbol':'AAPL',\n",
        "    'price': 224.96,\n",
        "    'company': 'Apple Inc',\n",
        "    'founded': 1976,\n",
        "    'products': ['Machinstosh','iPad','iPod','iPhone']\n",
        "}\n",
        "ticker"
      ],
      "execution_count": 44,
      "outputs": [
        {
          "output_type": "execute_result",
          "data": {
            "text/plain": [
              "{'company': 'Apple Inc',\n",
              " 'founded': 1976,\n",
              " 'price': 224.96,\n",
              " 'products': ['Machinstosh', 'iPad', 'iPod', 'iPhone'],\n",
              " 'symbol': 'AAPL'}"
            ]
          },
          "metadata": {
            "tags": []
          },
          "execution_count": 44
        }
      ]
    },
    {
      "cell_type": "code",
      "metadata": {
        "execution": {
          "iopub.status.busy": "2021-08-08T17:20:34.393237Z",
          "iopub.execute_input": "2021-08-08T17:20:34.393903Z",
          "iopub.status.idle": "2021-08-08T17:20:34.403172Z",
          "shell.execute_reply.started": "2021-08-08T17:20:34.393849Z",
          "shell.execute_reply": "2021-08-08T17:20:34.401776Z"
        },
        "trusted": true,
        "id": "guZ08few9724"
      },
      "source": [
        "#lets create a nbested dictionary\n",
        "tick = {\n",
        "    'AAPL': {\n",
        "        'name': 'Apple Inc',\n",
        "        'price': 224.96\n",
        "    },\n",
        "    'GOOG': {\n",
        "        'name': 'Alphabet Inc',\n",
        "        'price': 1194.64\n",
        "    }\n",
        "}"
      ],
      "execution_count": 45,
      "outputs": []
    },
    {
      "cell_type": "code",
      "metadata": {
        "execution": {
          "iopub.status.busy": "2021-08-08T17:20:34.404649Z",
          "iopub.execute_input": "2021-08-08T17:20:34.405096Z",
          "iopub.status.idle": "2021-08-08T17:20:34.418785Z",
          "shell.execute_reply.started": "2021-08-08T17:20:34.405052Z",
          "shell.execute_reply": "2021-08-08T17:20:34.418026Z"
        },
        "trusted": true,
        "colab": {
          "base_uri": "https://localhost:8080/"
        },
        "id": "b7k88w_l9724",
        "outputId": "2c10142e-6119-40fc-c5b7-945e6d394fc9"
      },
      "source": [
        "tick "
      ],
      "execution_count": 46,
      "outputs": [
        {
          "output_type": "execute_result",
          "data": {
            "text/plain": [
              "{'AAPL': {'name': 'Apple Inc', 'price': 224.96},\n",
              " 'GOOG': {'name': 'Alphabet Inc', 'price': 1194.64}}"
            ]
          },
          "metadata": {
            "tags": []
          },
          "execution_count": 46
        }
      ]
    },
    {
      "cell_type": "code",
      "metadata": {
        "execution": {
          "iopub.status.busy": "2021-08-08T17:20:34.419725Z",
          "iopub.execute_input": "2021-08-08T17:20:34.420011Z",
          "iopub.status.idle": "2021-08-08T17:20:34.433747Z",
          "shell.execute_reply.started": "2021-08-08T17:20:34.419983Z",
          "shell.execute_reply": "2021-08-08T17:20:34.432537Z"
        },
        "trusted": true,
        "colab": {
          "base_uri": "https://localhost:8080/"
        },
        "id": "4ZzaPUP69724",
        "outputId": "28e0133b-0509-4f33-b6dd-11057a5f3192"
      },
      "source": [
        "#same keys\n",
        "same_keys = {\n",
        "    'symbol': 'AAPL',\n",
        "    'symbol': 'GOOG'\n",
        "\n",
        "}\n",
        "same_keys"
      ],
      "execution_count": 47,
      "outputs": [
        {
          "output_type": "execute_result",
          "data": {
            "text/plain": [
              "{'symbol': 'GOOG'}"
            ]
          },
          "metadata": {
            "tags": []
          },
          "execution_count": 47
        }
      ]
    },
    {
      "cell_type": "code",
      "metadata": {
        "execution": {
          "iopub.status.busy": "2021-08-08T17:20:34.435300Z",
          "iopub.execute_input": "2021-08-08T17:20:34.435668Z",
          "iopub.status.idle": "2021-08-08T17:20:34.447588Z",
          "shell.execute_reply.started": "2021-08-08T17:20:34.435635Z",
          "shell.execute_reply": "2021-08-08T17:20:34.446709Z"
        },
        "trusted": true,
        "colab": {
          "base_uri": "https://localhost:8080/"
        },
        "id": "qVmhjwpv9725",
        "outputId": "827c43d4-e465-4d82-8ae9-f036918a3b20"
      },
      "source": [
        "#Accessing the dictionary items\n",
        "ticker"
      ],
      "execution_count": 48,
      "outputs": [
        {
          "output_type": "execute_result",
          "data": {
            "text/plain": [
              "{'company': 'Apple Inc',\n",
              " 'founded': 1976,\n",
              " 'price': 224.96,\n",
              " 'products': ['Machinstosh', 'iPad', 'iPod', 'iPhone'],\n",
              " 'symbol': 'AAPL'}"
            ]
          },
          "metadata": {
            "tags": []
          },
          "execution_count": 48
        }
      ]
    },
    {
      "cell_type": "code",
      "metadata": {
        "execution": {
          "iopub.status.busy": "2021-08-08T17:20:34.448588Z",
          "iopub.execute_input": "2021-08-08T17:20:34.448928Z",
          "iopub.status.idle": "2021-08-08T17:20:34.462413Z",
          "shell.execute_reply.started": "2021-08-08T17:20:34.448895Z",
          "shell.execute_reply": "2021-08-08T17:20:34.461471Z"
        },
        "trusted": true,
        "colab": {
          "base_uri": "https://localhost:8080/"
        },
        "id": "G3q3RSWn9725",
        "outputId": "94517bbb-6dc1-4554-e02a-2aff17513c28"
      },
      "source": [
        "ticker['price']"
      ],
      "execution_count": 49,
      "outputs": [
        {
          "output_type": "execute_result",
          "data": {
            "text/plain": [
              "224.96"
            ]
          },
          "metadata": {
            "tags": []
          },
          "execution_count": 49
        }
      ]
    },
    {
      "cell_type": "code",
      "metadata": {
        "execution": {
          "iopub.status.busy": "2021-08-08T17:20:34.463900Z",
          "iopub.execute_input": "2021-08-08T17:20:34.464325Z",
          "iopub.status.idle": "2021-08-08T17:20:34.478480Z",
          "shell.execute_reply.started": "2021-08-08T17:20:34.464284Z",
          "shell.execute_reply": "2021-08-08T17:20:34.477420Z"
        },
        "trusted": true,
        "colab": {
          "base_uri": "https://localhost:8080/"
        },
        "id": "wz8ctffX9725",
        "outputId": "91e1ef8b-5e2e-464a-d170-e9f82ab36984"
      },
      "source": [
        "ticker['products']"
      ],
      "execution_count": 50,
      "outputs": [
        {
          "output_type": "execute_result",
          "data": {
            "text/plain": [
              "['Machinstosh', 'iPad', 'iPod', 'iPhone']"
            ]
          },
          "metadata": {
            "tags": []
          },
          "execution_count": 50
        }
      ]
    },
    {
      "cell_type": "code",
      "metadata": {
        "execution": {
          "iopub.status.busy": "2021-08-08T17:20:34.479799Z",
          "iopub.execute_input": "2021-08-08T17:20:34.480204Z",
          "iopub.status.idle": "2021-08-08T17:20:34.489862Z",
          "shell.execute_reply.started": "2021-08-08T17:20:34.480159Z",
          "shell.execute_reply": "2021-08-08T17:20:34.488785Z"
        },
        "trusted": true,
        "colab": {
          "base_uri": "https://localhost:8080/",
          "height": 35
        },
        "id": "2lxe9WMT9725",
        "outputId": "e0d2abb1-49db-4ff7-83d0-ff12e2001a61"
      },
      "source": [
        "ticker['products'][1]"
      ],
      "execution_count": 51,
      "outputs": [
        {
          "output_type": "execute_result",
          "data": {
            "application/vnd.google.colaboratory.intrinsic+json": {
              "type": "string"
            },
            "text/plain": [
              "'iPad'"
            ]
          },
          "metadata": {
            "tags": []
          },
          "execution_count": 51
        }
      ]
    },
    {
      "cell_type": "code",
      "metadata": {
        "execution": {
          "iopub.status.busy": "2021-08-08T17:20:34.491575Z",
          "iopub.execute_input": "2021-08-08T17:20:34.491895Z",
          "iopub.status.idle": "2021-08-08T17:20:34.505261Z",
          "shell.execute_reply.started": "2021-08-08T17:20:34.491864Z",
          "shell.execute_reply": "2021-08-08T17:20:34.504160Z"
        },
        "trusted": true,
        "colab": {
          "base_uri": "https://localhost:8080/"
        },
        "id": "8EDzwC5A9725",
        "outputId": "9d3d75cc-6b71-425c-b822-d240f2eeb844"
      },
      "source": [
        "#Lets update an new itme to the dictionary\n",
        "ticker['founders'] = ['Steve Jobs','Steve Woznaik','Ronald Wayne']\n",
        "ticker"
      ],
      "execution_count": 52,
      "outputs": [
        {
          "output_type": "execute_result",
          "data": {
            "text/plain": [
              "{'company': 'Apple Inc',\n",
              " 'founded': 1976,\n",
              " 'founders': ['Steve Jobs', 'Steve Woznaik', 'Ronald Wayne'],\n",
              " 'price': 224.96,\n",
              " 'products': ['Machinstosh', 'iPad', 'iPod', 'iPhone'],\n",
              " 'symbol': 'AAPL'}"
            ]
          },
          "metadata": {
            "tags": []
          },
          "execution_count": 52
        }
      ]
    },
    {
      "cell_type": "code",
      "metadata": {
        "execution": {
          "iopub.status.busy": "2021-08-08T17:20:34.506868Z",
          "iopub.execute_input": "2021-08-08T17:20:34.507296Z",
          "iopub.status.idle": "2021-08-08T17:20:34.517688Z",
          "shell.execute_reply.started": "2021-08-08T17:20:34.507249Z",
          "shell.execute_reply": "2021-08-08T17:20:34.516698Z"
        },
        "trusted": true,
        "colab": {
          "base_uri": "https://localhost:8080/"
        },
        "id": "53T2gA-49726",
        "outputId": "e2ff8f9a-aeb7-476d-f04b-12aec4a9eb27"
      },
      "source": [
        "#deleting an item\n",
        "del(ticker['founders'])\n",
        "ticker"
      ],
      "execution_count": 53,
      "outputs": [
        {
          "output_type": "execute_result",
          "data": {
            "text/plain": [
              "{'company': 'Apple Inc',\n",
              " 'founded': 1976,\n",
              " 'price': 224.96,\n",
              " 'products': ['Machinstosh', 'iPad', 'iPod', 'iPhone'],\n",
              " 'symbol': 'AAPL'}"
            ]
          },
          "metadata": {
            "tags": []
          },
          "execution_count": 53
        }
      ]
    },
    {
      "cell_type": "markdown",
      "metadata": {
        "id": "Owgf4NsZ9726"
      },
      "source": [
        "**Dictionary Methods**"
      ]
    },
    {
      "cell_type": "code",
      "metadata": {
        "execution": {
          "iopub.status.busy": "2021-08-08T17:20:34.519098Z",
          "iopub.execute_input": "2021-08-08T17:20:34.519773Z",
          "iopub.status.idle": "2021-08-08T17:20:34.531478Z",
          "shell.execute_reply.started": "2021-08-08T17:20:34.519728Z",
          "shell.execute_reply": "2021-08-08T17:20:34.530340Z"
        },
        "trusted": true,
        "colab": {
          "base_uri": "https://localhost:8080/"
        },
        "id": "bIYaQOT69726",
        "outputId": "d54d0e0f-25a1-40ab-f56e-572a3f883712"
      },
      "source": [
        "#lets find the length of the dictionary\n",
        "len(ticker)"
      ],
      "execution_count": 54,
      "outputs": [
        {
          "output_type": "execute_result",
          "data": {
            "text/plain": [
              "5"
            ]
          },
          "metadata": {
            "tags": []
          },
          "execution_count": 54
        }
      ]
    },
    {
      "cell_type": "code",
      "metadata": {
        "execution": {
          "iopub.status.busy": "2021-08-08T17:20:34.532750Z",
          "iopub.execute_input": "2021-08-08T17:20:34.533319Z",
          "iopub.status.idle": "2021-08-08T17:20:34.546596Z",
          "shell.execute_reply.started": "2021-08-08T17:20:34.533280Z",
          "shell.execute_reply": "2021-08-08T17:20:34.545814Z"
        },
        "trusted": true,
        "colab": {
          "base_uri": "https://localhost:8080/"
        },
        "id": "LEhESEJo9726",
        "outputId": "056ec654-fe3d-4a01-ad31-7e5cb5356f6e"
      },
      "source": [
        "#lets discuss some of the popular methods provided by dict class\n",
        "#items(): This method returns an object containing keys and values\n",
        "ticker.items()"
      ],
      "execution_count": 55,
      "outputs": [
        {
          "output_type": "execute_result",
          "data": {
            "text/plain": [
              "dict_items([('symbol', 'AAPL'), ('price', 224.96), ('company', 'Apple Inc'), ('founded', 1976), ('products', ['Machinstosh', 'iPad', 'iPod', 'iPhone'])])"
            ]
          },
          "metadata": {
            "tags": []
          },
          "execution_count": 55
        }
      ]
    },
    {
      "cell_type": "code",
      "metadata": {
        "execution": {
          "iopub.status.busy": "2021-08-08T17:20:34.547664Z",
          "iopub.execute_input": "2021-08-08T17:20:34.548166Z",
          "iopub.status.idle": "2021-08-08T17:20:34.560279Z",
          "shell.execute_reply.started": "2021-08-08T17:20:34.548122Z",
          "shell.execute_reply": "2021-08-08T17:20:34.559068Z"
        },
        "trusted": true,
        "colab": {
          "base_uri": "https://localhost:8080/"
        },
        "id": "M572PntR9726",
        "outputId": "59290a86-ff7d-44b3-9c85-3b1f33252633"
      },
      "source": [
        "#keys():This method returns all the keys of the calling dictionary\n",
        "ticker.keys()"
      ],
      "execution_count": 56,
      "outputs": [
        {
          "output_type": "execute_result",
          "data": {
            "text/plain": [
              "dict_keys(['symbol', 'price', 'company', 'founded', 'products'])"
            ]
          },
          "metadata": {
            "tags": []
          },
          "execution_count": 56
        }
      ]
    },
    {
      "cell_type": "code",
      "metadata": {
        "execution": {
          "iopub.status.busy": "2021-08-08T17:20:34.561805Z",
          "iopub.execute_input": "2021-08-08T17:20:34.562260Z",
          "iopub.status.idle": "2021-08-08T17:20:34.573749Z",
          "shell.execute_reply.started": "2021-08-08T17:20:34.562215Z",
          "shell.execute_reply": "2021-08-08T17:20:34.572830Z"
        },
        "trusted": true,
        "colab": {
          "base_uri": "https://localhost:8080/"
        },
        "id": "XUBVOKE19727",
        "outputId": "4aef370f-88a8-4909-d64a-e3e4d9dfc81b"
      },
      "source": [
        "#print all the values\n",
        "ticker.values()"
      ],
      "execution_count": 57,
      "outputs": [
        {
          "output_type": "execute_result",
          "data": {
            "text/plain": [
              "dict_values(['AAPL', 224.96, 'Apple Inc', 1976, ['Machinstosh', 'iPad', 'iPod', 'iPhone']])"
            ]
          },
          "metadata": {
            "tags": []
          },
          "execution_count": 57
        }
      ]
    },
    {
      "cell_type": "code",
      "metadata": {
        "execution": {
          "iopub.status.busy": "2021-08-08T17:20:34.575001Z",
          "iopub.execute_input": "2021-08-08T17:20:34.575639Z",
          "iopub.status.idle": "2021-08-08T17:20:34.585098Z",
          "shell.execute_reply.started": "2021-08-08T17:20:34.575590Z",
          "shell.execute_reply": "2021-08-08T17:20:34.584087Z"
        },
        "trusted": true,
        "colab": {
          "base_uri": "https://localhost:8080/",
          "height": 35
        },
        "id": "ABpDaKEY9727",
        "outputId": "6fb13fd1-c07c-4aad-ca18-9f75774a0c9a"
      },
      "source": [
        "#pop(key): This method pops out the item whose key is given as an argument\n",
        "tickers.pop('GOOG') "
      ],
      "execution_count": 58,
      "outputs": [
        {
          "output_type": "execute_result",
          "data": {
            "application/vnd.google.colaboratory.intrinsic+json": {
              "type": "string"
            },
            "text/plain": [
              "'Alphabet Inc'"
            ]
          },
          "metadata": {
            "tags": []
          },
          "execution_count": 58
        }
      ]
    },
    {
      "cell_type": "code",
      "metadata": {
        "execution": {
          "iopub.status.busy": "2021-08-08T17:20:34.586201Z",
          "iopub.execute_input": "2021-08-08T17:20:34.586622Z",
          "iopub.status.idle": "2021-08-08T17:20:34.596604Z",
          "shell.execute_reply.started": "2021-08-08T17:20:34.586590Z",
          "shell.execute_reply": "2021-08-08T17:20:34.595615Z"
        },
        "trusted": true,
        "colab": {
          "base_uri": "https://localhost:8080/"
        },
        "id": "qnO_LLR59727",
        "outputId": "2afb9104-e457-4405-8c3e-78f421a9b178"
      },
      "source": [
        "#copy(): This method copies the calling dictionary to another dictionary\n",
        "aapl = ticker.copy()\n",
        "aapl"
      ],
      "execution_count": 59,
      "outputs": [
        {
          "output_type": "execute_result",
          "data": {
            "text/plain": [
              "{'company': 'Apple Inc',\n",
              " 'founded': 1976,\n",
              " 'price': 224.96,\n",
              " 'products': ['Machinstosh', 'iPad', 'iPod', 'iPhone'],\n",
              " 'symbol': 'AAPL'}"
            ]
          },
          "metadata": {
            "tags": []
          },
          "execution_count": 59
        }
      ]
    },
    {
      "cell_type": "code",
      "metadata": {
        "execution": {
          "iopub.status.busy": "2021-08-08T17:20:34.597779Z",
          "iopub.execute_input": "2021-08-08T17:20:34.598047Z",
          "iopub.status.idle": "2021-08-08T17:20:34.614221Z",
          "shell.execute_reply.started": "2021-08-08T17:20:34.598021Z",
          "shell.execute_reply": "2021-08-08T17:20:34.613546Z"
        },
        "trusted": true,
        "colab": {
          "base_uri": "https://localhost:8080/"
        },
        "id": "yI48wU6W9727",
        "outputId": "80c7961b-4ce8-432e-83e9-bbfc074267ac"
      },
      "source": [
        "#lets delete all the contents of the dictionary\n",
        "aapl.clear()\n",
        "aapl"
      ],
      "execution_count": 60,
      "outputs": [
        {
          "output_type": "execute_result",
          "data": {
            "text/plain": [
              "{}"
            ]
          },
          "metadata": {
            "tags": []
          },
          "execution_count": 60
        }
      ]
    },
    {
      "cell_type": "code",
      "metadata": {
        "execution": {
          "iopub.status.busy": "2021-08-08T17:20:34.615150Z",
          "iopub.execute_input": "2021-08-08T17:20:34.615577Z",
          "iopub.status.idle": "2021-08-08T17:20:34.627660Z",
          "shell.execute_reply.started": "2021-08-08T17:20:34.615545Z",
          "shell.execute_reply": "2021-08-08T17:20:34.626790Z"
        },
        "trusted": true,
        "id": "JDZjxyeg9727"
      },
      "source": [
        "#update(): This method allows to add new key-value pair from another dictionary\n",
        "tk1 = {'NFLX':'Netflix'}\n",
        "tk2 = {'AMZN': 'Amazon'}"
      ],
      "execution_count": 61,
      "outputs": []
    },
    {
      "cell_type": "code",
      "metadata": {
        "execution": {
          "iopub.status.busy": "2021-08-08T17:20:34.628666Z",
          "iopub.execute_input": "2021-08-08T17:20:34.629049Z",
          "iopub.status.idle": "2021-08-08T17:20:34.640720Z",
          "shell.execute_reply.started": "2021-08-08T17:20:34.629020Z",
          "shell.execute_reply": "2021-08-08T17:20:34.639733Z"
        },
        "trusted": true,
        "id": "PdlSK-B39727"
      },
      "source": [
        "new_tk = {}"
      ],
      "execution_count": 62,
      "outputs": []
    },
    {
      "cell_type": "code",
      "metadata": {
        "execution": {
          "iopub.status.busy": "2021-08-08T17:20:34.641781Z",
          "iopub.execute_input": "2021-08-08T17:20:34.642066Z",
          "iopub.status.idle": "2021-08-08T17:20:34.657685Z",
          "shell.execute_reply.started": "2021-08-08T17:20:34.642037Z",
          "shell.execute_reply": "2021-08-08T17:20:34.656807Z"
        },
        "trusted": true,
        "colab": {
          "base_uri": "https://localhost:8080/"
        },
        "id": "WNc458LI9728",
        "outputId": "1a8bbce9-cbb8-4ec7-f648-877776c43a36"
      },
      "source": [
        "new_tk.update(tk1)\n",
        "new_tk"
      ],
      "execution_count": 63,
      "outputs": [
        {
          "output_type": "execute_result",
          "data": {
            "text/plain": [
              "{'NFLX': 'Netflix'}"
            ]
          },
          "metadata": {
            "tags": []
          },
          "execution_count": 63
        }
      ]
    },
    {
      "cell_type": "code",
      "metadata": {
        "execution": {
          "iopub.status.busy": "2021-08-08T17:20:34.658918Z",
          "iopub.execute_input": "2021-08-08T17:20:34.659200Z",
          "iopub.status.idle": "2021-08-08T17:20:34.671544Z",
          "shell.execute_reply.started": "2021-08-08T17:20:34.659172Z",
          "shell.execute_reply": "2021-08-08T17:20:34.670526Z"
        },
        "trusted": true,
        "colab": {
          "base_uri": "https://localhost:8080/"
        },
        "id": "LFCp3vaO9728",
        "outputId": "a39ac547-09a6-4998-c154-dfcf0b88c11c"
      },
      "source": [
        "new_tk.update(tk2)\n",
        "new_tk"
      ],
      "execution_count": 64,
      "outputs": [
        {
          "output_type": "execute_result",
          "data": {
            "text/plain": [
              "{'AMZN': 'Amazon', 'NFLX': 'Netflix'}"
            ]
          },
          "metadata": {
            "tags": []
          },
          "execution_count": 64
        }
      ]
    },
    {
      "cell_type": "code",
      "metadata": {
        "execution": {
          "iopub.status.busy": "2021-08-08T17:20:34.672650Z",
          "iopub.execute_input": "2021-08-08T17:20:34.672928Z",
          "iopub.status.idle": "2021-08-08T17:20:34.683069Z",
          "shell.execute_reply.started": "2021-08-08T17:20:34.672902Z",
          "shell.execute_reply": "2021-08-08T17:20:34.682352Z"
        },
        "trusted": true,
        "id": "8gWxlR-B9728"
      },
      "source": [
        "dik = {'ho': 'hoho', 'la': 'lala'}\n",
        "new_tk.update(dik)"
      ],
      "execution_count": 65,
      "outputs": []
    }
  ]
}