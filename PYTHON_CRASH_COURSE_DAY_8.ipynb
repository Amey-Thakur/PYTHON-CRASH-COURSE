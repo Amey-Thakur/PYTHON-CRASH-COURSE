{
  "nbformat": 4,
  "nbformat_minor": 0,
  "metadata": {
    "kernelspec": {
      "language": "python",
      "display_name": "Python 3",
      "name": "python3"
    },
    "language_info": {
      "name": "python",
      "version": "3.7.10",
      "mimetype": "text/x-python",
      "codemirror_mode": {
        "name": "ipython",
        "version": 3
      },
      "pygments_lexer": "ipython3",
      "nbconvert_exporter": "python",
      "file_extension": ".py"
    },
    "colab": {
      "name": "PYTHON-CRASH-COURSE-DAY-8.ipynb",
      "provenance": [],
      "include_colab_link": true
    }
  },
  "cells": [
    {
      "cell_type": "markdown",
      "metadata": {
        "id": "view-in-github",
        "colab_type": "text"
      },
      "source": [
        "<a href=\"https://colab.research.google.com/github/Amey-Thakur/PYTHON-CRASH-COURSE/blob/main/PYTHON_CRASH_COURSE_DAY_8.ipynb\" target=\"_parent\"><img src=\"https://colab.research.google.com/assets/colab-badge.svg\" alt=\"Open In Colab\"/></a>"
      ]
    },
    {
      "cell_type": "markdown",
      "metadata": {
        "id": "sE5dPYylYQXG"
      },
      "source": [
        "# **Day 8**\n",
        "\n",
        "**Linear Regression**\n",
        "\n",
        "Its a method used to find the relationship between dependent variable and independent variable."
      ]
    },
    {
      "cell_type": "markdown",
      "metadata": {
        "id": "oshGOK-1YQXH"
      },
      "source": [
        "**Problem Statement**\n",
        "\n",
        "To predict the relationship between headsize and brain weight"
      ]
    },
    {
      "cell_type": "code",
      "metadata": {
        "execution": {
          "iopub.status.busy": "2021-08-08T20:07:09.255561Z",
          "iopub.execute_input": "2021-08-08T20:07:09.256128Z",
          "iopub.status.idle": "2021-08-08T20:07:09.270347Z",
          "shell.execute_reply.started": "2021-08-08T20:07:09.256041Z",
          "shell.execute_reply": "2021-08-08T20:07:09.269083Z"
        },
        "trusted": true,
        "id": "v7aKrgBSYQXH"
      },
      "source": [
        "#lets import the required libraries, pandas, numpy, matplotlib\n",
        "import numpy as np\n",
        "import pandas as pd\n",
        "import matplotlib.pyplot as plt\n",
        "%matplotlib inline"
      ],
      "execution_count": 1,
      "outputs": []
    },
    {
      "cell_type": "code",
      "metadata": {
        "execution": {
          "iopub.status.busy": "2021-08-08T20:07:09.271638Z",
          "iopub.execute_input": "2021-08-08T20:07:09.272030Z",
          "iopub.status.idle": "2021-08-08T20:07:09.477983Z",
          "shell.execute_reply.started": "2021-08-08T20:07:09.272001Z",
          "shell.execute_reply": "2021-08-08T20:07:09.476881Z"
        },
        "trusted": true,
        "colab": {
          "base_uri": "https://localhost:8080/",
          "height": 203
        },
        "id": "1Oqae_qWYQXI",
        "outputId": "cea118c4-28a6-419a-ddec-c8d27fc6373b"
      },
      "source": [
        "#load the dataset into variable called dataset and display the 5 rows of the dataset, and also print the shape of the dataset\n",
        "dataset = pd.read_csv('/content/dataset.csv')\n",
        "dataset.head()"
      ],
      "execution_count": 2,
      "outputs": [
        {
          "output_type": "execute_result",
          "data": {
            "text/html": [
              "<div>\n",
              "<style scoped>\n",
              "    .dataframe tbody tr th:only-of-type {\n",
              "        vertical-align: middle;\n",
              "    }\n",
              "\n",
              "    .dataframe tbody tr th {\n",
              "        vertical-align: top;\n",
              "    }\n",
              "\n",
              "    .dataframe thead th {\n",
              "        text-align: right;\n",
              "    }\n",
              "</style>\n",
              "<table border=\"1\" class=\"dataframe\">\n",
              "  <thead>\n",
              "    <tr style=\"text-align: right;\">\n",
              "      <th></th>\n",
              "      <th>Gender</th>\n",
              "      <th>Age Range</th>\n",
              "      <th>Head Size(cm^3)</th>\n",
              "      <th>Brain Weight(grams)</th>\n",
              "    </tr>\n",
              "  </thead>\n",
              "  <tbody>\n",
              "    <tr>\n",
              "      <th>0</th>\n",
              "      <td>1</td>\n",
              "      <td>1</td>\n",
              "      <td>4512</td>\n",
              "      <td>1530</td>\n",
              "    </tr>\n",
              "    <tr>\n",
              "      <th>1</th>\n",
              "      <td>1</td>\n",
              "      <td>1</td>\n",
              "      <td>3738</td>\n",
              "      <td>1297</td>\n",
              "    </tr>\n",
              "    <tr>\n",
              "      <th>2</th>\n",
              "      <td>1</td>\n",
              "      <td>1</td>\n",
              "      <td>4261</td>\n",
              "      <td>1335</td>\n",
              "    </tr>\n",
              "    <tr>\n",
              "      <th>3</th>\n",
              "      <td>1</td>\n",
              "      <td>1</td>\n",
              "      <td>3777</td>\n",
              "      <td>1282</td>\n",
              "    </tr>\n",
              "    <tr>\n",
              "      <th>4</th>\n",
              "      <td>1</td>\n",
              "      <td>1</td>\n",
              "      <td>4177</td>\n",
              "      <td>1590</td>\n",
              "    </tr>\n",
              "  </tbody>\n",
              "</table>\n",
              "</div>"
            ],
            "text/plain": [
              "   Gender  Age Range  Head Size(cm^3)  Brain Weight(grams)\n",
              "0       1          1             4512                 1530\n",
              "1       1          1             3738                 1297\n",
              "2       1          1             4261                 1335\n",
              "3       1          1             3777                 1282\n",
              "4       1          1             4177                 1590"
            ]
          },
          "metadata": {
            "tags": []
          },
          "execution_count": 2
        }
      ]
    },
    {
      "cell_type": "code",
      "metadata": {
        "execution": {
          "iopub.status.busy": "2021-08-08T20:07:09.479583Z",
          "iopub.execute_input": "2021-08-08T20:07:09.479962Z",
          "iopub.status.idle": "2021-08-08T20:07:09.487414Z",
          "shell.execute_reply.started": "2021-08-08T20:07:09.479932Z",
          "shell.execute_reply": "2021-08-08T20:07:09.485717Z"
        },
        "trusted": true,
        "colab": {
          "base_uri": "https://localhost:8080/"
        },
        "id": "Qa27Wi0VYQXI",
        "outputId": "fc965876-b809-403d-9b57-d0e0ea9d036a"
      },
      "source": [
        "dataset.shape"
      ],
      "execution_count": 3,
      "outputs": [
        {
          "output_type": "execute_result",
          "data": {
            "text/plain": [
              "(237, 4)"
            ]
          },
          "metadata": {
            "tags": []
          },
          "execution_count": 3
        }
      ]
    },
    {
      "cell_type": "code",
      "metadata": {
        "execution": {
          "iopub.status.busy": "2021-08-08T20:07:09.489296Z",
          "iopub.execute_input": "2021-08-08T20:07:09.489654Z",
          "iopub.status.idle": "2021-08-08T20:07:09.512489Z",
          "shell.execute_reply.started": "2021-08-08T20:07:09.489623Z",
          "shell.execute_reply": "2021-08-08T20:07:09.511763Z"
        },
        "trusted": true,
        "id": "oTYT7Lb9YQXJ"
      },
      "source": [
        "#fetch the headsize column and store it X, and Brainweight column to Y\n",
        "X = dataset['Head Size(cm^3)']\n",
        "Y = dataset['Brain Weight(grams)']"
      ],
      "execution_count": 4,
      "outputs": []
    },
    {
      "cell_type": "code",
      "metadata": {
        "execution": {
          "iopub.status.busy": "2021-08-08T20:07:09.514122Z",
          "iopub.execute_input": "2021-08-08T20:07:09.514572Z",
          "iopub.status.idle": "2021-08-08T20:07:09.533204Z",
          "shell.execute_reply.started": "2021-08-08T20:07:09.514535Z",
          "shell.execute_reply": "2021-08-08T20:07:09.532275Z"
        },
        "trusted": true,
        "id": "QJ3O6L61YQXJ"
      },
      "source": [
        "#find the mean of X and Y, and store it in x_mean and y_mean respectively, hint(for mean, use np.mean())\n",
        "x_mean = np.mean(X)\n",
        "y_mean = np.mean(Y)"
      ],
      "execution_count": 5,
      "outputs": []
    },
    {
      "cell_type": "code",
      "metadata": {
        "execution": {
          "iopub.status.busy": "2021-08-08T20:07:09.534130Z",
          "iopub.execute_input": "2021-08-08T20:07:09.534423Z",
          "iopub.status.idle": "2021-08-08T20:07:09.551740Z",
          "shell.execute_reply.started": "2021-08-08T20:07:09.534400Z",
          "shell.execute_reply": "2021-08-08T20:07:09.550927Z"
        },
        "trusted": true,
        "id": "pCvQLSIsYQXJ"
      },
      "source": [
        "#find the total values of X\n",
        "n = len(X)"
      ],
      "execution_count": 6,
      "outputs": []
    },
    {
      "cell_type": "code",
      "metadata": {
        "execution": {
          "iopub.status.busy": "2021-08-08T20:07:09.552695Z",
          "iopub.execute_input": "2021-08-08T20:07:09.553019Z",
          "iopub.status.idle": "2021-08-08T20:07:09.577061Z",
          "shell.execute_reply.started": "2021-08-08T20:07:09.552995Z",
          "shell.execute_reply": "2021-08-08T20:07:09.575992Z"
        },
        "trusted": true,
        "id": "klaLsu5EYQXK"
      },
      "source": [
        "#using the formula to calculate m and c\n",
        "numerator = 0\n",
        "denominator = 0\n",
        "\n",
        "for i in range(n):\n",
        "  numerator += (X[i] - x_mean) * (Y[i] - y_mean)\n",
        "  denominator += (X[i] - x_mean) **2\n",
        "\n",
        "m = numerator / denominator\n",
        "c = y_mean - (m * x_mean)"
      ],
      "execution_count": 7,
      "outputs": []
    },
    {
      "cell_type": "markdown",
      "metadata": {
        "id": "-R_5Fxe0YQXK"
      },
      "source": [
        "AS we have our linear model, let plot it graphically."
      ]
    },
    {
      "cell_type": "code",
      "metadata": {
        "execution": {
          "iopub.status.busy": "2021-08-08T20:07:09.579211Z",
          "iopub.execute_input": "2021-08-08T20:07:09.579642Z",
          "iopub.status.idle": "2021-08-08T20:07:09.858191Z",
          "shell.execute_reply.started": "2021-08-08T20:07:09.579609Z",
          "shell.execute_reply": "2021-08-08T20:07:09.856933Z"
        },
        "trusted": true,
        "colab": {
          "base_uri": "https://localhost:8080/",
          "height": 279
        },
        "id": "MJJV-US1YQXK",
        "outputId": "f929442b-032d-4a79-d344-367b6ed0c6b7"
      },
      "source": [
        "#plotting the values\n",
        "x_max = np.max(X)\n",
        "x_min = np.min(X)\n",
        "\n",
        "#lets calculate the line values of X and Y\n",
        "x = np.linspace(x_min, x_max, 1000, endpoint=True)\n",
        "y = c + m*x\n",
        "\n",
        "#lets plot the line \n",
        "plt.plot(x,y, color='g', label='Linear Regression')\n",
        "\n",
        "\n",
        "#lets plot the datapoints\n",
        "plt.scatter(X,Y, color='r', label='Data Points')\n",
        "\n",
        "\n",
        "#x-axis\n",
        "plt.xlabel('Head Size(cm^3)')\n",
        "\n",
        "#y-axis\n",
        "plt.ylabel('Brain Weight(grams)')\n",
        "\n",
        "plt.legend()\n",
        "plt.show()"
      ],
      "execution_count": 8,
      "outputs": [
        {
          "output_type": "display_data",
          "data": {
            "image/png": "[encoded data removed]",
            "text/plain": [
              "<Figure size 432x288 with 1 Axes>"
            ]
          },
          "metadata": {
            "tags": [],
            "needs_background": "light"
          }
        }
      ]
    },
    {
      "cell_type": "code",
      "metadata": {
        "execution": {
          "iopub.status.busy": "2021-08-08T20:07:09.860008Z",
          "iopub.execute_input": "2021-08-08T20:07:09.860299Z",
          "iopub.status.idle": "2021-08-08T20:07:09.869536Z",
          "shell.execute_reply.started": "2021-08-08T20:07:09.860276Z",
          "shell.execute_reply": "2021-08-08T20:07:09.868375Z"
        },
        "trusted": true,
        "colab": {
          "base_uri": "https://localhost:8080/"
        },
        "id": "FBDkkV34YQXK",
        "outputId": "e5f7008a-64a9-4f7a-ab2b-d2d1b26411f7"
      },
      "source": [
        "#lets find the RMSE\n",
        "rmse = 0\n",
        "for i in range(n):\n",
        "  y_pred = c + (m * X[i])\n",
        "  rmse += (Y[i] - y_pred) **2\n",
        "\n",
        "rmse = np.sqrt(rmse/n)\n",
        "print(\"Root Mean Square Error is: \",rmse)"
      ],
      "execution_count": 9,
      "outputs": [
        {
          "output_type": "stream",
          "text": [
            "Root Mean Square Error is:  72.1206213783709\n"
          ],
          "name": "stdout"
        }
      ]
    },
    {
      "cell_type": "code",
      "metadata": {
        "execution": {
          "iopub.status.busy": "2021-08-08T20:07:09.870553Z",
          "iopub.execute_input": "2021-08-08T20:07:09.870780Z",
          "iopub.status.idle": "2021-08-08T20:07:09.891574Z",
          "shell.execute_reply.started": "2021-08-08T20:07:09.870756Z",
          "shell.execute_reply": "2021-08-08T20:07:09.890414Z"
        },
        "trusted": true,
        "colab": {
          "base_uri": "https://localhost:8080/"
        },
        "id": "rAqAEhuSYQXL",
        "outputId": "e4affdfa-7704-42a9-d207-64404c4de4e5"
      },
      "source": [
        "#lets find the accuracy of our model\n",
        "sst = 0\n",
        "ssr = 0\n",
        "for i in range(n):\n",
        "  y_pred = c + (m * X[i])\n",
        "  sst += (Y[i] - y_mean) **2\n",
        "  ssr += (Y[i] - y_pred) **2\n",
        "\n",
        "score = 1 - (ssr/sst)\n",
        "print(\"R^2 score is: \",score)"
      ],
      "execution_count": 10,
      "outputs": [
        {
          "output_type": "stream",
          "text": [
            "R^2 score is:  0.6393117199570003\n"
          ],
          "name": "stdout"
        }
      ]
    }
  ]
}