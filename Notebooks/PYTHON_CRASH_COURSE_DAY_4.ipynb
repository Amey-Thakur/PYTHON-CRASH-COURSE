{
  "nbformat": 4,
  "nbformat_minor": 0,
  "metadata": {
    "kernelspec": {
      "language": "python",
      "display_name": "Python 3",
      "name": "python3"
    },
    "language_info": {
      "pygments_lexer": "ipython3",
      "nbconvert_exporter": "python",
      "version": "3.6.4",
      "file_extension": ".py",
      "codemirror_mode": {
        "name": "ipython",
        "version": 3
      },
      "name": "python",
      "mimetype": "text/x-python"
    },
    "colab": {
      "name": "PYTHON-CRASH-COURSE-DAY-4.ipynb",
      "provenance": [],
      "include_colab_link": true
    }
  },
  "cells": [
    {
      "cell_type": "markdown",
      "metadata": {
        "id": "view-in-github",
        "colab_type": "text"
      },
      "source": [
        "<a href=\"https://colab.research.google.com/github/Amey-Thakur/PYTHON-CRASH-COURSE/blob/main/PYTHON_CRASH_COURSE_DAY_4.ipynb\" target=\"_parent\"><img src=\"https://colab.research.google.com/assets/colab-badge.svg\" alt=\"Open In Colab\"/></a>"
      ]
    },
    {
      "cell_type": "markdown",
      "metadata": {
        "id": "YIPUrNwZGTTQ"
      },
      "source": [
        "# **Day 4**\n",
        "\n",
        "**List Comprehensions**\n",
        "\n",
        "\n",
        "It is an elegant way to define and create a list in Python. It is used to create a new list from another sequence, just like mathematical set notations in a single line.\n",
        "\n",
        "syn: [output expression for item in sequence if condition]"
      ]
    },
    {
      "cell_type": "code",
      "metadata": {
        "execution": {
          "iopub.status.busy": "2021-08-08T18:44:35.987949Z",
          "iopub.execute_input": "2021-08-08T18:44:35.988299Z",
          "iopub.status.idle": "2021-08-08T18:44:36.000878Z",
          "shell.execute_reply.started": "2021-08-08T18:44:35.988221Z",
          "shell.execute_reply": "2021-08-08T18:44:35.999995Z"
        },
        "trusted": true,
        "colab": {
          "base_uri": "https://localhost:8080/"
        },
        "id": "INPXBP_oGTTR",
        "outputId": "850123a4-7030-43eb-d587-98d6878d46c0"
      },
      "source": [
        "#so lets follow an traditional way of creating list using for loop\n",
        "cube_list = []\n",
        "\n",
        "for i in range(0,10):\n",
        "  cube_list.append(i**3)\n",
        "\n",
        "cube_list"
      ],
      "execution_count": 1,
      "outputs": [
        {
          "output_type": "execute_result",
          "data": {
            "text/plain": [
              "[0, 1, 8, 27, 64, 125, 216, 343, 512, 729]"
            ]
          },
          "metadata": {
            "tags": []
          },
          "execution_count": 1
        }
      ]
    },
    {
      "cell_type": "code",
      "metadata": {
        "execution": {
          "iopub.status.busy": "2021-08-08T18:44:36.002189Z",
          "iopub.execute_input": "2021-08-08T18:44:36.002545Z",
          "iopub.status.idle": "2021-08-08T18:44:36.011621Z",
          "shell.execute_reply.started": "2021-08-08T18:44:36.002406Z",
          "shell.execute_reply": "2021-08-08T18:44:36.010563Z"
        },
        "trusted": true,
        "colab": {
          "base_uri": "https://localhost:8080/"
        },
        "id": "3esPSZF8GTTS",
        "outputId": "efd12c50-6d8e-4168-ceb7-820a5d059484"
      },
      "source": [
        "#list comprehension\n",
        "[i**3 for i in range(0,10)]"
      ],
      "execution_count": 2,
      "outputs": [
        {
          "output_type": "execute_result",
          "data": {
            "text/plain": [
              "[0, 1, 8, 27, 64, 125, 216, 343, 512, 729]"
            ]
          },
          "metadata": {
            "tags": []
          },
          "execution_count": 2
        }
      ]
    },
    {
      "cell_type": "code",
      "metadata": {
        "execution": {
          "iopub.status.busy": "2021-08-08T18:44:36.013350Z",
          "iopub.execute_input": "2021-08-08T18:44:36.013675Z",
          "iopub.status.idle": "2021-08-08T18:44:36.021170Z",
          "shell.execute_reply.started": "2021-08-08T18:44:36.013637Z",
          "shell.execute_reply": "2021-08-08T18:44:36.020139Z"
        },
        "trusted": true,
        "colab": {
          "base_uri": "https://localhost:8080/"
        },
        "id": "1t9x_ptGGTTT",
        "outputId": "a986aa4b-071e-4468-aeeb-a33c7e3fde78"
      },
      "source": [
        "#lets use filtering using condition\n",
        "#traditional way\n",
        "cub_lst = []\n",
        "\n",
        "for i in range(1,20):\n",
        "  if(i%2==0):\n",
        "    cub_lst.append(i**3)\n",
        "\n",
        "print(cub_lst)"
      ],
      "execution_count": 3,
      "outputs": [
        {
          "output_type": "stream",
          "text": [
            "[8, 64, 216, 512, 1000, 1728, 2744, 4096, 5832]\n"
          ],
          "name": "stdout"
        }
      ]
    },
    {
      "cell_type": "code",
      "metadata": {
        "execution": {
          "iopub.status.busy": "2021-08-08T18:44:36.022284Z",
          "iopub.execute_input": "2021-08-08T18:44:36.022672Z",
          "iopub.status.idle": "2021-08-08T18:44:36.032474Z",
          "shell.execute_reply.started": "2021-08-08T18:44:36.022634Z",
          "shell.execute_reply": "2021-08-08T18:44:36.031569Z"
        },
        "trusted": true,
        "colab": {
          "base_uri": "https://localhost:8080/"
        },
        "id": "nYKxLl3MGTTU",
        "outputId": "4aaedfaa-6327-4dc9-d3a4-fb92d87447ff"
      },
      "source": [
        "#using list comprehension\n",
        "[i**3 for i in range(1,20) if(i%2==0)]"
      ],
      "execution_count": 4,
      "outputs": [
        {
          "output_type": "execute_result",
          "data": {
            "text/plain": [
              "[8, 64, 216, 512, 1000, 1728, 2744, 4096, 5832]"
            ]
          },
          "metadata": {
            "tags": []
          },
          "execution_count": 4
        }
      ]
    },
    {
      "cell_type": "code",
      "metadata": {
        "execution": {
          "iopub.status.busy": "2021-08-08T18:44:36.034523Z",
          "iopub.execute_input": "2021-08-08T18:44:36.034875Z",
          "iopub.status.idle": "2021-08-08T18:44:36.043383Z",
          "shell.execute_reply.started": "2021-08-08T18:44:36.034839Z",
          "shell.execute_reply": "2021-08-08T18:44:36.042534Z"
        },
        "trusted": true,
        "colab": {
          "base_uri": "https://localhost:8080/"
        },
        "id": "h5BibaVeGTTU",
        "outputId": "daa54cdd-ad3c-42a2-f7b2-6bd9002078e4"
      },
      "source": [
        "#task: wap to check list comprehension using multiple conditons\n",
        "[i for i in range(1,100) if (i%2 ==0) if (i%3 == 0)]"
      ],
      "execution_count": 5,
      "outputs": [
        {
          "output_type": "execute_result",
          "data": {
            "text/plain": [
              "[6, 12, 18, 24, 30, 36, 42, 48, 54, 60, 66, 72, 78, 84, 90, 96]"
            ]
          },
          "metadata": {
            "tags": []
          },
          "execution_count": 5
        }
      ]
    },
    {
      "cell_type": "code",
      "metadata": {
        "execution": {
          "iopub.status.busy": "2021-08-08T18:44:36.044967Z",
          "iopub.execute_input": "2021-08-08T18:44:36.045535Z",
          "iopub.status.idle": "2021-08-08T18:44:36.053831Z",
          "shell.execute_reply.started": "2021-08-08T18:44:36.045495Z",
          "shell.execute_reply": "2021-08-08T18:44:36.052946Z"
        },
        "trusted": true,
        "colab": {
          "base_uri": "https://localhost:8080/"
        },
        "id": "IBxwt7E7GTTV",
        "outputId": "0a358a78-5107-4c2a-cea6-5e1027c910b2"
      },
      "source": [
        "#Task: Segregate a list of positive numbers into Even and Odd in range 1 to 10\n",
        "[str(i) + ': Even' if (i%2 == 0) else str(i)+ ':Odd' for i in range(1,10)]"
      ],
      "execution_count": 6,
      "outputs": [
        {
          "output_type": "execute_result",
          "data": {
            "text/plain": [
              "['1:Odd',\n",
              " '2: Even',\n",
              " '3:Odd',\n",
              " '4: Even',\n",
              " '5:Odd',\n",
              " '6: Even',\n",
              " '7:Odd',\n",
              " '8: Even',\n",
              " '9:Odd']"
            ]
          },
          "metadata": {
            "tags": []
          },
          "execution_count": 6
        }
      ]
    },
    {
      "cell_type": "code",
      "metadata": {
        "execution": {
          "iopub.status.busy": "2021-08-08T18:44:36.054921Z",
          "iopub.execute_input": "2021-08-08T18:44:36.055235Z",
          "iopub.status.idle": "2021-08-08T18:44:36.063815Z",
          "shell.execute_reply.started": "2021-08-08T18:44:36.055207Z",
          "shell.execute_reply": "2021-08-08T18:44:36.062665Z"
        },
        "trusted": true,
        "colab": {
          "base_uri": "https://localhost:8080/"
        },
        "id": "U6qLGEu4GTTV",
        "outputId": "7f4e7f12-f5b4-48ab-b175-8c2cf917b176"
      },
      "source": [
        "#task: print table of 7 using list comprehension\n",
        "[i * j for j in range(1,11) for i in range(7,8)]"
      ],
      "execution_count": 7,
      "outputs": [
        {
          "output_type": "execute_result",
          "data": {
            "text/plain": [
              "[7, 14, 21, 28, 35, 42, 49, 56, 63, 70]"
            ]
          },
          "metadata": {
            "tags": []
          },
          "execution_count": 7
        }
      ]
    },
    {
      "cell_type": "markdown",
      "metadata": {
        "id": "2INmF2tzGTTV"
      },
      "source": [
        "**Functions in Python**\n",
        "\n",
        "A function in python is a block of code (that performs a specific task) which runs only when it is called. "
      ]
    },
    {
      "cell_type": "code",
      "metadata": {
        "execution": {
          "iopub.status.busy": "2021-08-08T18:44:36.064963Z",
          "iopub.execute_input": "2021-08-08T18:44:36.065304Z",
          "iopub.status.idle": "2021-08-08T18:44:36.072276Z",
          "shell.execute_reply.started": "2021-08-08T18:44:36.065279Z",
          "shell.execute_reply": "2021-08-08T18:44:36.071486Z"
        },
        "trusted": true,
        "id": "-qzI5mPlGTTW"
      },
      "source": [
        "#lets define a function\n",
        "def greet():\n",
        "  \"\"\"Block of Statements or body\n",
        "  of a function\"\"\"\n",
        "\n",
        "  print('Hello!, i m printing from inside the functions greet')"
      ],
      "execution_count": 8,
      "outputs": []
    },
    {
      "cell_type": "code",
      "metadata": {
        "execution": {
          "iopub.status.busy": "2021-08-08T18:44:36.073330Z",
          "iopub.execute_input": "2021-08-08T18:44:36.073698Z",
          "iopub.status.idle": "2021-08-08T18:44:36.085011Z",
          "shell.execute_reply.started": "2021-08-08T18:44:36.073663Z",
          "shell.execute_reply": "2021-08-08T18:44:36.083992Z"
        },
        "trusted": true,
        "colab": {
          "base_uri": "https://localhost:8080/"
        },
        "id": "taKcMtx0GTTW",
        "outputId": "220197b4-e2ac-4cd9-d5c2-c9b2ac609c86"
      },
      "source": [
        "greet()"
      ],
      "execution_count": 9,
      "outputs": [
        {
          "output_type": "stream",
          "text": [
            "Hello!, i m printing from inside the functions greet\n"
          ],
          "name": "stdout"
        }
      ]
    },
    {
      "cell_type": "code",
      "metadata": {
        "execution": {
          "iopub.status.busy": "2021-08-08T18:44:36.168688Z",
          "iopub.execute_input": "2021-08-08T18:44:36.168967Z",
          "iopub.status.idle": "2021-08-08T18:44:36.173019Z",
          "shell.execute_reply.started": "2021-08-08T18:44:36.168942Z",
          "shell.execute_reply": "2021-08-08T18:44:36.172386Z"
        },
        "trusted": true,
        "id": "UrWI09l6GTTX"
      },
      "source": [
        "#task: wap to find the factorial of a given number\n",
        "def fact():\n",
        "  num = int(input('Enter the number: '))\n",
        "  i, facto = 1,1\n",
        "  while(i<=num):\n",
        "    facto = facto * i\n",
        "    i += 1\n",
        "  print('The factorial of {0} is {1}!'.format(num, facto))"
      ],
      "execution_count": 10,
      "outputs": []
    },
    {
      "cell_type": "code",
      "metadata": {
        "execution": {
          "iopub.status.busy": "2021-08-08T18:44:36.174458Z",
          "iopub.execute_input": "2021-08-08T18:44:36.174788Z",
          "iopub.status.idle": "2021-08-08T18:44:45.884857Z",
          "shell.execute_reply.started": "2021-08-08T18:44:36.174761Z",
          "shell.execute_reply": "2021-08-08T18:44:45.883796Z"
        },
        "trusted": true,
        "colab": {
          "base_uri": "https://localhost:8080/"
        },
        "id": "FCiucqseGTTX",
        "outputId": "8c4f536a-2901-4818-d008-6ad483f1db21"
      },
      "source": [
        "fact()"
      ],
      "execution_count": 11,
      "outputs": [
        {
          "output_type": "stream",
          "text": [
            "Enter the number: 20\n",
            "The factorial of 20 is 2432902008176640000!\n"
          ],
          "name": "stdout"
        }
      ]
    },
    {
      "cell_type": "code",
      "metadata": {
        "execution": {
          "iopub.status.busy": "2021-08-08T18:44:45.886036Z",
          "iopub.execute_input": "2021-08-08T18:44:45.886298Z",
          "iopub.status.idle": "2021-08-08T18:44:45.889937Z",
          "shell.execute_reply.started": "2021-08-08T18:44:45.886271Z",
          "shell.execute_reply": "2021-08-08T18:44:45.889309Z"
        },
        "trusted": true,
        "id": "IuHL-4aWGTTY"
      },
      "source": [
        "#Functions with parameters\n",
        "def greet(p_name):\n",
        "  \"\"\"This is a function which takes an argument as\n",
        "  person name, and greets him/her with greetings\"\"\"\n",
        "  print(\"Howdy Mr/Ms: \",p_name)"
      ],
      "execution_count": 12,
      "outputs": []
    },
    {
      "cell_type": "code",
      "metadata": {
        "execution": {
          "iopub.status.busy": "2021-08-08T18:44:45.890929Z",
          "iopub.execute_input": "2021-08-08T18:44:45.891359Z",
          "iopub.status.idle": "2021-08-08T18:44:54.455971Z",
          "shell.execute_reply.started": "2021-08-08T18:44:45.891319Z",
          "shell.execute_reply": "2021-08-08T18:44:54.455077Z"
        },
        "trusted": true,
        "colab": {
          "base_uri": "https://localhost:8080/"
        },
        "id": "DjThK68sGTTY",
        "outputId": "1782c150-d880-450f-fbe0-d847cabd150d"
      },
      "source": [
        "name = input(\"Enter the name\")\n",
        "greet(name)"
      ],
      "execution_count": 13,
      "outputs": [
        {
          "output_type": "stream",
          "text": [
            "Enter the nameAMEY\n",
            "Howdy Mr/Ms:  AMEY\n"
          ],
          "name": "stdout"
        }
      ]
    },
    {
      "cell_type": "code",
      "metadata": {
        "execution": {
          "iopub.status.busy": "2021-08-08T18:44:54.457080Z",
          "iopub.execute_input": "2021-08-08T18:44:54.457354Z",
          "iopub.status.idle": "2021-08-08T18:44:54.463250Z",
          "shell.execute_reply.started": "2021-08-08T18:44:54.457326Z",
          "shell.execute_reply": "2021-08-08T18:44:54.462496Z"
        },
        "trusted": true,
        "colab": {
          "base_uri": "https://localhost:8080/",
          "height": 35
        },
        "id": "tqdsIwc2GTTZ",
        "outputId": "bc26a293-6cd9-4ef4-e820-33f0b4be3e5e"
      },
      "source": [
        "greet.__doc__"
      ],
      "execution_count": 14,
      "outputs": [
        {
          "output_type": "execute_result",
          "data": {
            "application/vnd.google.colaboratory.intrinsic+json": {
              "type": "string"
            },
            "text/plain": [
              "'This is a function which takes an argument as\\n  person name, and greets him/her with greetings'"
            ]
          },
          "metadata": {
            "tags": []
          },
          "execution_count": 14
        }
      ]
    },
    {
      "cell_type": "code",
      "metadata": {
        "execution": {
          "iopub.status.busy": "2021-08-08T18:44:54.464336Z",
          "iopub.execute_input": "2021-08-08T18:44:54.464613Z",
          "iopub.status.idle": "2021-08-08T18:45:16.141150Z",
          "shell.execute_reply.started": "2021-08-08T18:44:54.464589Z",
          "shell.execute_reply": "2021-08-08T18:45:16.139559Z"
        },
        "trusted": true,
        "colab": {
          "base_uri": "https://localhost:8080/"
        },
        "id": "EzP9EalmGTTZ",
        "outputId": "215dda1f-d9e2-470b-c2de-a7eb19fab3ed"
      },
      "source": [
        "#function with multiple parameters\n",
        "def add(a,b):\n",
        "  return(a+b)\n",
        "\n",
        "x = int(input(\"Number 1: \\n\"))\n",
        "y = int(input(\"Number 2: \\n\"))\n",
        "\n",
        "print(\"Sum of {0} and {1} is {2} \".format(x,y, add(x,y)))"
      ],
      "execution_count": 15,
      "outputs": [
        {
          "output_type": "stream",
          "text": [
            "Number 1: \n",
            "20\n",
            "Number 2: \n",
            "12\n",
            "Sum of 20 and 12 is 32 \n"
          ],
          "name": "stdout"
        }
      ]
    },
    {
      "cell_type": "code",
      "metadata": {
        "execution": {
          "iopub.status.busy": "2021-08-08T18:45:16.143077Z",
          "iopub.execute_input": "2021-08-08T18:45:16.144074Z",
          "iopub.status.idle": "2021-08-08T18:45:16.148694Z",
          "shell.execute_reply.started": "2021-08-08T18:45:16.144031Z",
          "shell.execute_reply": "2021-08-08T18:45:16.147673Z"
        },
        "trusted": true,
        "id": "q7bg32C_GTTa"
      },
      "source": [
        "#task: use sub, mul. div, mod, power and floor div"
      ],
      "execution_count": 16,
      "outputs": []
    },
    {
      "cell_type": "code",
      "metadata": {
        "execution": {
          "iopub.status.busy": "2021-08-08T18:45:16.150280Z",
          "iopub.execute_input": "2021-08-08T18:45:16.150659Z",
          "iopub.status.idle": "2021-08-08T18:45:16.160732Z",
          "shell.execute_reply.started": "2021-08-08T18:45:16.150613Z",
          "shell.execute_reply": "2021-08-08T18:45:16.159882Z"
        },
        "trusted": true,
        "id": "QSbKdyq-GTTa"
      },
      "source": [
        "#functions with default arguments\n",
        "def sqr(num, pow=2):\n",
        "  return(num**pow)"
      ],
      "execution_count": 17,
      "outputs": []
    },
    {
      "cell_type": "code",
      "metadata": {
        "execution": {
          "iopub.status.busy": "2021-08-08T18:45:16.161605Z",
          "iopub.execute_input": "2021-08-08T18:45:16.161833Z",
          "iopub.status.idle": "2021-08-08T18:45:25.782613Z",
          "shell.execute_reply.started": "2021-08-08T18:45:16.161811Z",
          "shell.execute_reply": "2021-08-08T18:45:25.781598Z"
        },
        "trusted": true,
        "colab": {
          "base_uri": "https://localhost:8080/"
        },
        "id": "K-pJWwSfGTTa",
        "outputId": "0915408d-54b2-4861-9f0f-7a2c3a0e6a98"
      },
      "source": [
        "x = int(input(\"Enter the number\"))\n",
        "print(sqr(x))"
      ],
      "execution_count": 18,
      "outputs": [
        {
          "output_type": "stream",
          "text": [
            "Enter the number20\n",
            "400\n"
          ],
          "name": "stdout"
        }
      ]
    },
    {
      "cell_type": "code",
      "metadata": {
        "execution": {
          "iopub.status.busy": "2021-08-08T18:45:25.783848Z",
          "iopub.execute_input": "2021-08-08T18:45:25.784094Z",
          "iopub.status.idle": "2021-08-08T18:45:31.107816Z",
          "shell.execute_reply.started": "2021-08-08T18:45:25.784069Z",
          "shell.execute_reply": "2021-08-08T18:45:31.106871Z"
        },
        "trusted": true,
        "colab": {
          "base_uri": "https://localhost:8080/"
        },
        "id": "AcrF9u-ZGTTb",
        "outputId": "8fa77d92-a7e4-41a6-d643-ce212cb78fb9"
      },
      "source": [
        "y = int(input(\"enter the number\"))\n",
        "print(sqr(5,5))"
      ],
      "execution_count": 19,
      "outputs": [
        {
          "output_type": "stream",
          "text": [
            "enter the number20\n",
            "3125\n"
          ],
          "name": "stdout"
        }
      ]
    },
    {
      "cell_type": "markdown",
      "metadata": {
        "id": "Szje4NWoGTTc"
      },
      "source": [
        "**Lambda functions**\n",
        "\n",
        "Lambda functions are the quicker way to write on the fly functions in python, they are also called as anonymous functions.\n",
        "\n",
        "syn: lambda arg:expr"
      ]
    },
    {
      "cell_type": "code",
      "metadata": {
        "execution": {
          "iopub.status.busy": "2021-08-08T18:45:31.109341Z",
          "iopub.execute_input": "2021-08-08T18:45:31.109763Z",
          "iopub.status.idle": "2021-08-08T18:45:33.905977Z",
          "shell.execute_reply.started": "2021-08-08T18:45:31.109714Z",
          "shell.execute_reply": "2021-08-08T18:45:33.904926Z"
        },
        "trusted": true,
        "colab": {
          "base_uri": "https://localhost:8080/"
        },
        "id": "VcmVGX2NGTTc",
        "outputId": "4137d9a9-3126-4840-d9d4-65c70f5e9cb9"
      },
      "source": [
        "s = lambda arg: arg*arg\n",
        "\n",
        "x = int(input('Enter the number'))\n",
        "print(s(x))"
      ],
      "execution_count": 20,
      "outputs": [
        {
          "output_type": "stream",
          "text": [
            "Enter the number20\n",
            "400\n"
          ],
          "name": "stdout"
        }
      ]
    },
    {
      "cell_type": "code",
      "metadata": {
        "execution": {
          "iopub.status.busy": "2021-08-08T18:45:33.907516Z",
          "iopub.execute_input": "2021-08-08T18:45:33.907909Z",
          "iopub.status.idle": "2021-08-08T18:45:46.795883Z",
          "shell.execute_reply.started": "2021-08-08T18:45:33.907867Z",
          "shell.execute_reply": "2021-08-08T18:45:46.794894Z"
        },
        "trusted": true,
        "colab": {
          "base_uri": "https://localhost:8080/"
        },
        "id": "OE9Fd9lxGTTd",
        "outputId": "6a1ada10-64d5-4783-c358-37413c20d57a"
      },
      "source": [
        "#task: write a lamda function to raise power of one number with second number \n",
        "\n",
        "s= lambda x,y: x**y\n",
        "a= int(input(\"Enter a number: \"))\n",
        "b= int(input(\"Enter a number: \"))\n",
        "s(a,b)"
      ],
      "execution_count": 21,
      "outputs": [
        {
          "output_type": "stream",
          "text": [
            "Enter a number: 20\n",
            "Enter a number: 2\n"
          ],
          "name": "stdout"
        },
        {
          "output_type": "execute_result",
          "data": {
            "text/plain": [
              "400"
            ]
          },
          "metadata": {
            "tags": []
          },
          "execution_count": 21
        }
      ]
    },
    {
      "cell_type": "markdown",
      "metadata": {
        "id": "gTYkNyzuGTTd"
      },
      "source": [
        "**map() function**\n",
        "\n",
        "It is a function which takes two arguments, a function and a sequence. This function makes an iterator that applies to each element of a sequence"
      ]
    },
    {
      "cell_type": "code",
      "metadata": {
        "execution": {
          "iopub.status.busy": "2021-08-08T18:45:46.796896Z",
          "iopub.execute_input": "2021-08-08T18:45:46.797139Z",
          "iopub.status.idle": "2021-08-08T18:45:46.803058Z",
          "shell.execute_reply.started": "2021-08-08T18:45:46.797110Z",
          "shell.execute_reply": "2021-08-08T18:45:46.802157Z"
        },
        "trusted": true,
        "colab": {
          "base_uri": "https://localhost:8080/"
        },
        "id": "_sNEd1c6GTTd",
        "outputId": "0e851514-61f5-40b4-f428-33d39eaa02eb"
      },
      "source": [
        "nums = range(1,10)\n",
        "\n",
        "#lets define a lambda functions with the help of map\n",
        "sq = map(lambda num: num **2, nums)\n",
        "print(list(sq))"
      ],
      "execution_count": 22,
      "outputs": [
        {
          "output_type": "stream",
          "text": [
            "[1, 4, 9, 16, 25, 36, 49, 64, 81]\n"
          ],
          "name": "stdout"
        }
      ]
    },
    {
      "cell_type": "code",
      "metadata": {
        "execution": {
          "iopub.status.busy": "2021-08-08T18:45:46.804216Z",
          "iopub.execute_input": "2021-08-08T18:45:46.804448Z",
          "iopub.status.idle": "2021-08-08T18:45:46.813350Z",
          "shell.execute_reply.started": "2021-08-08T18:45:46.804425Z",
          "shell.execute_reply": "2021-08-08T18:45:46.812511Z"
        },
        "trusted": true,
        "id": "sm1ETm1jGTTe"
      },
      "source": [
        "#tsk: print prime numbers using map function from 1 to 100"
      ],
      "execution_count": 23,
      "outputs": []
    },
    {
      "cell_type": "markdown",
      "metadata": {
        "id": "-HMn6XoBGTTe"
      },
      "source": [
        "**filter() function**\n",
        "\n",
        "It takes two arguments, a function and sequence. This function offers a way to filter out elements from a list that doesn't satisfy the criteria"
      ]
    },
    {
      "cell_type": "code",
      "metadata": {
        "execution": {
          "iopub.status.busy": "2021-08-08T18:45:46.814626Z",
          "iopub.execute_input": "2021-08-08T18:45:46.814856Z",
          "iopub.status.idle": "2021-08-08T18:45:46.825503Z",
          "shell.execute_reply.started": "2021-08-08T18:45:46.814833Z",
          "shell.execute_reply": "2021-08-08T18:45:46.824631Z"
        },
        "trusted": true,
        "colab": {
          "base_uri": "https://localhost:8080/"
        },
        "id": "YHOCtVXJGTTe",
        "outputId": "51f75743-4d58-4d22-e709-227fac93a74b"
      },
      "source": [
        "st = ['One','Two','Three','Four','Five','Six','Seven','Eight']\n",
        "\n",
        "#filtering the strings whose length is greater than 3\n",
        "f_st = filter(lambda string: len(string) > 3, st)\n",
        "\n",
        "print(list(f_st))"
      ],
      "execution_count": 24,
      "outputs": [
        {
          "output_type": "stream",
          "text": [
            "['Three', 'Four', 'Five', 'Seven', 'Eight']\n"
          ],
          "name": "stdout"
        }
      ]
    },
    {
      "cell_type": "markdown",
      "metadata": {
        "id": "JS_Ozja8GTTf"
      },
      "source": [
        "**Object Oriented Programming**\n",
        "\n",
        "The programming language that deals with objects and classes.\n",
        "\n",
        "\n",
        "**OOP Terminologies**\n",
        "\n",
        "1. **Class**: Its a blueprint that defines the set of attributes that characterize any objects of the class.\n",
        "\n",
        "2. **Inheritance**: Its a process of creating a new class from the existing one and transfer of charactertics from one class to another class.\n",
        "\n",
        "3. **Objects**: Its a real time entity which has shape, behaviour, and attributes. It comprises both data members and methods."
      ]
    },
    {
      "cell_type": "code",
      "metadata": {
        "execution": {
          "iopub.status.busy": "2021-08-08T18:45:46.827692Z",
          "iopub.execute_input": "2021-08-08T18:45:46.827927Z",
          "iopub.status.idle": "2021-08-08T18:45:46.834938Z",
          "shell.execute_reply.started": "2021-08-08T18:45:46.827900Z",
          "shell.execute_reply": "2021-08-08T18:45:46.833977Z"
        },
        "trusted": true,
        "id": "Y251t_p2GTTf"
      },
      "source": [
        "#creating a class\n",
        "class Employee:\n",
        "  \"\"\"Common base class for all employess\"\"\"\n",
        "  #class variable\n",
        "  empCount = 0\n",
        "\n",
        "\n",
        "  #lets define a contructor\n",
        "  def __init__(self, name, salary):\n",
        "    self.name = name\n",
        "    self.salary = salary\n",
        "    Employee.empCount += 1\n",
        "\n",
        "\n",
        "  #methods \n",
        "  def dispCount(self):\n",
        "    print(\"Total number of Employees %d \"%Employee.empCount)\n",
        "\n",
        "  def dispEmployee(self):\n",
        "    print(\"Name : \",self.name, \"\\nSalary : \",self.salary)"
      ],
      "execution_count": 25,
      "outputs": []
    },
    {
      "cell_type": "code",
      "metadata": {
        "execution": {
          "iopub.status.busy": "2021-08-08T18:45:46.836170Z",
          "iopub.execute_input": "2021-08-08T18:45:46.836508Z",
          "iopub.status.idle": "2021-08-08T18:45:46.847182Z",
          "shell.execute_reply.started": "2021-08-08T18:45:46.836464Z",
          "shell.execute_reply": "2021-08-08T18:45:46.846414Z"
        },
        "trusted": true,
        "id": "Zc6Sh_OOGTTg"
      },
      "source": [
        "#lets create objects\n",
        "emp1 = Employee(\"Mega\", 70000000)\n",
        "emp2 = Employee(\"Amey\", 70000000)"
      ],
      "execution_count": 26,
      "outputs": []
    },
    {
      "cell_type": "code",
      "metadata": {
        "execution": {
          "iopub.status.busy": "2021-08-08T18:45:46.847961Z",
          "iopub.execute_input": "2021-08-08T18:45:46.848200Z",
          "iopub.status.idle": "2021-08-08T18:45:46.856886Z",
          "shell.execute_reply.started": "2021-08-08T18:45:46.848167Z",
          "shell.execute_reply": "2021-08-08T18:45:46.856230Z"
        },
        "trusted": true,
        "colab": {
          "base_uri": "https://localhost:8080/"
        },
        "id": "t0TM4r6XGTTg",
        "outputId": "552690bf-d624-4896-9974-bf0f69586607"
      },
      "source": [
        "emp1.dispEmployee()\n",
        "emp2.dispEmployee()"
      ],
      "execution_count": 27,
      "outputs": [
        {
          "output_type": "stream",
          "text": [
            "Name :  Mega \n",
            "Salary :  70000000\n",
            "Name :  Amey \n",
            "Salary :  70000000\n"
          ],
          "name": "stdout"
        }
      ]
    },
    {
      "cell_type": "code",
      "metadata": {
        "execution": {
          "iopub.status.busy": "2021-08-08T18:45:46.857658Z",
          "iopub.execute_input": "2021-08-08T18:45:46.857879Z",
          "iopub.status.idle": "2021-08-08T18:45:46.866976Z",
          "shell.execute_reply.started": "2021-08-08T18:45:46.857857Z",
          "shell.execute_reply": "2021-08-08T18:45:46.866100Z"
        },
        "trusted": true,
        "colab": {
          "base_uri": "https://localhost:8080/"
        },
        "id": "Srt3yfYyGTTh",
        "outputId": "f31b2fac-0763-4355-db80-6f913d030655"
      },
      "source": [
        "emp1.dispCount()"
      ],
      "execution_count": 28,
      "outputs": [
        {
          "output_type": "stream",
          "text": [
            "Total number of Employees 2 \n"
          ],
          "name": "stdout"
        }
      ]
    },
    {
      "cell_type": "markdown",
      "metadata": {
        "id": "YGR3U4yMGTTh"
      },
      "source": [
        "**Inheritance**\n",
        "\n",
        "It enables us to define a class that takes all the functionalities from parent class to child class and allows us to add more."
      ]
    },
    {
      "cell_type": "code",
      "metadata": {
        "execution": {
          "iopub.status.busy": "2021-08-08T18:45:46.867856Z",
          "iopub.execute_input": "2021-08-08T18:45:46.868117Z",
          "iopub.status.idle": "2021-08-08T18:45:46.877038Z",
          "shell.execute_reply.started": "2021-08-08T18:45:46.868085Z",
          "shell.execute_reply": "2021-08-08T18:45:46.876200Z"
        },
        "trusted": true,
        "id": "d_cwtIPVGTTh"
      },
      "source": [
        "#Lets create a class called polygon\n",
        "class Polygon:\n",
        "  'This is a closed figure with 3 or more sides'\n",
        "  #constructor\n",
        "  def __init__(self, no_of_sides):\n",
        "    self.n = no_of_sides\n",
        "    self.sides = [0 for i in range(no_of_sides)]\n",
        "\n",
        "  #methods\n",
        "  def inputSides(self):\n",
        "    self.sides = [float(input(\"Enter side \"+str(i)+ \" : \")) for i in range(self.n)]\n",
        "\n",
        "\n",
        "  def dispSides(self):\n",
        "    for i in range(self.n):\n",
        "      print(\"Side \",i+1, \"is \",self.sides[i])"
      ],
      "execution_count": 29,
      "outputs": []
    }
  ]
}