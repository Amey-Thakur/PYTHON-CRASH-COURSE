{
  "nbformat": 4,
  "nbformat_minor": 0,
  "metadata": {
    "kernelspec": {
      "language": "python",
      "display_name": "Python 3",
      "name": "python3"
    },
    "language_info": {
      "name": "python",
      "version": "3.7.10",
      "mimetype": "text/x-python",
      "codemirror_mode": {
        "name": "ipython",
        "version": 3
      },
      "pygments_lexer": "ipython3",
      "nbconvert_exporter": "python",
      "file_extension": ".py"
    },
    "colab": {
      "name": "PYTHON-CRASH-COURSE-DAY-12.ipynb",
      "provenance": [],
      "include_colab_link": true
    }
  },
  "cells": [
    {
      "cell_type": "markdown",
      "metadata": {
        "id": "view-in-github",
        "colab_type": "text"
      },
      "source": [
        "<a href=\"https://colab.research.google.com/github/Amey-Thakur/PYTHON-CRASH-COURSE/blob/main/PYTHON_CRASH_COURSE_DAY_12.ipynb\" target=\"_parent\"><img src=\"https://colab.research.google.com/assets/colab-badge.svg\" alt=\"Open In Colab\"/></a>"
      ]
    },
    {
      "cell_type": "markdown",
      "metadata": {
        "id": "qF5ei_tbmkIU"
      },
      "source": [
        "# Day 12\n",
        "\n",
        "# **Google stock price prediction - RNN**"
      ]
    },
    {
      "cell_type": "code",
      "metadata": {
        "execution": {
          "iopub.status.busy": "2021-08-08T21:02:16.466953Z",
          "iopub.execute_input": "2021-08-08T21:02:16.467508Z",
          "iopub.status.idle": "2021-08-08T21:02:16.480410Z",
          "shell.execute_reply.started": "2021-08-08T21:02:16.467408Z",
          "shell.execute_reply": "2021-08-08T21:02:16.479147Z"
        },
        "trusted": true,
        "id": "W5WF9FcVmkIi"
      },
      "source": [
        "#Lets import the libraries\n",
        "import numpy as np\n",
        "import pandas as pd\n",
        "import matplotlib.pyplot as plt"
      ],
      "execution_count": 1,
      "outputs": []
    },
    {
      "cell_type": "code",
      "metadata": {
        "execution": {
          "iopub.status.busy": "2021-08-08T21:02:16.482155Z",
          "iopub.execute_input": "2021-08-08T21:02:16.482420Z",
          "iopub.status.idle": "2021-08-08T21:02:16.625967Z",
          "shell.execute_reply.started": "2021-08-08T21:02:16.482397Z",
          "shell.execute_reply": "2021-08-08T21:02:16.625099Z"
        },
        "trusted": true,
        "colab": {
          "base_uri": "https://localhost:8080/",
          "height": 203
        },
        "id": "rduJk_9nmkIu",
        "outputId": "e3383654-4892-4029-f4f5-ad4c8b1d2897"
      },
      "source": [
        "#lets import the training set\n",
        "dataset_train = pd.read_csv('/content/Google_Stock_Price_Train.csv')\n",
        "training_set = dataset_train.iloc[:, 1:2]\n",
        "training_set.head()"
      ],
      "execution_count": 2,
      "outputs": [
        {
          "output_type": "execute_result",
          "data": {
            "text/html": [
              "<div>\n",
              "<style scoped>\n",
              "    .dataframe tbody tr th:only-of-type {\n",
              "        vertical-align: middle;\n",
              "    }\n",
              "\n",
              "    .dataframe tbody tr th {\n",
              "        vertical-align: top;\n",
              "    }\n",
              "\n",
              "    .dataframe thead th {\n",
              "        text-align: right;\n",
              "    }\n",
              "</style>\n",
              "<table border=\"1\" class=\"dataframe\">\n",
              "  <thead>\n",
              "    <tr style=\"text-align: right;\">\n",
              "      <th></th>\n",
              "      <th>Open</th>\n",
              "    </tr>\n",
              "  </thead>\n",
              "  <tbody>\n",
              "    <tr>\n",
              "      <th>0</th>\n",
              "      <td>325.25</td>\n",
              "    </tr>\n",
              "    <tr>\n",
              "      <th>1</th>\n",
              "      <td>331.27</td>\n",
              "    </tr>\n",
              "    <tr>\n",
              "      <th>2</th>\n",
              "      <td>329.83</td>\n",
              "    </tr>\n",
              "    <tr>\n",
              "      <th>3</th>\n",
              "      <td>328.34</td>\n",
              "    </tr>\n",
              "    <tr>\n",
              "      <th>4</th>\n",
              "      <td>322.04</td>\n",
              "    </tr>\n",
              "  </tbody>\n",
              "</table>\n",
              "</div>"
            ],
            "text/plain": [
              "     Open\n",
              "0  325.25\n",
              "1  331.27\n",
              "2  329.83\n",
              "3  328.34\n",
              "4  322.04"
            ]
          },
          "metadata": {
            "tags": []
          },
          "execution_count": 2
        }
      ]
    },
    {
      "cell_type": "code",
      "metadata": {
        "execution": {
          "iopub.status.busy": "2021-08-08T21:02:16.627319Z",
          "iopub.execute_input": "2021-08-08T21:02:16.627547Z",
          "iopub.status.idle": "2021-08-08T21:02:17.601210Z",
          "shell.execute_reply.started": "2021-08-08T21:02:16.627525Z",
          "shell.execute_reply": "2021-08-08T21:02:17.600653Z"
        },
        "trusted": true,
        "id": "Ep_q2hwhmkI3"
      },
      "source": [
        "#Perform Feature Scaling\n",
        "from sklearn.preprocessing import MinMaxScaler\n",
        "\n",
        "sc = MinMaxScaler(feature_range = (0,1))\n",
        "training_set_scaled = sc.fit_transform(training_set) "
      ],
      "execution_count": 3,
      "outputs": []
    },
    {
      "cell_type": "code",
      "metadata": {
        "execution": {
          "iopub.status.busy": "2021-08-08T21:02:17.602163Z",
          "iopub.execute_input": "2021-08-08T21:02:17.602445Z",
          "iopub.status.idle": "2021-08-08T21:02:17.608886Z",
          "shell.execute_reply.started": "2021-08-08T21:02:17.602423Z",
          "shell.execute_reply": "2021-08-08T21:02:17.608013Z"
        },
        "trusted": true,
        "id": "q8XLI1-3mkI5"
      },
      "source": [
        "#Use case implementation of LSTM\n",
        "#lets create a data structure with 60 timesteps and 1 output\n",
        "\n",
        "X_train = []\n",
        "Y_train = []\n",
        "\n",
        "for i in range(60, 1258):\n",
        "  X_train.append(training_set_scaled[i-60:i, 0])\n",
        "  Y_train.append(training_set_scaled[i,0])\n",
        "\n",
        "X_train, Y_train = np.array(X_train), np.array(Y_train)\n",
        "\n",
        "#Lets reshape the arrays\n",
        "X_train = np.reshape(X_train, (X_train.shape[0], X_train.shape[1], 1))\n"
      ],
      "execution_count": 4,
      "outputs": []
    },
    {
      "cell_type": "code",
      "metadata": {
        "execution": {
          "iopub.status.busy": "2021-08-08T21:02:17.609843Z",
          "iopub.execute_input": "2021-08-08T21:02:17.610137Z",
          "iopub.status.idle": "2021-08-08T21:02:24.067151Z",
          "shell.execute_reply.started": "2021-08-08T21:02:17.610112Z",
          "shell.execute_reply": "2021-08-08T21:02:24.065727Z"
        },
        "trusted": true,
        "id": "R8MYYrUNmkJA"
      },
      "source": [
        "#lets import required keras libs and packages\n",
        "from keras.models import  Sequential\n",
        "from keras.layers import Dense, LSTM, Dropout"
      ],
      "execution_count": 5,
      "outputs": []
    },
    {
      "cell_type": "code",
      "metadata": {
        "execution": {
          "iopub.status.busy": "2021-08-08T21:02:24.068671Z",
          "iopub.execute_input": "2021-08-08T21:02:24.068965Z",
          "iopub.status.idle": "2021-08-08T21:02:24.112629Z",
          "shell.execute_reply.started": "2021-08-08T21:02:24.068942Z",
          "shell.execute_reply": "2021-08-08T21:02:24.111593Z"
        },
        "trusted": true,
        "id": "wG8eCotDmkJC"
      },
      "source": [
        "#Initializing the RNN\n",
        "regressor = Sequential()"
      ],
      "execution_count": 6,
      "outputs": []
    },
    {
      "cell_type": "code",
      "metadata": {
        "execution": {
          "iopub.status.busy": "2021-08-08T21:02:24.114977Z",
          "iopub.execute_input": "2021-08-08T21:02:24.115331Z",
          "iopub.status.idle": "2021-08-08T21:02:24.420518Z",
          "shell.execute_reply.started": "2021-08-08T21:02:24.115297Z",
          "shell.execute_reply": "2021-08-08T21:02:24.419018Z"
        },
        "trusted": true,
        "id": "-KLcWM0QmkJE"
      },
      "source": [
        "#Lets add LSTM layers and dropout regularization\n",
        "regressor.add(LSTM(units=50, return_sequences=True,input_shape=(X_train.shape[1],1)))\n",
        "regressor.add(Dropout(0.2))"
      ],
      "execution_count": 7,
      "outputs": []
    },
    {
      "cell_type": "code",
      "metadata": {
        "execution": {
          "iopub.status.busy": "2021-08-08T21:02:24.421948Z",
          "iopub.execute_input": "2021-08-08T21:02:24.422181Z",
          "iopub.status.idle": "2021-08-08T21:02:24.609323Z",
          "shell.execute_reply.started": "2021-08-08T21:02:24.422157Z",
          "shell.execute_reply": "2021-08-08T21:02:24.608477Z"
        },
        "trusted": true,
        "id": "-ViyF65wmkJG"
      },
      "source": [
        "#Lets add second LSTM layer and dropout regularization\n",
        "regressor.add(LSTM(units=50, return_sequences=True))\n",
        "regressor.add(Dropout(0.2))"
      ],
      "execution_count": 8,
      "outputs": []
    },
    {
      "cell_type": "code",
      "metadata": {
        "execution": {
          "iopub.status.busy": "2021-08-08T21:02:24.610600Z",
          "iopub.execute_input": "2021-08-08T21:02:24.610954Z",
          "iopub.status.idle": "2021-08-08T21:02:24.943853Z",
          "shell.execute_reply.started": "2021-08-08T21:02:24.610930Z",
          "shell.execute_reply": "2021-08-08T21:02:24.942846Z"
        },
        "trusted": true,
        "id": "fwLBYhAWmkJI"
      },
      "source": [
        "#Lets add third LSTM layer and dropout regularization\n",
        "regressor.add(LSTM(units=50, return_sequences=True))\n",
        "regressor.add(Dropout(0.2))"
      ],
      "execution_count": 9,
      "outputs": []
    },
    {
      "cell_type": "code",
      "metadata": {
        "execution": {
          "iopub.status.busy": "2021-08-08T21:02:24.944849Z",
          "iopub.execute_input": "2021-08-08T21:02:24.945057Z",
          "iopub.status.idle": "2021-08-08T21:02:25.125616Z",
          "shell.execute_reply.started": "2021-08-08T21:02:24.945037Z",
          "shell.execute_reply": "2021-08-08T21:02:25.124328Z"
        },
        "trusted": true,
        "id": "DJPVjau0mkJI"
      },
      "source": [
        "#Lets add fourth LSTM layer and dropout regularization\n",
        "regressor.add(LSTM(units=50))\n",
        "regressor.add(Dropout(0.2))"
      ],
      "execution_count": 10,
      "outputs": []
    },
    {
      "cell_type": "code",
      "metadata": {
        "execution": {
          "iopub.status.busy": "2021-08-08T21:02:25.126757Z",
          "iopub.execute_input": "2021-08-08T21:02:25.126981Z",
          "iopub.status.idle": "2021-08-08T21:02:25.140345Z",
          "shell.execute_reply.started": "2021-08-08T21:02:25.126959Z",
          "shell.execute_reply": "2021-08-08T21:02:25.138931Z"
        },
        "trusted": true,
        "id": "XS8ILWuPmkJJ"
      },
      "source": [
        "#Adding output layer\n",
        "regressor.add(Dense(units=1))"
      ],
      "execution_count": 11,
      "outputs": []
    },
    {
      "cell_type": "code",
      "metadata": {
        "execution": {
          "iopub.status.busy": "2021-08-08T21:02:25.141564Z",
          "iopub.execute_input": "2021-08-08T21:02:25.141836Z",
          "iopub.status.idle": "2021-08-08T21:02:25.159901Z",
          "shell.execute_reply.started": "2021-08-08T21:02:25.141812Z",
          "shell.execute_reply": "2021-08-08T21:02:25.158523Z"
        },
        "trusted": true,
        "id": "YXMxEVCNmkJK"
      },
      "source": [
        "#Lets compile the RNN\n",
        "regressor.compile(optimizer='adam',loss='mean_squared_error')"
      ],
      "execution_count": 12,
      "outputs": []
    },
    {
      "cell_type": "code",
      "metadata": {
        "execution": {
          "iopub.status.busy": "2021-08-08T21:02:25.161105Z",
          "iopub.execute_input": "2021-08-08T21:02:25.161315Z",
          "iopub.status.idle": "2021-08-08T21:09:38.795191Z",
          "shell.execute_reply.started": "2021-08-08T21:02:25.161294Z",
          "shell.execute_reply": "2021-08-08T21:09:38.793892Z"
        },
        "trusted": true,
        "colab": {
          "base_uri": "https://localhost:8080/"
        },
        "id": "596nVKX1mkJK",
        "outputId": "b9b8db57-649f-4752-d861-25253d21df92"
      },
      "source": [
        "#Fit the compiled model to training set\n",
        "regressor.fit(X_train, Y_train, epochs=100, batch_size=32)"
      ],
      "execution_count": 13,
      "outputs": [
        {
          "output_type": "stream",
          "text": [
            "Epoch 1/100\n",
            "38/38 [==============================] - 29s 125ms/step - loss: 0.0838\n",
            "Epoch 2/100\n",
            "38/38 [==============================] - 5s 125ms/step - loss: 0.0075\n",
            "Epoch 3/100\n",
            "38/38 [==============================] - 5s 123ms/step - loss: 0.0064\n",
            "Epoch 4/100\n",
            "38/38 [==============================] - 5s 124ms/step - loss: 0.0066\n",
            "Epoch 5/100\n",
            "38/38 [==============================] - 5s 122ms/step - loss: 0.0049\n",
            "Epoch 6/100\n",
            "38/38 [==============================] - 5s 121ms/step - loss: 0.0052\n",
            "Epoch 7/100\n",
            "38/38 [==============================] - 5s 124ms/step - loss: 0.0053\n",
            "Epoch 8/100\n",
            "38/38 [==============================] - 5s 122ms/step - loss: 0.0046\n",
            "Epoch 9/100\n",
            "38/38 [==============================] - 5s 124ms/step - loss: 0.0060\n",
            "Epoch 10/100\n",
            "38/38 [==============================] - 5s 124ms/step - loss: 0.0056\n",
            "Epoch 11/100\n",
            "38/38 [==============================] - 5s 123ms/step - loss: 0.0042\n",
            "Epoch 12/100\n",
            "38/38 [==============================] - 5s 124ms/step - loss: 0.0048\n",
            "Epoch 13/100\n",
            "38/38 [==============================] - 5s 122ms/step - loss: 0.0040\n",
            "Epoch 14/100\n",
            "38/38 [==============================] - 5s 125ms/step - loss: 0.0044\n",
            "Epoch 15/100\n",
            "38/38 [==============================] - 5s 124ms/step - loss: 0.0035\n",
            "Epoch 16/100\n",
            "38/38 [==============================] - 5s 124ms/step - loss: 0.0044\n",
            "Epoch 17/100\n",
            "38/38 [==============================] - 5s 126ms/step - loss: 0.0038\n",
            "Epoch 18/100\n",
            "38/38 [==============================] - 5s 123ms/step - loss: 0.0035\n",
            "Epoch 19/100\n",
            "38/38 [==============================] - 5s 123ms/step - loss: 0.0033\n",
            "Epoch 20/100\n",
            "38/38 [==============================] - 5s 126ms/step - loss: 0.0031\n",
            "Epoch 21/100\n",
            "38/38 [==============================] - 5s 124ms/step - loss: 0.0036\n",
            "Epoch 22/100\n",
            "38/38 [==============================] - 5s 124ms/step - loss: 0.0035\n",
            "Epoch 23/100\n",
            "38/38 [==============================] - 5s 125ms/step - loss: 0.0032\n",
            "Epoch 24/100\n",
            "38/38 [==============================] - 5s 127ms/step - loss: 0.0036\n",
            "Epoch 25/100\n",
            "38/38 [==============================] - 5s 124ms/step - loss: 0.0031\n",
            "Epoch 26/100\n",
            "38/38 [==============================] - 5s 125ms/step - loss: 0.0031\n",
            "Epoch 27/100\n",
            "38/38 [==============================] - 5s 125ms/step - loss: 0.0032\n",
            "Epoch 28/100\n",
            "38/38 [==============================] - 5s 125ms/step - loss: 0.0025\n",
            "Epoch 29/100\n",
            "38/38 [==============================] - 5s 126ms/step - loss: 0.0030\n",
            "Epoch 30/100\n",
            "38/38 [==============================] - 5s 124ms/step - loss: 0.0029\n",
            "Epoch 31/100\n",
            "38/38 [==============================] - 5s 125ms/step - loss: 0.0030\n",
            "Epoch 32/100\n",
            "38/38 [==============================] - 5s 124ms/step - loss: 0.0028\n",
            "Epoch 33/100\n",
            "38/38 [==============================] - 5s 124ms/step - loss: 0.0028\n",
            "Epoch 34/100\n",
            "38/38 [==============================] - 5s 125ms/step - loss: 0.0030\n",
            "Epoch 35/100\n",
            "38/38 [==============================] - 5s 126ms/step - loss: 0.0030\n",
            "Epoch 36/100\n",
            "38/38 [==============================] - 5s 124ms/step - loss: 0.0030\n",
            "Epoch 37/100\n",
            "38/38 [==============================] - 5s 123ms/step - loss: 0.0028\n",
            "Epoch 38/100\n",
            "38/38 [==============================] - 5s 122ms/step - loss: 0.0027\n",
            "Epoch 39/100\n",
            "38/38 [==============================] - 5s 123ms/step - loss: 0.0028\n",
            "Epoch 40/100\n",
            "38/38 [==============================] - 5s 123ms/step - loss: 0.0022\n",
            "Epoch 41/100\n",
            "38/38 [==============================] - 5s 125ms/step - loss: 0.0025\n",
            "Epoch 42/100\n",
            "38/38 [==============================] - 5s 125ms/step - loss: 0.0028\n",
            "Epoch 43/100\n",
            "38/38 [==============================] - 5s 125ms/step - loss: 0.0028\n",
            "Epoch 44/100\n",
            "38/38 [==============================] - 5s 125ms/step - loss: 0.0028\n",
            "Epoch 45/100\n",
            "38/38 [==============================] - 5s 124ms/step - loss: 0.0025\n",
            "Epoch 46/100\n",
            "38/38 [==============================] - 5s 125ms/step - loss: 0.0026\n",
            "Epoch 47/100\n",
            "38/38 [==============================] - 5s 126ms/step - loss: 0.0025\n",
            "Epoch 48/100\n",
            "38/38 [==============================] - 5s 125ms/step - loss: 0.0025\n",
            "Epoch 49/100\n",
            "38/38 [==============================] - 5s 126ms/step - loss: 0.0023\n",
            "Epoch 50/100\n",
            "38/38 [==============================] - 5s 125ms/step - loss: 0.0024\n",
            "Epoch 51/100\n",
            "38/38 [==============================] - 5s 127ms/step - loss: 0.0026\n",
            "Epoch 52/100\n",
            "38/38 [==============================] - 5s 127ms/step - loss: 0.0022\n",
            "Epoch 53/100\n",
            "38/38 [==============================] - 5s 127ms/step - loss: 0.0023\n",
            "Epoch 54/100\n",
            "38/38 [==============================] - 5s 126ms/step - loss: 0.0020\n",
            "Epoch 55/100\n",
            "38/38 [==============================] - 5s 126ms/step - loss: 0.0021\n",
            "Epoch 56/100\n",
            "38/38 [==============================] - 5s 126ms/step - loss: 0.0024\n",
            "Epoch 57/100\n",
            "38/38 [==============================] - 5s 125ms/step - loss: 0.0020\n",
            "Epoch 58/100\n",
            "38/38 [==============================] - 5s 125ms/step - loss: 0.0027\n",
            "Epoch 59/100\n",
            "38/38 [==============================] - 5s 124ms/step - loss: 0.0021\n",
            "Epoch 60/100\n",
            "38/38 [==============================] - 5s 127ms/step - loss: 0.0019\n",
            "Epoch 61/100\n",
            "38/38 [==============================] - 5s 125ms/step - loss: 0.0024\n",
            "Epoch 62/100\n",
            "38/38 [==============================] - 5s 123ms/step - loss: 0.0024\n",
            "Epoch 63/100\n",
            "38/38 [==============================] - 5s 124ms/step - loss: 0.0023\n",
            "Epoch 64/100\n",
            "38/38 [==============================] - 5s 123ms/step - loss: 0.0020\n",
            "Epoch 65/100\n",
            "38/38 [==============================] - 5s 124ms/step - loss: 0.0023\n",
            "Epoch 66/100\n",
            "38/38 [==============================] - 5s 126ms/step - loss: 0.0018\n",
            "Epoch 67/100\n",
            "38/38 [==============================] - 5s 126ms/step - loss: 0.0018\n",
            "Epoch 68/100\n",
            "38/38 [==============================] - 5s 126ms/step - loss: 0.0020\n",
            "Epoch 69/100\n",
            "38/38 [==============================] - 5s 124ms/step - loss: 0.0018\n",
            "Epoch 70/100\n",
            "38/38 [==============================] - 5s 124ms/step - loss: 0.0020\n",
            "Epoch 71/100\n",
            "38/38 [==============================] - 5s 125ms/step - loss: 0.0018\n",
            "Epoch 72/100\n",
            "38/38 [==============================] - 5s 124ms/step - loss: 0.0017\n",
            "Epoch 73/100\n",
            "38/38 [==============================] - 5s 124ms/step - loss: 0.0017\n",
            "Epoch 74/100\n",
            "38/38 [==============================] - 5s 123ms/step - loss: 0.0017\n",
            "Epoch 75/100\n",
            "38/38 [==============================] - 5s 124ms/step - loss: 0.0017\n",
            "Epoch 76/100\n",
            "38/38 [==============================] - 5s 125ms/step - loss: 0.0017\n",
            "Epoch 77/100\n",
            "38/38 [==============================] - 5s 125ms/step - loss: 0.0017\n",
            "Epoch 78/100\n",
            "38/38 [==============================] - 5s 124ms/step - loss: 0.0018\n",
            "Epoch 79/100\n",
            "38/38 [==============================] - 5s 122ms/step - loss: 0.0018\n",
            "Epoch 80/100\n",
            "38/38 [==============================] - 5s 123ms/step - loss: 0.0020\n",
            "Epoch 81/100\n",
            "38/38 [==============================] - 5s 124ms/step - loss: 0.0018\n",
            "Epoch 82/100\n",
            "38/38 [==============================] - 5s 126ms/step - loss: 0.0017\n",
            "Epoch 83/100\n",
            "38/38 [==============================] - 5s 124ms/step - loss: 0.0018\n",
            "Epoch 84/100\n",
            "38/38 [==============================] - 5s 125ms/step - loss: 0.0015\n",
            "Epoch 85/100\n",
            "38/38 [==============================] - 5s 124ms/step - loss: 0.0016\n",
            "Epoch 86/100\n",
            "38/38 [==============================] - 5s 127ms/step - loss: 0.0015\n",
            "Epoch 87/100\n",
            "38/38 [==============================] - 5s 123ms/step - loss: 0.0015\n",
            "Epoch 88/100\n",
            "38/38 [==============================] - 5s 125ms/step - loss: 0.0014\n",
            "Epoch 89/100\n",
            "38/38 [==============================] - 5s 125ms/step - loss: 0.0016\n",
            "Epoch 90/100\n",
            "38/38 [==============================] - 5s 125ms/step - loss: 0.0015\n",
            "Epoch 91/100\n",
            "38/38 [==============================] - 5s 124ms/step - loss: 0.0023\n",
            "Epoch 92/100\n",
            "38/38 [==============================] - 5s 125ms/step - loss: 0.0015\n",
            "Epoch 93/100\n",
            "38/38 [==============================] - 5s 123ms/step - loss: 0.0014\n",
            "Epoch 94/100\n",
            "38/38 [==============================] - 5s 123ms/step - loss: 0.0018\n",
            "Epoch 95/100\n",
            "38/38 [==============================] - 5s 125ms/step - loss: 0.0013\n",
            "Epoch 96/100\n",
            "38/38 [==============================] - 5s 124ms/step - loss: 0.0016\n",
            "Epoch 97/100\n",
            "38/38 [==============================] - 5s 124ms/step - loss: 0.0017\n",
            "Epoch 98/100\n",
            "38/38 [==============================] - 5s 125ms/step - loss: 0.0016\n",
            "Epoch 99/100\n",
            "38/38 [==============================] - 5s 126ms/step - loss: 0.0019\n",
            "Epoch 100/100\n",
            "38/38 [==============================] - 5s 127ms/step - loss: 0.0014\n"
          ],
          "name": "stdout"
        },
        {
          "output_type": "execute_result",
          "data": {
            "text/plain": [
              "<keras.callbacks.History at 0x7f02f706d110>"
            ]
          },
          "metadata": {
            "tags": []
          },
          "execution_count": 13
        }
      ]
    },
    {
      "cell_type": "code",
      "metadata": {
        "execution": {
          "iopub.status.busy": "2021-08-08T21:09:38.796367Z",
          "iopub.execute_input": "2021-08-08T21:09:38.796685Z",
          "iopub.status.idle": "2021-08-08T21:09:38.816897Z",
          "shell.execute_reply.started": "2021-08-08T21:09:38.796656Z",
          "shell.execute_reply": "2021-08-08T21:09:38.815459Z"
        },
        "trusted": true,
        "id": "cjyJxcaOmkJM"
      },
      "source": [
        "#lets load the stock price test data\n",
        "dataset_test = pd.read_csv('/content/Google_Stock_Price_Test.csv')\n",
        "real_stock_price = dataset_test.iloc[:,1:2].values"
      ],
      "execution_count": 14,
      "outputs": []
    },
    {
      "cell_type": "code",
      "metadata": {
        "execution": {
          "iopub.status.busy": "2021-08-08T21:09:38.818530Z",
          "iopub.execute_input": "2021-08-08T21:09:38.818847Z",
          "iopub.status.idle": "2021-08-08T21:09:40.157706Z",
          "shell.execute_reply.started": "2021-08-08T21:09:38.818806Z",
          "shell.execute_reply": "2021-08-08T21:09:40.156723Z"
        },
        "trusted": true,
        "id": "-KRHzZf8mkJN"
      },
      "source": [
        "#Get predicted stock price for the following year\n",
        "dataset_total = pd.concat((dataset_train['Open'], dataset_test['Open']),axis=0)\n",
        "\n",
        "inputs = dataset_total[len(dataset_total) - len(dataset_test) - 60:].values\n",
        "inputs = inputs.reshape(-1, 1)\n",
        "inputs = sc.transform(inputs)\n",
        "X_test = []\n",
        "\n",
        "for i in range(60, 80):\n",
        "  X_test.append(inputs[i-60:i, 0])\n",
        "\n",
        "X_test = np.array(X_test)\n",
        "X_test = np.reshape(X_test, (X_test.shape[0], X_test.shape[1], 1))\n",
        "\n",
        "predicted_stock_price = regressor.predict(X_test)\n",
        "\n",
        "predicted_stock_price = sc.inverse_transform(predicted_stock_price)"
      ],
      "execution_count": 15,
      "outputs": []
    },
    {
      "cell_type": "code",
      "metadata": {
        "execution": {
          "iopub.status.busy": "2021-08-08T21:09:40.158939Z",
          "iopub.execute_input": "2021-08-08T21:09:40.159166Z",
          "iopub.status.idle": "2021-08-08T21:09:40.340656Z",
          "shell.execute_reply.started": "2021-08-08T21:09:40.159142Z",
          "shell.execute_reply": "2021-08-08T21:09:40.339628Z"
        },
        "trusted": true,
        "colab": {
          "base_uri": "https://localhost:8080/",
          "height": 295
        },
        "id": "Do3IbKjomkJN",
        "outputId": "8c284a3e-fb7a-4aab-d34f-d62e9ccd2270"
      },
      "source": [
        "#lets visualize the results of predicted and real stock price\n",
        "plt.plot(real_stock_price, color='r', label='Real Google Stock Price')\n",
        "plt.plot(predicted_stock_price, color='b', label='Predicted Google Stock Price')\n",
        "\n",
        "plt.title('Google Stock Price Prediction')\n",
        "plt.xlabel('Time')\n",
        "plt.ylabel('Google Stock Price')\n",
        "plt.legend()\n",
        "plt.show()"
      ],
      "execution_count": 16,
      "outputs": [
        {
          "output_type": "display_data",
          "data": {
            "image/png": "[encoded data removed]",
            "text/plain": [
              "<Figure size 432x288 with 1 Axes>"
            ]
          },
          "metadata": {
            "tags": [],
            "needs_background": "light"
          }
        }
      ]
    }
  ]
}