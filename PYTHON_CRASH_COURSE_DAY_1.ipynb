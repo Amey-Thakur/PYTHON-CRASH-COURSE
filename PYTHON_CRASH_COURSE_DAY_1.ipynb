{
  "nbformat": 4,
  "nbformat_minor": 0,
  "metadata": {
    "kernelspec": {
      "language": "python",
      "display_name": "Python 3",
      "name": "python3"
    },
    "language_info": {
      "name": "python",
      "version": "3.7.10",
      "mimetype": "text/x-python",
      "codemirror_mode": {
        "name": "ipython",
        "version": 3
      },
      "pygments_lexer": "ipython3",
      "nbconvert_exporter": "python",
      "file_extension": ".py"
    },
    "colab": {
      "name": "PYTHON-CRASH-COURSE-DAY-1.ipynb",
      "provenance": [],
      "include_colab_link": true
    }
  },
  "cells": [
    {
      "cell_type": "markdown",
      "metadata": {
        "id": "view-in-github",
        "colab_type": "text"
      },
      "source": [
        "<a href=\"https://colab.research.google.com/github/Amey-Thakur/PYTHON-CRASH-COURSE/blob/main/PYTHON_CRASH_COURSE_DAY_1.ipynb\" target=\"_parent\"><img src=\"https://colab.research.google.com/assets/colab-badge.svg\" alt=\"Open In Colab\"/></a>"
      ]
    },
    {
      "cell_type": "markdown",
      "metadata": {
        "id": "Eizb-3hZfBfY"
      },
      "source": [
        "# **Day 1**\n",
        "\n",
        "**Python**\n",
        "\n",
        "It is a general-purpose, interpreted, dynamic, high level programming language.\n",
        "\n",
        "**Variable**\n",
        "\n",
        "A variable is container which holds value in it.\n",
        "\n",
        "**Data Type**\n",
        "\n",
        "A type of value assigned to variable."
      ]
    },
    {
      "cell_type": "code",
      "metadata": {
        "execution": {
          "iopub.status.busy": "2021-08-08T15:55:37.883720Z",
          "iopub.execute_input": "2021-08-08T15:55:37.884126Z",
          "iopub.status.idle": "2021-08-08T15:55:37.894538Z",
          "shell.execute_reply.started": "2021-08-08T15:55:37.884027Z",
          "shell.execute_reply": "2021-08-08T15:55:37.893567Z"
        },
        "trusted": true,
        "id": "jcsXybjkfBfZ"
      },
      "source": [
        "#Lets create a variable name x and assign a value as per your wish\n",
        "x = 10"
      ],
      "execution_count": 1,
      "outputs": []
    },
    {
      "cell_type": "code",
      "metadata": {
        "execution": {
          "iopub.status.busy": "2021-08-08T15:55:37.898125Z",
          "iopub.execute_input": "2021-08-08T15:55:37.898421Z",
          "iopub.status.idle": "2021-08-08T15:55:37.918736Z",
          "shell.execute_reply.started": "2021-08-08T15:55:37.898394Z",
          "shell.execute_reply": "2021-08-08T15:55:37.917725Z"
        },
        "trusted": true,
        "colab": {
          "base_uri": "https://localhost:8080/"
        },
        "id": "hy9YPKs1fBfZ",
        "outputId": "a8e213e1-2ba6-4615-c034-02a8dd96ae7c"
      },
      "source": [
        "print(x, type(x))"
      ],
      "execution_count": 2,
      "outputs": [
        {
          "output_type": "stream",
          "text": [
            "10 <class 'int'>\n"
          ],
          "name": "stdout"
        }
      ]
    },
    {
      "cell_type": "code",
      "metadata": {
        "execution": {
          "iopub.status.busy": "2021-08-08T15:55:37.920767Z",
          "iopub.execute_input": "2021-08-08T15:55:37.921343Z",
          "iopub.status.idle": "2021-08-08T15:55:37.935348Z",
          "shell.execute_reply.started": "2021-08-08T15:55:37.921297Z",
          "shell.execute_reply": "2021-08-08T15:55:37.934408Z"
        },
        "trusted": true,
        "colab": {
          "base_uri": "https://localhost:8080/"
        },
        "id": "5yFAB2E_fBfa",
        "outputId": "3bcb7215-89bc-484c-cfc4-bdf8cc26ab35"
      },
      "source": [
        "#performing arithmetic operations on x\n",
        "x + 10"
      ],
      "execution_count": 3,
      "outputs": [
        {
          "output_type": "execute_result",
          "data": {
            "text/plain": [
              "20"
            ]
          },
          "metadata": {
            "tags": []
          },
          "execution_count": 3
        }
      ]
    },
    {
      "cell_type": "code",
      "metadata": {
        "execution": {
          "iopub.status.busy": "2021-08-08T15:55:37.936868Z",
          "iopub.execute_input": "2021-08-08T15:55:37.937388Z",
          "iopub.status.idle": "2021-08-08T15:55:37.950762Z",
          "shell.execute_reply.started": "2021-08-08T15:55:37.937355Z",
          "shell.execute_reply": "2021-08-08T15:55:37.949636Z"
        },
        "trusted": true,
        "colab": {
          "base_uri": "https://localhost:8080/"
        },
        "id": "VmGMWB4ZfBfa",
        "outputId": "7fe7a740-687b-4ff1-dfe4-dd2d5b96fd20"
      },
      "source": [
        "y = 30.8787\n",
        "y"
      ],
      "execution_count": 4,
      "outputs": [
        {
          "output_type": "execute_result",
          "data": {
            "text/plain": [
              "30.8787"
            ]
          },
          "metadata": {
            "tags": []
          },
          "execution_count": 4
        }
      ]
    },
    {
      "cell_type": "code",
      "metadata": {
        "execution": {
          "iopub.status.busy": "2021-08-08T15:55:37.952308Z",
          "iopub.execute_input": "2021-08-08T15:55:37.952914Z",
          "iopub.status.idle": "2021-08-08T15:55:37.965623Z",
          "shell.execute_reply.started": "2021-08-08T15:55:37.952877Z",
          "shell.execute_reply": "2021-08-08T15:55:37.964374Z"
        },
        "trusted": true,
        "colab": {
          "base_uri": "https://localhost:8080/"
        },
        "id": "PPyunkryfBfb",
        "outputId": "110f1a82-c4c2-4cca-bffd-c5a107651365"
      },
      "source": [
        "type(y)"
      ],
      "execution_count": 5,
      "outputs": [
        {
          "output_type": "execute_result",
          "data": {
            "text/plain": [
              "float"
            ]
          },
          "metadata": {
            "tags": []
          },
          "execution_count": 5
        }
      ]
    },
    {
      "cell_type": "markdown",
      "metadata": {
        "id": "VoJPbhIhfBfb"
      },
      "source": [
        "**Strings**\n",
        "\n",
        "Sequence of characters which are enclosed within single or double quotes and are immutable"
      ]
    },
    {
      "cell_type": "code",
      "metadata": {
        "execution": {
          "iopub.status.busy": "2021-08-08T15:55:37.967873Z",
          "iopub.execute_input": "2021-08-08T15:55:37.968244Z",
          "iopub.status.idle": "2021-08-08T15:55:37.977829Z",
          "shell.execute_reply.started": "2021-08-08T15:55:37.968207Z",
          "shell.execute_reply": "2021-08-08T15:55:37.976942Z"
        },
        "trusted": true,
        "colab": {
          "base_uri": "https://localhost:8080/"
        },
        "id": "BnuoyiMVfBfb",
        "outputId": "b9b2fc9e-e88c-4cad-8e97-5ce11708a17a"
      },
      "source": [
        "sample_string = '1% can also be expressed as 0.01'\n",
        "print(sample_string)"
      ],
      "execution_count": 6,
      "outputs": [
        {
          "output_type": "stream",
          "text": [
            "1% can also be expressed as 0.01\n"
          ],
          "name": "stdout"
        }
      ]
    },
    {
      "cell_type": "code",
      "metadata": {
        "execution": {
          "iopub.status.busy": "2021-08-08T15:55:37.979038Z",
          "iopub.execute_input": "2021-08-08T15:55:37.979460Z",
          "iopub.status.idle": "2021-08-08T15:55:37.990654Z",
          "shell.execute_reply.started": "2021-08-08T15:55:37.979432Z",
          "shell.execute_reply": "2021-08-08T15:55:37.989590Z"
        },
        "trusted": true,
        "colab": {
          "base_uri": "https://localhost:8080/"
        },
        "id": "qlaezRybfBfb",
        "outputId": "26dd168a-0dd5-47e7-8258-cec07a5196ca"
      },
      "source": [
        "sp = '224.8'\n",
        "type(sp)"
      ],
      "execution_count": 7,
      "outputs": [
        {
          "output_type": "execute_result",
          "data": {
            "text/plain": [
              "str"
            ]
          },
          "metadata": {
            "tags": []
          },
          "execution_count": 7
        }
      ]
    },
    {
      "cell_type": "code",
      "metadata": {
        "execution": {
          "iopub.status.busy": "2021-08-08T15:55:37.991783Z",
          "iopub.execute_input": "2021-08-08T15:55:37.992033Z",
          "iopub.status.idle": "2021-08-08T15:55:38.005925Z",
          "shell.execute_reply.started": "2021-08-08T15:55:37.992009Z",
          "shell.execute_reply": "2021-08-08T15:55:38.004943Z"
        },
        "trusted": true,
        "colab": {
          "base_uri": "https://localhost:8080/",
          "height": 35
        },
        "id": "kjUmqp-VfBfc",
        "outputId": "ca6c2fb1-8b88-4314-c414-1ac1a7af8a6d"
      },
      "source": [
        "#Concatenating 2 strings\n",
        "'Price of AAPL is :'+sp"
      ],
      "execution_count": 8,
      "outputs": [
        {
          "output_type": "execute_result",
          "data": {
            "application/vnd.google.colaboratory.intrinsic+json": {
              "type": "string"
            },
            "text/plain": [
              "'Price of AAPL is :224.8'"
            ]
          },
          "metadata": {
            "tags": []
          },
          "execution_count": 8
        }
      ]
    },
    {
      "cell_type": "code",
      "metadata": {
        "execution": {
          "iopub.status.busy": "2021-08-08T15:55:38.007153Z",
          "iopub.execute_input": "2021-08-08T15:55:38.007557Z",
          "iopub.status.idle": "2021-08-08T15:55:38.020451Z",
          "shell.execute_reply.started": "2021-08-08T15:55:38.007525Z",
          "shell.execute_reply": "2021-08-08T15:55:38.019313Z"
        },
        "trusted": true,
        "id": "aBhtqeg8fBfc"
      },
      "source": [
        "sp = 224.8"
      ],
      "execution_count": 9,
      "outputs": []
    },
    {
      "cell_type": "code",
      "metadata": {
        "execution": {
          "iopub.status.busy": "2021-08-08T15:55:38.021562Z",
          "iopub.execute_input": "2021-08-08T15:55:38.021955Z",
          "iopub.status.idle": "2021-08-08T15:55:38.035929Z",
          "shell.execute_reply.started": "2021-08-08T15:55:38.021923Z",
          "shell.execute_reply": "2021-08-08T15:55:38.034842Z"
        },
        "trusted": true,
        "colab": {
          "base_uri": "https://localhost:8080/",
          "height": 35
        },
        "id": "Qd2yQpm7fBfc",
        "outputId": "3e510681-e7bb-4685-e355-d338fda6f912"
      },
      "source": [
        "#Print Python 7 times\n",
        "'Python '*7"
      ],
      "execution_count": 10,
      "outputs": [
        {
          "output_type": "execute_result",
          "data": {
            "application/vnd.google.colaboratory.intrinsic+json": {
              "type": "string"
            },
            "text/plain": [
              "'Python Python Python Python Python Python Python '"
            ]
          },
          "metadata": {
            "tags": []
          },
          "execution_count": 10
        }
      ]
    },
    {
      "cell_type": "markdown",
      "metadata": {
        "id": "EU3Fn71RfBfc"
      },
      "source": [
        "**Slicing**\n",
        "\n",
        "It is extracting a part or creating substring from the existing string. syn:str[index] or str[start:end-1]"
      ]
    },
    {
      "cell_type": "code",
      "metadata": {
        "execution": {
          "iopub.status.busy": "2021-08-08T15:55:38.067579Z",
          "iopub.execute_input": "2021-08-08T15:55:38.067894Z",
          "iopub.status.idle": "2021-08-08T15:55:38.074068Z",
          "shell.execute_reply.started": "2021-08-08T15:55:38.067863Z",
          "shell.execute_reply": "2021-08-08T15:55:38.073008Z"
        },
        "trusted": true,
        "colab": {
          "base_uri": "https://localhost:8080/",
          "height": 35
        },
        "id": "MXHMjTyQfBfd",
        "outputId": "47fe095f-6334-4f82-cc39-cd98cc821ff5"
      },
      "source": [
        "book = 'Machine Learning using Python'\n",
        "book[0]"
      ],
      "execution_count": 11,
      "outputs": [
        {
          "output_type": "execute_result",
          "data": {
            "application/vnd.google.colaboratory.intrinsic+json": {
              "type": "string"
            },
            "text/plain": [
              "'M'"
            ]
          },
          "metadata": {
            "tags": []
          },
          "execution_count": 11
        }
      ]
    },
    {
      "cell_type": "code",
      "metadata": {
        "execution": {
          "iopub.status.busy": "2021-08-08T15:55:38.075588Z",
          "iopub.execute_input": "2021-08-08T15:55:38.075886Z",
          "iopub.status.idle": "2021-08-08T15:55:38.087615Z",
          "shell.execute_reply.started": "2021-08-08T15:55:38.075857Z",
          "shell.execute_reply": "2021-08-08T15:55:38.086440Z"
        },
        "trusted": true,
        "colab": {
          "base_uri": "https://localhost:8080/",
          "height": 35
        },
        "id": "TUMY1_gKfBfd",
        "outputId": "76ab3277-af53-4ae7-a795-b1168c8ae0d0"
      },
      "source": [
        "ml = book[:7]\n",
        "ml"
      ],
      "execution_count": 12,
      "outputs": [
        {
          "output_type": "execute_result",
          "data": {
            "application/vnd.google.colaboratory.intrinsic+json": {
              "type": "string"
            },
            "text/plain": [
              "'Machine'"
            ]
          },
          "metadata": {
            "tags": []
          },
          "execution_count": 12
        }
      ]
    },
    {
      "cell_type": "code",
      "metadata": {
        "execution": {
          "iopub.status.busy": "2021-08-08T15:55:38.089735Z",
          "iopub.execute_input": "2021-08-08T15:55:38.090036Z",
          "iopub.status.idle": "2021-08-08T15:55:38.098953Z",
          "shell.execute_reply.started": "2021-08-08T15:55:38.090004Z",
          "shell.execute_reply": "2021-08-08T15:55:38.097996Z"
        },
        "trusted": true,
        "colab": {
          "base_uri": "https://localhost:8080/",
          "height": 35
        },
        "id": "S8lft7_VfBfe",
        "outputId": "0e7b9471-0041-4da5-c8f9-1c7cab1fa0b8"
      },
      "source": [
        "book[5:13]"
      ],
      "execution_count": 13,
      "outputs": [
        {
          "output_type": "execute_result",
          "data": {
            "application/vnd.google.colaboratory.intrinsic+json": {
              "type": "string"
            },
            "text/plain": [
              "'ne Learn'"
            ]
          },
          "metadata": {
            "tags": []
          },
          "execution_count": 13
        }
      ]
    },
    {
      "cell_type": "code",
      "metadata": {
        "execution": {
          "iopub.status.busy": "2021-08-08T15:55:38.100265Z",
          "iopub.execute_input": "2021-08-08T15:55:38.100595Z",
          "iopub.status.idle": "2021-08-08T15:55:38.112410Z",
          "shell.execute_reply.started": "2021-08-08T15:55:38.100563Z",
          "shell.execute_reply": "2021-08-08T15:55:38.111390Z"
        },
        "trusted": true,
        "colab": {
          "base_uri": "https://localhost:8080/",
          "height": 35
        },
        "id": "zGhsw6Q-fBfe",
        "outputId": "7079b828-7dfc-4bd7-a96b-bae1f193a0c6"
      },
      "source": [
        "book[8:]"
      ],
      "execution_count": 14,
      "outputs": [
        {
          "output_type": "execute_result",
          "data": {
            "application/vnd.google.colaboratory.intrinsic+json": {
              "type": "string"
            },
            "text/plain": [
              "'Learning using Python'"
            ]
          },
          "metadata": {
            "tags": []
          },
          "execution_count": 14
        }
      ]
    },
    {
      "cell_type": "code",
      "metadata": {
        "execution": {
          "iopub.status.busy": "2021-08-08T15:55:38.114003Z",
          "iopub.execute_input": "2021-08-08T15:55:38.114446Z",
          "iopub.status.idle": "2021-08-08T15:55:38.125617Z",
          "shell.execute_reply.started": "2021-08-08T15:55:38.114400Z",
          "shell.execute_reply": "2021-08-08T15:55:38.124289Z"
        },
        "trusted": true,
        "colab": {
          "base_uri": "https://localhost:8080/",
          "height": 35
        },
        "id": "cm2UuX2PfBfe",
        "outputId": "4e242b6b-ac9c-4421-b259-ed9d46b7539e"
      },
      "source": [
        "#using step\n",
        "book[::2]"
      ],
      "execution_count": 15,
      "outputs": [
        {
          "output_type": "execute_result",
          "data": {
            "application/vnd.google.colaboratory.intrinsic+json": {
              "type": "string"
            },
            "text/plain": [
              "'McieLann sn yhn'"
            ]
          },
          "metadata": {
            "tags": []
          },
          "execution_count": 15
        }
      ]
    },
    {
      "cell_type": "code",
      "metadata": {
        "execution": {
          "iopub.status.busy": "2021-08-08T15:55:38.127070Z",
          "iopub.execute_input": "2021-08-08T15:55:38.127395Z",
          "iopub.status.idle": "2021-08-08T15:55:38.138689Z",
          "shell.execute_reply.started": "2021-08-08T15:55:38.127364Z",
          "shell.execute_reply": "2021-08-08T15:55:38.137548Z"
        },
        "trusted": true,
        "colab": {
          "base_uri": "https://localhost:8080/",
          "height": 35
        },
        "id": "AKVwM_DhfBfe",
        "outputId": "b184a378-4e3e-4009-cd7b-63b46a4b2951"
      },
      "source": [
        "book"
      ],
      "execution_count": 16,
      "outputs": [
        {
          "output_type": "execute_result",
          "data": {
            "application/vnd.google.colaboratory.intrinsic+json": {
              "type": "string"
            },
            "text/plain": [
              "'Machine Learning using Python'"
            ]
          },
          "metadata": {
            "tags": []
          },
          "execution_count": 16
        }
      ]
    },
    {
      "cell_type": "code",
      "metadata": {
        "execution": {
          "iopub.status.busy": "2021-08-08T15:55:38.225779Z",
          "iopub.execute_input": "2021-08-08T15:55:38.226150Z",
          "iopub.status.idle": "2021-08-08T15:55:38.232500Z",
          "shell.execute_reply.started": "2021-08-08T15:55:38.226116Z",
          "shell.execute_reply": "2021-08-08T15:55:38.231446Z"
        },
        "trusted": true,
        "colab": {
          "base_uri": "https://localhost:8080/",
          "height": 35
        },
        "id": "ow3ljOz4fBff",
        "outputId": "d1569ef2-069a-467a-aa4f-998ec840f5c1"
      },
      "source": [
        "#reverse the string\n",
        "book[::-1]"
      ],
      "execution_count": 17,
      "outputs": [
        {
          "output_type": "execute_result",
          "data": {
            "application/vnd.google.colaboratory.intrinsic+json": {
              "type": "string"
            },
            "text/plain": [
              "'nohtyP gnisu gninraeL enihcaM'"
            ]
          },
          "metadata": {
            "tags": []
          },
          "execution_count": 17
        }
      ]
    },
    {
      "cell_type": "markdown",
      "metadata": {
        "id": "BZIfHjDnfBff"
      },
      "source": [
        "**Operations on Strings**\n",
        "\n",
        "Using inbuilt methods on string"
      ]
    },
    {
      "cell_type": "code",
      "metadata": {
        "execution": {
          "iopub.status.busy": "2021-08-08T15:55:38.235327Z",
          "iopub.execute_input": "2021-08-08T15:55:38.235642Z",
          "iopub.status.idle": "2021-08-08T15:55:38.245638Z",
          "shell.execute_reply.started": "2021-08-08T15:55:38.235609Z",
          "shell.execute_reply": "2021-08-08T15:55:38.244625Z"
        },
        "trusted": true,
        "colab": {
          "base_uri": "https://localhost:8080/",
          "height": 35
        },
        "id": "-c86zgSgfBff",
        "outputId": "1615b664-160a-477a-ea01-586b48876a9b"
      },
      "source": [
        "#.upper(): This will return the uppercase version of the string\n",
        "ml.upper()"
      ],
      "execution_count": 18,
      "outputs": [
        {
          "output_type": "execute_result",
          "data": {
            "application/vnd.google.colaboratory.intrinsic+json": {
              "type": "string"
            },
            "text/plain": [
              "'MACHINE'"
            ]
          },
          "metadata": {
            "tags": []
          },
          "execution_count": 18
        }
      ]
    },
    {
      "cell_type": "code",
      "metadata": {
        "execution": {
          "iopub.status.busy": "2021-08-08T15:55:38.247579Z",
          "iopub.execute_input": "2021-08-08T15:55:38.247859Z",
          "iopub.status.idle": "2021-08-08T15:55:38.260637Z",
          "shell.execute_reply.started": "2021-08-08T15:55:38.247830Z",
          "shell.execute_reply": "2021-08-08T15:55:38.259856Z"
        },
        "trusted": true,
        "colab": {
          "base_uri": "https://localhost:8080/",
          "height": 35
        },
        "id": "6CDHSqFzfBff",
        "outputId": "14fe103a-3575-4aa8-8787-249ca53de3e2"
      },
      "source": [
        "#.lower(): This will return the lower case version of the string\n",
        "ml.lower()"
      ],
      "execution_count": 19,
      "outputs": [
        {
          "output_type": "execute_result",
          "data": {
            "application/vnd.google.colaboratory.intrinsic+json": {
              "type": "string"
            },
            "text/plain": [
              "'machine'"
            ]
          },
          "metadata": {
            "tags": []
          },
          "execution_count": 19
        }
      ]
    },
    {
      "cell_type": "code",
      "metadata": {
        "execution": {
          "iopub.status.busy": "2021-08-08T15:55:38.261897Z",
          "iopub.execute_input": "2021-08-08T15:55:38.262221Z",
          "iopub.status.idle": "2021-08-08T15:55:38.274584Z",
          "shell.execute_reply.started": "2021-08-08T15:55:38.262190Z",
          "shell.execute_reply": "2021-08-08T15:55:38.273596Z"
        },
        "trusted": true,
        "colab": {
          "base_uri": "https://localhost:8080/",
          "height": 35
        },
        "id": "SARko2FNfBfg",
        "outputId": "5847f9b0-0738-45df-c507-62a563e222a1"
      },
      "source": [
        "#strip(): This function will remove the white spaces at the either end\n",
        "\"     Welcome to Python Programming      \".strip()"
      ],
      "execution_count": 20,
      "outputs": [
        {
          "output_type": "execute_result",
          "data": {
            "application/vnd.google.colaboratory.intrinsic+json": {
              "type": "string"
            },
            "text/plain": [
              "'Welcome to Python Programming'"
            ]
          },
          "metadata": {
            "tags": []
          },
          "execution_count": 20
        }
      ]
    },
    {
      "cell_type": "code",
      "metadata": {
        "execution": {
          "iopub.status.busy": "2021-08-08T15:55:38.276153Z",
          "iopub.execute_input": "2021-08-08T15:55:38.276498Z",
          "iopub.status.idle": "2021-08-08T15:55:38.289566Z",
          "shell.execute_reply.started": "2021-08-08T15:55:38.276466Z",
          "shell.execute_reply": "2021-08-08T15:55:38.288460Z"
        },
        "trusted": true,
        "colab": {
          "base_uri": "https://localhost:8080/",
          "height": 35
        },
        "id": "BpzDyhkDfBfg",
        "outputId": "4e02f0b6-99d3-46d7-cf6f-148fe4ea6816"
      },
      "source": [
        "\"     Welcome to Python Programming      \".lstrip()"
      ],
      "execution_count": 21,
      "outputs": [
        {
          "output_type": "execute_result",
          "data": {
            "application/vnd.google.colaboratory.intrinsic+json": {
              "type": "string"
            },
            "text/plain": [
              "'Welcome to Python Programming      '"
            ]
          },
          "metadata": {
            "tags": []
          },
          "execution_count": 21
        }
      ]
    },
    {
      "cell_type": "code",
      "metadata": {
        "execution": {
          "iopub.status.busy": "2021-08-08T15:55:38.291421Z",
          "iopub.execute_input": "2021-08-08T15:55:38.291859Z",
          "iopub.status.idle": "2021-08-08T15:55:38.303823Z",
          "shell.execute_reply.started": "2021-08-08T15:55:38.291814Z",
          "shell.execute_reply": "2021-08-08T15:55:38.303067Z"
        },
        "trusted": true,
        "colab": {
          "base_uri": "https://localhost:8080/",
          "height": 35
        },
        "id": "iyOADlC5fBfg",
        "outputId": "bfd17257-e531-4daf-8f34-50a0ac09622f"
      },
      "source": [
        "\"     Welcome to Python Programming      \".rstrip()"
      ],
      "execution_count": 22,
      "outputs": [
        {
          "output_type": "execute_result",
          "data": {
            "application/vnd.google.colaboratory.intrinsic+json": {
              "type": "string"
            },
            "text/plain": [
              "'     Welcome to Python Programming'"
            ]
          },
          "metadata": {
            "tags": []
          },
          "execution_count": 22
        }
      ]
    },
    {
      "cell_type": "code",
      "metadata": {
        "execution": {
          "iopub.status.busy": "2021-08-08T15:55:38.305097Z",
          "iopub.execute_input": "2021-08-08T15:55:38.305504Z",
          "iopub.status.idle": "2021-08-08T15:55:38.319015Z",
          "shell.execute_reply.started": "2021-08-08T15:55:38.305462Z",
          "shell.execute_reply": "2021-08-08T15:55:38.318065Z"
        },
        "trusted": true,
        "colab": {
          "base_uri": "https://localhost:8080/"
        },
        "id": "OMec3m__fBfg",
        "outputId": "a3391db3-e245-4ec6-a4e0-82a5d66b1361"
      },
      "source": [
        "#Check whether the string contains Alphabet or not\n",
        "#isalpha(): returns a boolean value True if the string contains alphabets ,else false\n",
        "'Machine'.isalpha()"
      ],
      "execution_count": 23,
      "outputs": [
        {
          "output_type": "execute_result",
          "data": {
            "text/plain": [
              "True"
            ]
          },
          "metadata": {
            "tags": []
          },
          "execution_count": 23
        }
      ]
    },
    {
      "cell_type": "code",
      "metadata": {
        "execution": {
          "iopub.status.busy": "2021-08-08T15:55:38.319992Z",
          "iopub.execute_input": "2021-08-08T15:55:38.320285Z",
          "iopub.status.idle": "2021-08-08T15:55:38.331145Z",
          "shell.execute_reply.started": "2021-08-08T15:55:38.320258Z",
          "shell.execute_reply": "2021-08-08T15:55:38.330338Z"
        },
        "trusted": true,
        "colab": {
          "base_uri": "https://localhost:8080/"
        },
        "id": "YkLSVLj4fBfh",
        "outputId": "3c7caf47-803a-4330-c704-54eba2f4df64"
      },
      "source": [
        "#check whether the given string contains digits or not\n",
        "#isdigit() or isnumeric(): returns a boolean value True, if the string contains numbers or digits, else false\n",
        "'1234567890'.isdigit()"
      ],
      "execution_count": 24,
      "outputs": [
        {
          "output_type": "execute_result",
          "data": {
            "text/plain": [
              "True"
            ]
          },
          "metadata": {
            "tags": []
          },
          "execution_count": 24
        }
      ]
    },
    {
      "cell_type": "code",
      "metadata": {
        "execution": {
          "iopub.status.busy": "2021-08-08T15:55:38.332220Z",
          "iopub.execute_input": "2021-08-08T15:55:38.332732Z",
          "iopub.status.idle": "2021-08-08T15:55:38.344304Z",
          "shell.execute_reply.started": "2021-08-08T15:55:38.332702Z",
          "shell.execute_reply": "2021-08-08T15:55:38.343351Z"
        },
        "trusted": true,
        "colab": {
          "base_uri": "https://localhost:8080/"
        },
        "id": "JWcDAbzAfBfh",
        "outputId": "9b6a550a-f88b-4449-a7e1-d7213b3b95e3"
      },
      "source": [
        "'1234567890'.isnumeric()"
      ],
      "execution_count": 25,
      "outputs": [
        {
          "output_type": "execute_result",
          "data": {
            "text/plain": [
              "True"
            ]
          },
          "metadata": {
            "tags": []
          },
          "execution_count": 25
        }
      ]
    },
    {
      "cell_type": "code",
      "metadata": {
        "execution": {
          "iopub.status.busy": "2021-08-08T15:55:38.345666Z",
          "iopub.execute_input": "2021-08-08T15:55:38.346167Z",
          "iopub.status.idle": "2021-08-08T15:55:38.358179Z",
          "shell.execute_reply.started": "2021-08-08T15:55:38.346062Z",
          "shell.execute_reply": "2021-08-08T15:55:38.357293Z"
        },
        "trusted": true,
        "colab": {
          "base_uri": "https://localhost:8080/"
        },
        "id": "51D8431ffBfh",
        "outputId": "63d35d44-7b47-448c-d9d4-26084dd90300"
      },
      "source": [
        "'naw az'.isalpha()"
      ],
      "execution_count": 26,
      "outputs": [
        {
          "output_type": "execute_result",
          "data": {
            "text/plain": [
              "False"
            ]
          },
          "metadata": {
            "tags": []
          },
          "execution_count": 26
        }
      ]
    },
    {
      "cell_type": "code",
      "metadata": {
        "execution": {
          "iopub.status.busy": "2021-08-08T15:55:38.359555Z",
          "iopub.execute_input": "2021-08-08T15:55:38.359952Z",
          "iopub.status.idle": "2021-08-08T15:55:38.370508Z",
          "shell.execute_reply.started": "2021-08-08T15:55:38.359912Z",
          "shell.execute_reply": "2021-08-08T15:55:38.369624Z"
        },
        "trusted": true,
        "colab": {
          "base_uri": "https://localhost:8080/"
        },
        "id": "4rMODkZyfBfh",
        "outputId": "866ab7c4-cc62-49d9-b31f-233533c0a0fa"
      },
      "source": [
        "'''find(sub, start, end): This method returns the lowest index in a string where\n",
        "substring sub is found within the slice[start:end].'''\n",
        "'EPAT Handbook'.find('EPAT')"
      ],
      "execution_count": 27,
      "outputs": [
        {
          "output_type": "execute_result",
          "data": {
            "text/plain": [
              "0"
            ]
          },
          "metadata": {
            "tags": []
          },
          "execution_count": 27
        }
      ]
    },
    {
      "cell_type": "code",
      "metadata": {
        "execution": {
          "iopub.status.busy": "2021-08-08T15:55:38.371920Z",
          "iopub.execute_input": "2021-08-08T15:55:38.372597Z",
          "iopub.status.idle": "2021-08-08T15:55:38.384618Z",
          "shell.execute_reply.started": "2021-08-08T15:55:38.372552Z",
          "shell.execute_reply": "2021-08-08T15:55:38.383448Z"
        },
        "trusted": true,
        "colab": {
          "base_uri": "https://localhost:8080/"
        },
        "id": "G4iaCOmcfBfi",
        "outputId": "7999e4ee-301e-4977-d7e7-66fb50d08870"
      },
      "source": [
        "'EPAT Handbook'.find('book')"
      ],
      "execution_count": 28,
      "outputs": [
        {
          "output_type": "execute_result",
          "data": {
            "text/plain": [
              "9"
            ]
          },
          "metadata": {
            "tags": []
          },
          "execution_count": 28
        }
      ]
    },
    {
      "cell_type": "code",
      "metadata": {
        "execution": {
          "iopub.status.busy": "2021-08-08T15:55:38.387297Z",
          "iopub.execute_input": "2021-08-08T15:55:38.387662Z",
          "iopub.status.idle": "2021-08-08T15:55:38.398269Z",
          "shell.execute_reply.started": "2021-08-08T15:55:38.387632Z",
          "shell.execute_reply": "2021-08-08T15:55:38.397092Z"
        },
        "trusted": true,
        "colab": {
          "base_uri": "https://localhost:8080/"
        },
        "id": "J1b3V1difBfi",
        "outputId": "9803767f-fbf8-485c-a901-b73a320c9691"
      },
      "source": [
        "'EPAT Handbook'.find('a')"
      ],
      "execution_count": 29,
      "outputs": [
        {
          "output_type": "execute_result",
          "data": {
            "text/plain": [
              "6"
            ]
          },
          "metadata": {
            "tags": []
          },
          "execution_count": 29
        }
      ]
    },
    {
      "cell_type": "code",
      "metadata": {
        "execution": {
          "iopub.status.busy": "2021-08-08T15:55:38.399940Z",
          "iopub.execute_input": "2021-08-08T15:55:38.400435Z",
          "iopub.status.idle": "2021-08-08T15:55:38.410325Z",
          "shell.execute_reply.started": "2021-08-08T15:55:38.400391Z",
          "shell.execute_reply": "2021-08-08T15:55:38.409221Z"
        },
        "trusted": true,
        "colab": {
          "base_uri": "https://localhost:8080/"
        },
        "id": "bXp5TwYNfBfi",
        "outputId": "0fa6fdd0-9eed-40a2-ed2a-2d1bc8419c0f"
      },
      "source": [
        "'EPAT Handbook'.find('o')"
      ],
      "execution_count": 30,
      "outputs": [
        {
          "output_type": "execute_result",
          "data": {
            "text/plain": [
              "10"
            ]
          },
          "metadata": {
            "tags": []
          },
          "execution_count": 30
        }
      ]
    },
    {
      "cell_type": "code",
      "metadata": {
        "execution": {
          "iopub.status.busy": "2021-08-08T15:55:38.411730Z",
          "iopub.execute_input": "2021-08-08T15:55:38.412249Z",
          "iopub.status.idle": "2021-08-08T15:55:38.425068Z",
          "shell.execute_reply.started": "2021-08-08T15:55:38.412213Z",
          "shell.execute_reply": "2021-08-08T15:55:38.424020Z"
        },
        "trusted": true,
        "colab": {
          "base_uri": "https://localhost:8080/"
        },
        "id": "yCUyScF5fBfi",
        "outputId": "5ff036a4-3dd3-4f55-c854-ca06e5ccb7d3"
      },
      "source": [
        "'EPAT Handbook'.find('y')"
      ],
      "execution_count": 31,
      "outputs": [
        {
          "output_type": "execute_result",
          "data": {
            "text/plain": [
              "-1"
            ]
          },
          "metadata": {
            "tags": []
          },
          "execution_count": 31
        }
      ]
    },
    {
      "cell_type": "code",
      "metadata": {
        "execution": {
          "iopub.status.busy": "2021-08-08T15:55:38.426406Z",
          "iopub.execute_input": "2021-08-08T15:55:38.426798Z",
          "iopub.status.idle": "2021-08-08T15:55:38.434861Z",
          "shell.execute_reply.started": "2021-08-08T15:55:38.426769Z",
          "shell.execute_reply": "2021-08-08T15:55:38.434236Z"
        },
        "trusted": true,
        "colab": {
          "base_uri": "https://localhost:8080/",
          "height": 35
        },
        "id": "QuYbco-vfBfi",
        "outputId": "362e1cce-6cfb-4cfe-907f-f7b96e2dfa6d"
      },
      "source": [
        "'''replace(old, new): This method returns a copy of the string with all\n",
        "occurences of old replaced by new'''\n",
        "'00 01 10 11'.replace('0','1')"
      ],
      "execution_count": 32,
      "outputs": [
        {
          "output_type": "execute_result",
          "data": {
            "application/vnd.google.colaboratory.intrinsic+json": {
              "type": "string"
            },
            "text/plain": [
              "'11 11 11 11'"
            ]
          },
          "metadata": {
            "tags": []
          },
          "execution_count": 32
        }
      ]
    },
    {
      "cell_type": "code",
      "metadata": {
        "execution": {
          "iopub.status.busy": "2021-08-08T15:55:38.436970Z",
          "iopub.execute_input": "2021-08-08T15:55:38.437301Z",
          "iopub.status.idle": "2021-08-08T15:55:38.450002Z",
          "shell.execute_reply.started": "2021-08-08T15:55:38.437273Z",
          "shell.execute_reply": "2021-08-08T15:55:38.448998Z"
        },
        "trusted": true,
        "colab": {
          "base_uri": "https://localhost:8080/",
          "height": 35
        },
        "id": "4yZRbOkqfBfj",
        "outputId": "fadf43da-93b3-4e88-e660-83aaf14af366"
      },
      "source": [
        "#replace a with o\n",
        "'Hakuna Matata'.replace('a','o')"
      ],
      "execution_count": 33,
      "outputs": [
        {
          "output_type": "execute_result",
          "data": {
            "application/vnd.google.colaboratory.intrinsic+json": {
              "type": "string"
            },
            "text/plain": [
              "'Hokuno Mototo'"
            ]
          },
          "metadata": {
            "tags": []
          },
          "execution_count": 33
        }
      ]
    },
    {
      "cell_type": "code",
      "metadata": {
        "execution": {
          "iopub.status.busy": "2021-08-08T15:55:38.453004Z",
          "iopub.execute_input": "2021-08-08T15:55:38.453515Z",
          "iopub.status.idle": "2021-08-08T15:55:38.461847Z",
          "shell.execute_reply.started": "2021-08-08T15:55:38.453324Z",
          "shell.execute_reply": "2021-08-08T15:55:38.460694Z"
        },
        "trusted": true,
        "colab": {
          "base_uri": "https://localhost:8080/"
        },
        "id": "UoXoPsUefBfj",
        "outputId": "79c6370b-2791-4528-c45b-cba047f9248e"
      },
      "source": [
        "#index(character): This returns the index of the given character\n",
        "'EPAT Handbook'.index('A')"
      ],
      "execution_count": 34,
      "outputs": [
        {
          "output_type": "execute_result",
          "data": {
            "text/plain": [
              "2"
            ]
          },
          "metadata": {
            "tags": []
          },
          "execution_count": 34
        }
      ]
    },
    {
      "cell_type": "code",
      "metadata": {
        "execution": {
          "iopub.status.busy": "2021-08-08T15:55:38.463327Z",
          "iopub.execute_input": "2021-08-08T15:55:38.463580Z",
          "iopub.status.idle": "2021-08-08T15:55:38.474714Z",
          "shell.execute_reply.started": "2021-08-08T15:55:38.463556Z",
          "shell.execute_reply": "2021-08-08T15:55:38.473740Z"
        },
        "trusted": true,
        "colab": {
          "base_uri": "https://localhost:8080/"
        },
        "id": "9GbHX2XrfBfj",
        "outputId": "699def44-4458-4c35-cca8-f0e7bdda97ba"
      },
      "source": [
        "#count(character): This method returns the index of first occurence of the character\n",
        "'Learning'.count('n')"
      ],
      "execution_count": 35,
      "outputs": [
        {
          "output_type": "execute_result",
          "data": {
            "text/plain": [
              "2"
            ]
          },
          "metadata": {
            "tags": []
          },
          "execution_count": 35
        }
      ]
    },
    {
      "cell_type": "code",
      "metadata": {
        "execution": {
          "iopub.status.busy": "2021-08-08T15:55:38.475735Z",
          "iopub.execute_input": "2021-08-08T15:55:38.475991Z",
          "iopub.status.idle": "2021-08-08T15:55:38.491495Z",
          "shell.execute_reply.started": "2021-08-08T15:55:38.475965Z",
          "shell.execute_reply": "2021-08-08T15:55:38.490467Z"
        },
        "trusted": true,
        "colab": {
          "base_uri": "https://localhost:8080/"
        },
        "id": "XKysbjccfBfj",
        "outputId": "a6bf4ffe-53f8-496d-eb8c-027054e386cf"
      },
      "source": [
        "'Mississippi'.count('s')"
      ],
      "execution_count": 36,
      "outputs": [
        {
          "output_type": "execute_result",
          "data": {
            "text/plain": [
              "4"
            ]
          },
          "metadata": {
            "tags": []
          },
          "execution_count": 36
        }
      ]
    },
    {
      "cell_type": "code",
      "metadata": {
        "execution": {
          "iopub.status.busy": "2021-08-08T15:55:38.493235Z",
          "iopub.execute_input": "2021-08-08T15:55:38.493724Z",
          "iopub.status.idle": "2021-08-08T15:55:38.504162Z",
          "shell.execute_reply.started": "2021-08-08T15:55:38.493679Z",
          "shell.execute_reply": "2021-08-08T15:55:38.503449Z"
        },
        "trusted": true,
        "colab": {
          "base_uri": "https://localhost:8080/",
          "height": 35
        },
        "id": "iEE9pS25fBfj",
        "outputId": "1b2ac565-3664-45ee-c119-20ecd50ffdeb"
      },
      "source": [
        "#Capitalize(): this method will convert the first character to uppercase and remaining to lower case\n",
        "'python is amazing'.capitalize() "
      ],
      "execution_count": 37,
      "outputs": [
        {
          "output_type": "execute_result",
          "data": {
            "application/vnd.google.colaboratory.intrinsic+json": {
              "type": "string"
            },
            "text/plain": [
              "'Python is amazing'"
            ]
          },
          "metadata": {
            "tags": []
          },
          "execution_count": 37
        }
      ]
    }
  ]
}