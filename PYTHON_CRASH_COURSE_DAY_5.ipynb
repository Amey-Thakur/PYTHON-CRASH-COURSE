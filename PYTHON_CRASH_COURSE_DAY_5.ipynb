{
  "nbformat": 4,
  "nbformat_minor": 0,
  "metadata": {
    "kernelspec": {
      "language": "python",
      "display_name": "Python 3",
      "name": "python3"
    },
    "language_info": {
      "name": "python",
      "version": "3.7.10",
      "mimetype": "text/x-python",
      "codemirror_mode": {
        "name": "ipython",
        "version": 3
      },
      "pygments_lexer": "ipython3",
      "nbconvert_exporter": "python",
      "file_extension": ".py"
    },
    "colab": {
      "name": "PYTHON-CRASH-COURSE-DAY-5.ipynb",
      "provenance": [],
      "include_colab_link": true
    }
  },
  "cells": [
    {
      "cell_type": "markdown",
      "metadata": {
        "id": "view-in-github",
        "colab_type": "text"
      },
      "source": [
        "<a href=\"https://colab.research.google.com/github/Amey-Thakur/PYTHON-CRASH-COURSE/blob/main/PYTHON_CRASH_COURSE_DAY_5.ipynb\" target=\"_parent\"><img src=\"https://colab.research.google.com/assets/colab-badge.svg\" alt=\"Open In Colab\"/></a>"
      ]
    },
    {
      "cell_type": "markdown",
      "metadata": {
        "id": "cVg6rZAGK_7H"
      },
      "source": [
        "# **Day 5**\n",
        "\n",
        "**Exceptions**\n",
        "\n",
        "Exception is an abnormal condition which changes the flow of execution of the program.\n",
        "\n",
        "\n",
        "**Handling the exceptions using try/except clause**"
      ]
    },
    {
      "cell_type": "code",
      "metadata": {
        "execution": {
          "iopub.status.busy": "2021-08-08T19:09:06.814533Z",
          "iopub.execute_input": "2021-08-08T19:09:06.815081Z",
          "iopub.status.idle": "2021-08-08T19:09:06.828853Z",
          "shell.execute_reply.started": "2021-08-08T19:09:06.814971Z",
          "shell.execute_reply": "2021-08-08T19:09:06.827785Z"
        },
        "trusted": true,
        "colab": {
          "base_uri": "https://localhost:8080/"
        },
        "id": "255IxNA4K_7I",
        "outputId": "8e4d853c-46a2-4eea-ef39-8c20ef2335a4"
      },
      "source": [
        "import sys\n",
        "\n",
        "randomLst = ['a',0,2]\n",
        "\n",
        "for entry in randomLst:\n",
        "  try:\n",
        "    #here are the suspicious statements\n",
        "    print(\"The entry point is :\", entry)\n",
        "\n",
        "    r = 1/int(entry)    #this will generate exceptions\n",
        "    break\n",
        "  \n",
        "  except:\n",
        "    print(\"Oops! \",sys.exc_info()[0], \"occured\")\n",
        "    print(\"Next entry\")\n",
        "    print()\n",
        "\n",
        "print(\"The reciprocal of \",entry, \" is \", r)"
      ],
      "execution_count": 1,
      "outputs": [
        {
          "output_type": "stream",
          "text": [
            "The entry point is : a\n",
            "Oops!  <class 'ValueError'> occured\n",
            "Next entry\n",
            "\n",
            "The entry point is : 0\n",
            "Oops!  <class 'ZeroDivisionError'> occured\n",
            "Next entry\n",
            "\n",
            "The entry point is : 2\n",
            "The reciprocal of  2  is  0.5\n"
          ],
          "name": "stdout"
        }
      ]
    },
    {
      "cell_type": "markdown",
      "metadata": {
        "id": "DFDrwB5FK_7J"
      },
      "source": [
        "# **Day 5 contd**\n",
        "\n",
        "**Numpy**\n",
        "\n",
        "Its package or module to perform scientific computing in python efficiently. It works only on numerical data."
      ]
    },
    {
      "cell_type": "code",
      "metadata": {
        "execution": {
          "iopub.status.busy": "2021-08-08T19:09:06.830651Z",
          "iopub.execute_input": "2021-08-08T19:09:06.831374Z",
          "iopub.status.idle": "2021-08-08T19:09:06.840160Z",
          "shell.execute_reply.started": "2021-08-08T19:09:06.831325Z",
          "shell.execute_reply": "2021-08-08T19:09:06.839180Z"
        },
        "trusted": true,
        "id": "MmR5_K5zK_7K"
      },
      "source": [
        "#Numpy Arrays\n",
        "\n",
        "#list of put volume data in lacs\n",
        "put_vol = [52.89, 45.14, 63.84, 77.1, 74.6]\n",
        "\n",
        "#list of call volume in lacs\n",
        "call_vol = [49.41, 50.45, 59.11, 80.49, 65.11]"
      ],
      "execution_count": 2,
      "outputs": []
    },
    {
      "cell_type": "code",
      "metadata": {
        "execution": {
          "iopub.status.busy": "2021-08-08T19:09:06.841627Z",
          "iopub.execute_input": "2021-08-08T19:09:06.841926Z",
          "iopub.status.idle": "2021-08-08T19:09:14.204590Z",
          "shell.execute_reply.started": "2021-08-08T19:09:06.841896Z",
          "shell.execute_reply": "2021-08-08T19:09:14.203614Z"
        },
        "trusted": true,
        "id": "fFpm4i0OK_7K"
      },
      "source": [
        "#lets install numpy in colab\n",
        "!pip install -q numpy"
      ],
      "execution_count": 3,
      "outputs": []
    },
    {
      "cell_type": "code",
      "metadata": {
        "execution": {
          "iopub.status.busy": "2021-08-08T19:09:14.206276Z",
          "iopub.execute_input": "2021-08-08T19:09:14.206541Z",
          "iopub.status.idle": "2021-08-08T19:09:14.216147Z",
          "shell.execute_reply.started": "2021-08-08T19:09:14.206511Z",
          "shell.execute_reply": "2021-08-08T19:09:14.215176Z"
        },
        "trusted": true,
        "colab": {
          "base_uri": "https://localhost:8080/"
        },
        "id": "xaGYGACyK_7L",
        "outputId": "f52413dd-9f20-4475-ffed-414987ed8d79"
      },
      "source": [
        "#lets import numpy \n",
        "import numpy as np\n",
        "\n",
        "n_put_vol = np.array(put_vol)\n",
        "\n",
        "n_call_vol = np.array(call_vol)\n",
        "\n",
        "#compute pcr\n",
        "n_put_vol/n_call_vol"
      ],
      "execution_count": 4,
      "outputs": [
        {
          "output_type": "execute_result",
          "data": {
            "text/plain": [
              "array([1.07043109, 0.89474727, 1.0800203 , 0.95788297, 1.14575334])"
            ]
          },
          "metadata": {
            "tags": []
          },
          "execution_count": 4
        }
      ]
    },
    {
      "cell_type": "code",
      "metadata": {
        "execution": {
          "iopub.status.busy": "2021-08-08T19:09:14.218026Z",
          "iopub.execute_input": "2021-08-08T19:09:14.218393Z",
          "iopub.status.idle": "2021-08-08T19:09:14.231437Z",
          "shell.execute_reply.started": "2021-08-08T19:09:14.218357Z",
          "shell.execute_reply": "2021-08-08T19:09:14.230383Z"
        },
        "trusted": true,
        "colab": {
          "base_uri": "https://localhost:8080/"
        },
        "id": "u4RkLfPMK_7M",
        "outputId": "9f438314-7d11-4f55-8c05-70d6f643ccea"
      },
      "source": [
        "#lets create rank 1 array\n",
        "a = np.array([1,2,3])\n",
        "print(a, type(a))"
      ],
      "execution_count": 5,
      "outputs": [
        {
          "output_type": "stream",
          "text": [
            "[1 2 3] <class 'numpy.ndarray'>\n"
          ],
          "name": "stdout"
        }
      ]
    },
    {
      "cell_type": "code",
      "metadata": {
        "execution": {
          "iopub.status.busy": "2021-08-08T19:09:14.233202Z",
          "iopub.execute_input": "2021-08-08T19:09:14.233500Z",
          "iopub.status.idle": "2021-08-08T19:09:14.242060Z",
          "shell.execute_reply.started": "2021-08-08T19:09:14.233471Z",
          "shell.execute_reply": "2021-08-08T19:09:14.241154Z"
        },
        "trusted": true,
        "colab": {
          "base_uri": "https://localhost:8080/"
        },
        "id": "FE4j39IyK_7M",
        "outputId": "8475603e-0639-441b-b955-b3072d85d6f0"
      },
      "source": [
        "#lets know the shape of the array\n",
        "print(a.shape)"
      ],
      "execution_count": 6,
      "outputs": [
        {
          "output_type": "stream",
          "text": [
            "(3,)\n"
          ],
          "name": "stdout"
        }
      ]
    },
    {
      "cell_type": "code",
      "metadata": {
        "execution": {
          "iopub.status.busy": "2021-08-08T19:09:14.243429Z",
          "iopub.execute_input": "2021-08-08T19:09:14.243774Z",
          "iopub.status.idle": "2021-08-08T19:09:14.255095Z",
          "shell.execute_reply.started": "2021-08-08T19:09:14.243744Z",
          "shell.execute_reply": "2021-08-08T19:09:14.254156Z"
        },
        "trusted": true,
        "colab": {
          "base_uri": "https://localhost:8080/"
        },
        "id": "mH6g-wA2K_7N",
        "outputId": "dda85c7f-5c42-418c-c9ea-76048cd7fa71"
      },
      "source": [
        "#accessing the array elements\n",
        "print(a[0], a[1],a[2])"
      ],
      "execution_count": 7,
      "outputs": [
        {
          "output_type": "stream",
          "text": [
            "1 2 3\n"
          ],
          "name": "stdout"
        }
      ]
    },
    {
      "cell_type": "code",
      "metadata": {
        "execution": {
          "iopub.status.busy": "2021-08-08T19:09:14.256359Z",
          "iopub.execute_input": "2021-08-08T19:09:14.256655Z",
          "iopub.status.idle": "2021-08-08T19:09:14.266500Z",
          "shell.execute_reply.started": "2021-08-08T19:09:14.256609Z",
          "shell.execute_reply": "2021-08-08T19:09:14.265685Z"
        },
        "trusted": true,
        "id": "DJq_0TukK_7O"
      },
      "source": [
        "#lets update array item\n",
        "a[1] = 5"
      ],
      "execution_count": 8,
      "outputs": []
    },
    {
      "cell_type": "code",
      "metadata": {
        "execution": {
          "iopub.status.busy": "2021-08-08T19:09:14.267677Z",
          "iopub.execute_input": "2021-08-08T19:09:14.267926Z",
          "iopub.status.idle": "2021-08-08T19:09:14.282884Z",
          "shell.execute_reply.started": "2021-08-08T19:09:14.267901Z",
          "shell.execute_reply": "2021-08-08T19:09:14.282058Z"
        },
        "trusted": true,
        "colab": {
          "base_uri": "https://localhost:8080/"
        },
        "id": "u30Sx6oAK_7O",
        "outputId": "5a2bfd6e-2627-442d-b3b8-2987892c0226"
      },
      "source": [
        "a"
      ],
      "execution_count": 9,
      "outputs": [
        {
          "output_type": "execute_result",
          "data": {
            "text/plain": [
              "array([1, 5, 3])"
            ]
          },
          "metadata": {
            "tags": []
          },
          "execution_count": 9
        }
      ]
    },
    {
      "cell_type": "code",
      "metadata": {
        "execution": {
          "iopub.status.busy": "2021-08-08T19:09:14.388552Z",
          "iopub.execute_input": "2021-08-08T19:09:14.388866Z",
          "iopub.status.idle": "2021-08-08T19:09:14.393912Z",
          "shell.execute_reply.started": "2021-08-08T19:09:14.388836Z",
          "shell.execute_reply": "2021-08-08T19:09:14.392883Z"
        },
        "trusted": true,
        "colab": {
          "base_uri": "https://localhost:8080/"
        },
        "id": "nR0ltpS_K_7P",
        "outputId": "cbb86ebf-5064-4587-a8b7-7b6e7ebe0ca0"
      },
      "source": [
        "#task: create a rank2 array\n",
        "b = np.array([[1,2,3],[4,5,6]])\n",
        "print(b)"
      ],
      "execution_count": 10,
      "outputs": [
        {
          "output_type": "stream",
          "text": [
            "[[1 2 3]\n",
            " [4 5 6]]\n"
          ],
          "name": "stdout"
        }
      ]
    },
    {
      "cell_type": "code",
      "metadata": {
        "execution": {
          "iopub.status.busy": "2021-08-08T19:09:14.396111Z",
          "iopub.execute_input": "2021-08-08T19:09:14.396508Z",
          "iopub.status.idle": "2021-08-08T19:09:14.408907Z",
          "shell.execute_reply.started": "2021-08-08T19:09:14.396462Z",
          "shell.execute_reply": "2021-08-08T19:09:14.407951Z"
        },
        "trusted": true,
        "colab": {
          "base_uri": "https://localhost:8080/"
        },
        "id": "YC7elKxVK_7Q",
        "outputId": "20d2f7e5-8760-43ee-a78f-7d89ef51c453"
      },
      "source": [
        "b.shape"
      ],
      "execution_count": 11,
      "outputs": [
        {
          "output_type": "execute_result",
          "data": {
            "text/plain": [
              "(2, 3)"
            ]
          },
          "metadata": {
            "tags": []
          },
          "execution_count": 11
        }
      ]
    },
    {
      "cell_type": "markdown",
      "metadata": {
        "id": "R3PaJ8cuK_7R"
      },
      "source": [
        "**Array creation using built in methods**"
      ]
    },
    {
      "cell_type": "code",
      "metadata": {
        "execution": {
          "iopub.status.busy": "2021-08-08T19:09:14.410346Z",
          "iopub.execute_input": "2021-08-08T19:09:14.410682Z",
          "iopub.status.idle": "2021-08-08T19:09:14.422788Z",
          "shell.execute_reply.started": "2021-08-08T19:09:14.410648Z",
          "shell.execute_reply": "2021-08-08T19:09:14.421914Z"
        },
        "trusted": true,
        "colab": {
          "base_uri": "https://localhost:8080/"
        },
        "id": "nse9Dzv8K_7R",
        "outputId": "8a06dd6e-1647-45ca-ded7-453d5ab35a87"
      },
      "source": [
        "#zeros(shape, dtype): returns an array of given shape and dtype, filled with zeroes\n",
        "#creating 1-d array\n",
        "np.zeros(5) "
      ],
      "execution_count": 12,
      "outputs": [
        {
          "output_type": "execute_result",
          "data": {
            "text/plain": [
              "array([0., 0., 0., 0., 0.])"
            ]
          },
          "metadata": {
            "tags": []
          },
          "execution_count": 12
        }
      ]
    },
    {
      "cell_type": "code",
      "metadata": {
        "execution": {
          "iopub.status.busy": "2021-08-08T19:09:14.423745Z",
          "iopub.execute_input": "2021-08-08T19:09:14.424194Z",
          "iopub.status.idle": "2021-08-08T19:09:14.438369Z",
          "shell.execute_reply.started": "2021-08-08T19:09:14.424154Z",
          "shell.execute_reply": "2021-08-08T19:09:14.437497Z"
        },
        "trusted": true,
        "colab": {
          "base_uri": "https://localhost:8080/"
        },
        "id": "BHaz__17K_7S",
        "outputId": "db3a350d-1eb5-4360-d4be-af472f8d6753"
      },
      "source": [
        "#creating a two dimensional array\n",
        "np.zeros((3,5), dtype=np.int64)"
      ],
      "execution_count": 13,
      "outputs": [
        {
          "output_type": "execute_result",
          "data": {
            "text/plain": [
              "array([[0, 0, 0, 0, 0],\n",
              "       [0, 0, 0, 0, 0],\n",
              "       [0, 0, 0, 0, 0]])"
            ]
          },
          "metadata": {
            "tags": []
          },
          "execution_count": 13
        }
      ]
    },
    {
      "cell_type": "code",
      "metadata": {
        "execution": {
          "iopub.status.busy": "2021-08-08T19:09:14.439648Z",
          "iopub.execute_input": "2021-08-08T19:09:14.439909Z",
          "iopub.status.idle": "2021-08-08T19:09:14.453126Z",
          "shell.execute_reply.started": "2021-08-08T19:09:14.439882Z",
          "shell.execute_reply": "2021-08-08T19:09:14.451862Z"
        },
        "trusted": true,
        "colab": {
          "base_uri": "https://localhost:8080/"
        },
        "id": "UeW_ZCIoK_7T",
        "outputId": "d2b08d8a-aea9-463c-a3f0-ab1885f74780"
      },
      "source": [
        "#task create an array filled with 1's of shape 3,5\n",
        "#ones(shape, dtype): returns an array of given shape and dtype, filled with ones \n",
        "np.ones((3,5), dtype=np.int64)"
      ],
      "execution_count": 14,
      "outputs": [
        {
          "output_type": "execute_result",
          "data": {
            "text/plain": [
              "array([[1, 1, 1, 1, 1],\n",
              "       [1, 1, 1, 1, 1],\n",
              "       [1, 1, 1, 1, 1]])"
            ]
          },
          "metadata": {
            "tags": []
          },
          "execution_count": 14
        }
      ]
    },
    {
      "cell_type": "code",
      "metadata": {
        "execution": {
          "iopub.status.busy": "2021-08-08T19:09:14.454539Z",
          "iopub.execute_input": "2021-08-08T19:09:14.454803Z",
          "iopub.status.idle": "2021-08-08T19:09:14.467707Z",
          "shell.execute_reply.started": "2021-08-08T19:09:14.454778Z",
          "shell.execute_reply": "2021-08-08T19:09:14.466424Z"
        },
        "trusted": true,
        "colab": {
          "base_uri": "https://localhost:8080/"
        },
        "id": "YfREgL4uK_7T",
        "outputId": "112865a7-1467-4b2e-9728-2eb23d486a2f"
      },
      "source": [
        "#create a constant array with 7 as item of shape 3,3\n",
        "#full(shape, fill_value): returns an array of given shape and dtype, filled with fill_value given as parameter\n",
        "np.full((3,3), 7)"
      ],
      "execution_count": 15,
      "outputs": [
        {
          "output_type": "execute_result",
          "data": {
            "text/plain": [
              "array([[7, 7, 7],\n",
              "       [7, 7, 7],\n",
              "       [7, 7, 7]])"
            ]
          },
          "metadata": {
            "tags": []
          },
          "execution_count": 15
        }
      ]
    },
    {
      "cell_type": "code",
      "metadata": {
        "execution": {
          "iopub.status.busy": "2021-08-08T19:09:14.469097Z",
          "iopub.execute_input": "2021-08-08T19:09:14.469454Z",
          "iopub.status.idle": "2021-08-08T19:09:14.479968Z",
          "shell.execute_reply.started": "2021-08-08T19:09:14.469422Z",
          "shell.execute_reply": "2021-08-08T19:09:14.479137Z"
        },
        "trusted": true,
        "colab": {
          "base_uri": "https://localhost:8080/"
        },
        "id": "Azez-qhMK_7U",
        "outputId": "c29db97a-4f3f-4fd8-e448-bb3ce1589ee9"
      },
      "source": [
        "#arange([start,] stop-1, [step]): This returns an array with evenly spaced values within a given interval\n",
        "np.arange(5)"
      ],
      "execution_count": 16,
      "outputs": [
        {
          "output_type": "execute_result",
          "data": {
            "text/plain": [
              "array([0, 1, 2, 3, 4])"
            ]
          },
          "metadata": {
            "tags": []
          },
          "execution_count": 16
        }
      ]
    },
    {
      "cell_type": "code",
      "metadata": {
        "execution": {
          "iopub.status.busy": "2021-08-08T19:09:14.481377Z",
          "iopub.execute_input": "2021-08-08T19:09:14.481773Z",
          "iopub.status.idle": "2021-08-08T19:09:14.492218Z",
          "shell.execute_reply.started": "2021-08-08T19:09:14.481732Z",
          "shell.execute_reply": "2021-08-08T19:09:14.491215Z"
        },
        "trusted": true,
        "colab": {
          "base_uri": "https://localhost:8080/"
        },
        "id": "QIg-GNJBK_7U",
        "outputId": "f0406509-5783-4945-d53b-4bdc63bfeac4"
      },
      "source": [
        "np.arange(3,8)"
      ],
      "execution_count": 17,
      "outputs": [
        {
          "output_type": "execute_result",
          "data": {
            "text/plain": [
              "array([3, 4, 5, 6, 7])"
            ]
          },
          "metadata": {
            "tags": []
          },
          "execution_count": 17
        }
      ]
    },
    {
      "cell_type": "code",
      "metadata": {
        "execution": {
          "iopub.status.busy": "2021-08-08T19:09:14.493545Z",
          "iopub.execute_input": "2021-08-08T19:09:14.493950Z",
          "iopub.status.idle": "2021-08-08T19:09:14.504460Z",
          "shell.execute_reply.started": "2021-08-08T19:09:14.493889Z",
          "shell.execute_reply": "2021-08-08T19:09:14.503483Z"
        },
        "trusted": true,
        "colab": {
          "base_uri": "https://localhost:8080/"
        },
        "id": "yneTIVONK_7V",
        "outputId": "38d77548-02ab-4e21-d746-20db6ef3eae9"
      },
      "source": [
        "#array with an interval as step\n",
        "np.arange(3,8, 0.5)"
      ],
      "execution_count": 18,
      "outputs": [
        {
          "output_type": "execute_result",
          "data": {
            "text/plain": [
              "array([3. , 3.5, 4. , 4.5, 5. , 5.5, 6. , 6.5, 7. , 7.5])"
            ]
          },
          "metadata": {
            "tags": []
          },
          "execution_count": 18
        }
      ]
    },
    {
      "cell_type": "code",
      "metadata": {
        "execution": {
          "iopub.status.busy": "2021-08-08T19:09:14.505915Z",
          "iopub.execute_input": "2021-08-08T19:09:14.506443Z",
          "iopub.status.idle": "2021-08-08T19:09:14.518070Z",
          "shell.execute_reply.started": "2021-08-08T19:09:14.506397Z",
          "shell.execute_reply": "2021-08-08T19:09:14.517240Z"
        },
        "trusted": true,
        "colab": {
          "base_uri": "https://localhost:8080/"
        },
        "id": "TgPnsHzVK_7V",
        "outputId": "8228b459-7872-4225-9175-72cee71021c5"
      },
      "source": [
        "#linspace(start, stop, num, endpoint): returns evenly spaced numbers over a specified interval\n",
        "np.linspace(2.0, 3.0, num=10)"
      ],
      "execution_count": 19,
      "outputs": [
        {
          "output_type": "execute_result",
          "data": {
            "text/plain": [
              "array([2.        , 2.11111111, 2.22222222, 2.33333333, 2.44444444,\n",
              "       2.55555556, 2.66666667, 2.77777778, 2.88888889, 3.        ])"
            ]
          },
          "metadata": {
            "tags": []
          },
          "execution_count": 19
        }
      ]
    },
    {
      "cell_type": "code",
      "metadata": {
        "execution": {
          "iopub.status.busy": "2021-08-08T19:09:14.519470Z",
          "iopub.execute_input": "2021-08-08T19:09:14.519859Z",
          "iopub.status.idle": "2021-08-08T19:09:14.530978Z",
          "shell.execute_reply.started": "2021-08-08T19:09:14.519818Z",
          "shell.execute_reply": "2021-08-08T19:09:14.530195Z"
        },
        "trusted": true,
        "colab": {
          "base_uri": "https://localhost:8080/"
        },
        "id": "sVL1MFltK_7W",
        "outputId": "863675e8-53fe-4d36-e437-57bcca972783"
      },
      "source": [
        "np.linspace(2.0, 3.0, num=10, endpoint=False)"
      ],
      "execution_count": 20,
      "outputs": [
        {
          "output_type": "execute_result",
          "data": {
            "text/plain": [
              "array([2. , 2.1, 2.2, 2.3, 2.4, 2.5, 2.6, 2.7, 2.8, 2.9])"
            ]
          },
          "metadata": {
            "tags": []
          },
          "execution_count": 20
        }
      ]
    },
    {
      "cell_type": "code",
      "metadata": {
        "execution": {
          "iopub.status.busy": "2021-08-08T19:09:14.532046Z",
          "iopub.execute_input": "2021-08-08T19:09:14.532590Z",
          "iopub.status.idle": "2021-08-08T19:09:14.543750Z",
          "shell.execute_reply.started": "2021-08-08T19:09:14.532547Z",
          "shell.execute_reply": "2021-08-08T19:09:14.542992Z"
        },
        "trusted": true,
        "colab": {
          "base_uri": "https://localhost:8080/"
        },
        "id": "qv4EZHr0K_7W",
        "outputId": "757ed9eb-0585-424f-af2a-08616c38dc71"
      },
      "source": [
        "np.full((3,3), 7, dtype=np.float64)"
      ],
      "execution_count": 21,
      "outputs": [
        {
          "output_type": "execute_result",
          "data": {
            "text/plain": [
              "array([[7., 7., 7.],\n",
              "       [7., 7., 7.],\n",
              "       [7., 7., 7.]])"
            ]
          },
          "metadata": {
            "tags": []
          },
          "execution_count": 21
        }
      ]
    },
    {
      "cell_type": "code",
      "metadata": {
        "execution": {
          "iopub.status.busy": "2021-08-08T19:09:14.544670Z",
          "iopub.execute_input": "2021-08-08T19:09:14.545035Z",
          "iopub.status.idle": "2021-08-08T19:09:14.556045Z",
          "shell.execute_reply.started": "2021-08-08T19:09:14.544996Z",
          "shell.execute_reply": "2021-08-08T19:09:14.555153Z"
        },
        "trusted": true,
        "colab": {
          "base_uri": "https://localhost:8080/"
        },
        "id": "4-2bMJYgK_7X",
        "outputId": "33e34ddd-4230-4d83-b497-12d8edea076e"
      },
      "source": [
        "#lets create an identity matrix\n",
        "np.identity(5, dtype=np.int64) "
      ],
      "execution_count": 22,
      "outputs": [
        {
          "output_type": "execute_result",
          "data": {
            "text/plain": [
              "array([[1, 0, 0, 0, 0],\n",
              "       [0, 1, 0, 0, 0],\n",
              "       [0, 0, 1, 0, 0],\n",
              "       [0, 0, 0, 1, 0],\n",
              "       [0, 0, 0, 0, 1]])"
            ]
          },
          "metadata": {
            "tags": []
          },
          "execution_count": 22
        }
      ]
    },
    {
      "cell_type": "code",
      "metadata": {
        "execution": {
          "iopub.status.busy": "2021-08-08T19:09:14.558624Z",
          "iopub.execute_input": "2021-08-08T19:09:14.558965Z",
          "iopub.status.idle": "2021-08-08T19:09:14.570079Z",
          "shell.execute_reply.started": "2021-08-08T19:09:14.558933Z",
          "shell.execute_reply": "2021-08-08T19:09:14.569242Z"
        },
        "trusted": true,
        "colab": {
          "base_uri": "https://localhost:8080/"
        },
        "id": "Jej0yTMXK_7X",
        "outputId": "36dc5c81-6477-4d04-9748-6541b1167ccb"
      },
      "source": [
        "np.eye(4,k=2)"
      ],
      "execution_count": 23,
      "outputs": [
        {
          "output_type": "execute_result",
          "data": {
            "text/plain": [
              "array([[0., 0., 1., 0.],\n",
              "       [0., 0., 0., 1.],\n",
              "       [0., 0., 0., 0.],\n",
              "       [0., 0., 0., 0.]])"
            ]
          },
          "metadata": {
            "tags": []
          },
          "execution_count": 23
        }
      ]
    },
    {
      "cell_type": "markdown",
      "metadata": {
        "id": "0UJzwS49K_7X"
      },
      "source": [
        "**Random  Sampling**"
      ]
    },
    {
      "cell_type": "code",
      "metadata": {
        "execution": {
          "iopub.status.busy": "2021-08-08T19:09:14.571114Z",
          "iopub.execute_input": "2021-08-08T19:09:14.571666Z",
          "iopub.status.idle": "2021-08-08T19:09:14.581210Z",
          "shell.execute_reply.started": "2021-08-08T19:09:14.571634Z",
          "shell.execute_reply": "2021-08-08T19:09:14.580255Z"
        },
        "trusted": true,
        "colab": {
          "base_uri": "https://localhost:8080/"
        },
        "id": "8kZwe28UK_7Y",
        "outputId": "90100e0d-c6d9-4df9-a88b-9f8124fae68d"
      },
      "source": [
        "#rand():It is used to create an array of a given shape and populate it with random samples,\n",
        "#from a uniform distribution over[0,1]. It takes only positive arguments\n",
        "np.random.rand()"
      ],
      "execution_count": 24,
      "outputs": [
        {
          "output_type": "execute_result",
          "data": {
            "text/plain": [
              "0.15139807316808418"
            ]
          },
          "metadata": {
            "tags": []
          },
          "execution_count": 24
        }
      ]
    },
    {
      "cell_type": "code",
      "metadata": {
        "execution": {
          "iopub.status.busy": "2021-08-08T19:09:14.584582Z",
          "iopub.execute_input": "2021-08-08T19:09:14.585121Z",
          "iopub.status.idle": "2021-08-08T19:09:14.594476Z",
          "shell.execute_reply.started": "2021-08-08T19:09:14.585078Z",
          "shell.execute_reply": "2021-08-08T19:09:14.593502Z"
        },
        "trusted": true,
        "colab": {
          "base_uri": "https://localhost:8080/"
        },
        "id": "yssyT6PMK_7Y",
        "outputId": "2fc636b7-7438-41dd-8e62-e4878c3b8542"
      },
      "source": [
        "#1-d array with 4 random values\n",
        "np.random.rand(4)"
      ],
      "execution_count": 25,
      "outputs": [
        {
          "output_type": "execute_result",
          "data": {
            "text/plain": [
              "array([0.25608656, 0.72676974, 0.04272135, 0.84104579])"
            ]
          },
          "metadata": {
            "tags": []
          },
          "execution_count": 25
        }
      ]
    },
    {
      "cell_type": "code",
      "metadata": {
        "execution": {
          "iopub.status.busy": "2021-08-08T19:09:14.596622Z",
          "iopub.execute_input": "2021-08-08T19:09:14.597144Z",
          "iopub.status.idle": "2021-08-08T19:09:14.605974Z",
          "shell.execute_reply.started": "2021-08-08T19:09:14.597100Z",
          "shell.execute_reply": "2021-08-08T19:09:14.605135Z"
        },
        "trusted": true,
        "colab": {
          "base_uri": "https://localhost:8080/"
        },
        "id": "ZT92ba2sK_7Z",
        "outputId": "8b4a47f5-03b5-46de-ebef-f7a42d8a320b"
      },
      "source": [
        "#2-d array\n",
        "np.random.rand(2,3)"
      ],
      "execution_count": 26,
      "outputs": [
        {
          "output_type": "execute_result",
          "data": {
            "text/plain": [
              "array([[0.24464244, 0.93506252, 0.84278864],\n",
              "       [0.79937173, 0.55466781, 0.0684792 ]])"
            ]
          },
          "metadata": {
            "tags": []
          },
          "execution_count": 26
        }
      ]
    },
    {
      "cell_type": "code",
      "metadata": {
        "execution": {
          "iopub.status.busy": "2021-08-08T19:09:14.607325Z",
          "iopub.execute_input": "2021-08-08T19:09:14.607945Z",
          "iopub.status.idle": "2021-08-08T19:09:14.618468Z",
          "shell.execute_reply.started": "2021-08-08T19:09:14.607901Z",
          "shell.execute_reply": "2021-08-08T19:09:14.617498Z"
        },
        "trusted": true,
        "colab": {
          "base_uri": "https://localhost:8080/"
        },
        "id": "zz_5lYGqK_7Z",
        "outputId": "161cea92-2628-4c9d-b846-7bbe445f8c29"
      },
      "source": [
        "#randn(): \n",
        "np.random.randn()"
      ],
      "execution_count": 27,
      "outputs": [
        {
          "output_type": "execute_result",
          "data": {
            "text/plain": [
              "0.6917695088488307"
            ]
          },
          "metadata": {
            "tags": []
          },
          "execution_count": 27
        }
      ]
    },
    {
      "cell_type": "code",
      "metadata": {
        "execution": {
          "iopub.status.busy": "2021-08-08T19:09:14.619612Z",
          "iopub.execute_input": "2021-08-08T19:09:14.619960Z",
          "iopub.status.idle": "2021-08-08T19:09:14.631169Z",
          "shell.execute_reply.started": "2021-08-08T19:09:14.619932Z",
          "shell.execute_reply": "2021-08-08T19:09:14.630025Z"
        },
        "trusted": true,
        "colab": {
          "base_uri": "https://localhost:8080/"
        },
        "id": "nY1xJj64K_7a",
        "outputId": "5c057260-6d77-4e33-ed52-1a451c6af00a"
      },
      "source": [
        "np.random.randn(2,3)"
      ],
      "execution_count": 28,
      "outputs": [
        {
          "output_type": "execute_result",
          "data": {
            "text/plain": [
              "array([[-0.30745373,  0.6245666 ,  0.25238399],\n",
              "       [ 0.28543804,  0.04331394, -1.08720559]])"
            ]
          },
          "metadata": {
            "tags": []
          },
          "execution_count": 28
        }
      ]
    },
    {
      "cell_type": "code",
      "metadata": {
        "execution": {
          "iopub.status.busy": "2021-08-08T19:09:14.632345Z",
          "iopub.execute_input": "2021-08-08T19:09:14.632754Z",
          "iopub.status.idle": "2021-08-08T19:09:14.641519Z",
          "shell.execute_reply.started": "2021-08-08T19:09:14.632726Z",
          "shell.execute_reply": "2021-08-08T19:09:14.640649Z"
        },
        "trusted": true,
        "colab": {
          "base_uri": "https://localhost:8080/"
        },
        "id": "ju32dgRcK_7a",
        "outputId": "8d8c244a-5c5d-4138-ac5b-9f5db610867b"
      },
      "source": [
        "#randint():\n",
        "#generating a random integer between 0 and 6\n",
        "np.random.randint(6)"
      ],
      "execution_count": 29,
      "outputs": [
        {
          "output_type": "execute_result",
          "data": {
            "text/plain": [
              "2"
            ]
          },
          "metadata": {
            "tags": []
          },
          "execution_count": 29
        }
      ]
    },
    {
      "cell_type": "code",
      "metadata": {
        "execution": {
          "iopub.status.busy": "2021-08-08T19:09:14.642646Z",
          "iopub.execute_input": "2021-08-08T19:09:14.643041Z",
          "iopub.status.idle": "2021-08-08T19:09:14.653463Z",
          "shell.execute_reply.started": "2021-08-08T19:09:14.643001Z",
          "shell.execute_reply": "2021-08-08T19:09:14.652609Z"
        },
        "trusted": true,
        "colab": {
          "base_uri": "https://localhost:8080/"
        },
        "id": "fCwQw5V2K_7b",
        "outputId": "9c9a9433-8bbd-41c0-8703-346d2bd4156c"
      },
      "source": [
        "#generating 1-d array\n",
        "np.random.randint(3,9, size=5)"
      ],
      "execution_count": 30,
      "outputs": [
        {
          "output_type": "execute_result",
          "data": {
            "text/plain": [
              "array([5, 5, 7, 5, 3])"
            ]
          },
          "metadata": {
            "tags": []
          },
          "execution_count": 30
        }
      ]
    },
    {
      "cell_type": "markdown",
      "metadata": {
        "id": "QzfrKxJvK_7b"
      },
      "source": [
        "**Array attributes and Methods**"
      ]
    },
    {
      "cell_type": "code",
      "metadata": {
        "execution": {
          "iopub.status.busy": "2021-08-08T19:09:14.654657Z",
          "iopub.execute_input": "2021-08-08T19:09:14.654979Z",
          "iopub.status.idle": "2021-08-08T19:09:14.666694Z",
          "shell.execute_reply.started": "2021-08-08T19:09:14.654942Z",
          "shell.execute_reply": "2021-08-08T19:09:14.665817Z"
        },
        "trusted": true,
        "colab": {
          "base_uri": "https://localhost:8080/"
        },
        "id": "r4YhQg4GK_7c",
        "outputId": "b4dc33a1-4668-4e1c-aeef-05a9a8d3573d"
      },
      "source": [
        "#ndim: this attribute dsiplays the number of dimensions of array\n",
        "n_call_vol.ndim"
      ],
      "execution_count": 31,
      "outputs": [
        {
          "output_type": "execute_result",
          "data": {
            "text/plain": [
              "1"
            ]
          },
          "metadata": {
            "tags": []
          },
          "execution_count": 31
        }
      ]
    },
    {
      "cell_type": "code",
      "metadata": {
        "execution": {
          "iopub.status.busy": "2021-08-08T19:09:14.668346Z",
          "iopub.execute_input": "2021-08-08T19:09:14.668904Z",
          "iopub.status.idle": "2021-08-08T19:09:14.677549Z",
          "shell.execute_reply.started": "2021-08-08T19:09:14.668860Z",
          "shell.execute_reply": "2021-08-08T19:09:14.676604Z"
        },
        "trusted": true,
        "colab": {
          "base_uri": "https://localhost:8080/"
        },
        "id": "oRGVNNoiK_7c",
        "outputId": "5fe66905-f7b8-4717-ac38-8866adb2cbbd"
      },
      "source": [
        "n_put_vol.shape"
      ],
      "execution_count": 32,
      "outputs": [
        {
          "output_type": "execute_result",
          "data": {
            "text/plain": [
              "(5,)"
            ]
          },
          "metadata": {
            "tags": []
          },
          "execution_count": 32
        }
      ]
    },
    {
      "cell_type": "code",
      "metadata": {
        "execution": {
          "iopub.status.busy": "2021-08-08T19:09:14.678631Z",
          "iopub.execute_input": "2021-08-08T19:09:14.679110Z",
          "iopub.status.idle": "2021-08-08T19:09:14.687475Z",
          "shell.execute_reply.started": "2021-08-08T19:09:14.679042Z",
          "shell.execute_reply": "2021-08-08T19:09:14.686616Z"
        },
        "trusted": true,
        "id": "JIT8qqS0K_7c"
      },
      "source": [
        "n_2d = np.array([put_vol, call_vol])"
      ],
      "execution_count": 33,
      "outputs": []
    },
    {
      "cell_type": "code",
      "metadata": {
        "execution": {
          "iopub.status.busy": "2021-08-08T19:09:14.688716Z",
          "iopub.execute_input": "2021-08-08T19:09:14.689288Z",
          "iopub.status.idle": "2021-08-08T19:09:14.700763Z",
          "shell.execute_reply.started": "2021-08-08T19:09:14.689241Z",
          "shell.execute_reply": "2021-08-08T19:09:14.699568Z"
        },
        "trusted": true,
        "colab": {
          "base_uri": "https://localhost:8080/"
        },
        "id": "44fyRdu2K_7c",
        "outputId": "a10cfb81-bb1b-4a1e-dff0-bd2c9afd79bb"
      },
      "source": [
        "n_2d"
      ],
      "execution_count": 34,
      "outputs": [
        {
          "output_type": "execute_result",
          "data": {
            "text/plain": [
              "array([[52.89, 45.14, 63.84, 77.1 , 74.6 ],\n",
              "       [49.41, 50.45, 59.11, 80.49, 65.11]])"
            ]
          },
          "metadata": {
            "tags": []
          },
          "execution_count": 34
        }
      ]
    },
    {
      "cell_type": "code",
      "metadata": {
        "execution": {
          "iopub.status.busy": "2021-08-08T19:09:14.702160Z",
          "iopub.execute_input": "2021-08-08T19:09:14.702536Z",
          "iopub.status.idle": "2021-08-08T19:09:14.712215Z",
          "shell.execute_reply.started": "2021-08-08T19:09:14.702496Z",
          "shell.execute_reply": "2021-08-08T19:09:14.711453Z"
        },
        "trusted": true,
        "colab": {
          "base_uri": "https://localhost:8080/"
        },
        "id": "lTcRkew9K_7d",
        "outputId": "0b5005af-4774-495c-fafb-68992224f373"
      },
      "source": [
        "n_2d.shape"
      ],
      "execution_count": 35,
      "outputs": [
        {
          "output_type": "execute_result",
          "data": {
            "text/plain": [
              "(2, 5)"
            ]
          },
          "metadata": {
            "tags": []
          },
          "execution_count": 35
        }
      ]
    },
    {
      "cell_type": "code",
      "metadata": {
        "execution": {
          "iopub.status.busy": "2021-08-08T19:09:14.713506Z",
          "iopub.execute_input": "2021-08-08T19:09:14.713905Z",
          "iopub.status.idle": "2021-08-08T19:09:14.723615Z",
          "shell.execute_reply.started": "2021-08-08T19:09:14.713876Z",
          "shell.execute_reply": "2021-08-08T19:09:14.722718Z"
        },
        "trusted": true,
        "id": "qoJo1kTiK_7d"
      },
      "source": [
        "n_2d.shape = (5,2)"
      ],
      "execution_count": 36,
      "outputs": []
    },
    {
      "cell_type": "code",
      "metadata": {
        "execution": {
          "iopub.status.busy": "2021-08-08T19:09:14.725034Z",
          "iopub.execute_input": "2021-08-08T19:09:14.725668Z",
          "iopub.status.idle": "2021-08-08T19:09:14.736707Z",
          "shell.execute_reply.started": "2021-08-08T19:09:14.725621Z",
          "shell.execute_reply": "2021-08-08T19:09:14.735895Z"
        },
        "trusted": true,
        "colab": {
          "base_uri": "https://localhost:8080/"
        },
        "id": "eb-MZheVK_7d",
        "outputId": "5f79d823-e0e5-4717-dc63-ba620eebd33d"
      },
      "source": [
        "n_2d.shape"
      ],
      "execution_count": 37,
      "outputs": [
        {
          "output_type": "execute_result",
          "data": {
            "text/plain": [
              "(5, 2)"
            ]
          },
          "metadata": {
            "tags": []
          },
          "execution_count": 37
        }
      ]
    },
    {
      "cell_type": "markdown",
      "metadata": {
        "id": "-YzFbHDsK_7e"
      },
      "source": [
        "**Array Indexing**\n",
        "\n",
        "Numpy offers several ways to index into arrays"
      ]
    },
    {
      "cell_type": "code",
      "metadata": {
        "execution": {
          "iopub.status.busy": "2021-08-08T19:09:14.737824Z",
          "iopub.execute_input": "2021-08-08T19:09:14.738307Z",
          "iopub.status.idle": "2021-08-08T19:09:14.748318Z",
          "shell.execute_reply.started": "2021-08-08T19:09:14.738266Z",
          "shell.execute_reply": "2021-08-08T19:09:14.747459Z"
        },
        "trusted": true,
        "id": "wwKOmmtPK_7e"
      },
      "source": [
        "#slicing()\n",
        "a = np.array([[1,2,3,4],[5,6,7,8],[9,10,11,12]])"
      ],
      "execution_count": 38,
      "outputs": []
    },
    {
      "cell_type": "code",
      "metadata": {
        "execution": {
          "iopub.status.busy": "2021-08-08T19:09:14.749718Z",
          "iopub.execute_input": "2021-08-08T19:09:14.750105Z",
          "iopub.status.idle": "2021-08-08T19:09:14.760303Z",
          "shell.execute_reply.started": "2021-08-08T19:09:14.750047Z",
          "shell.execute_reply": "2021-08-08T19:09:14.759543Z"
        },
        "trusted": true,
        "colab": {
          "base_uri": "https://localhost:8080/"
        },
        "id": "mB-qnqWWK_7e",
        "outputId": "1a816371-97a6-4225-a709-1452f1bd2cef"
      },
      "source": [
        "#lets pull out a sub arry consisting of 2 rows and 1&2 column\n",
        "b = a[:2,1:3]\n",
        "b"
      ],
      "execution_count": 39,
      "outputs": [
        {
          "output_type": "execute_result",
          "data": {
            "text/plain": [
              "array([[2, 3],\n",
              "       [6, 7]])"
            ]
          },
          "metadata": {
            "tags": []
          },
          "execution_count": 39
        }
      ]
    },
    {
      "cell_type": "code",
      "metadata": {
        "execution": {
          "iopub.status.busy": "2021-08-08T19:09:14.761552Z",
          "iopub.execute_input": "2021-08-08T19:09:14.762164Z",
          "iopub.status.idle": "2021-08-08T19:09:14.769098Z",
          "shell.execute_reply.started": "2021-08-08T19:09:14.762120Z",
          "shell.execute_reply": "2021-08-08T19:09:14.768096Z"
        },
        "trusted": true,
        "colab": {
          "base_uri": "https://localhost:8080/"
        },
        "id": "qCZbeyEqK_7e",
        "outputId": "12717374-b5a6-4d10-b8b7-4462b37c989a"
      },
      "source": [
        "#type conversion\n",
        "x = np.array([1,2])\n",
        "print(x.dtype)"
      ],
      "execution_count": 40,
      "outputs": [
        {
          "output_type": "stream",
          "text": [
            "int64\n"
          ],
          "name": "stdout"
        }
      ]
    },
    {
      "cell_type": "code",
      "metadata": {
        "execution": {
          "iopub.status.busy": "2021-08-08T19:09:14.770485Z",
          "iopub.execute_input": "2021-08-08T19:09:14.770868Z",
          "iopub.status.idle": "2021-08-08T19:09:14.782232Z",
          "shell.execute_reply.started": "2021-08-08T19:09:14.770826Z",
          "shell.execute_reply": "2021-08-08T19:09:14.781167Z"
        },
        "trusted": true,
        "colab": {
          "base_uri": "https://localhost:8080/"
        },
        "id": "zPn2nt0FK_7f",
        "outputId": "8b626d5a-b250-419b-e2ca-8b023cb3128c"
      },
      "source": [
        "#lets force convert the data type\n",
        "x = np.array([1,2], dtype=np.float64)\n",
        "x.dtype"
      ],
      "execution_count": 41,
      "outputs": [
        {
          "output_type": "execute_result",
          "data": {
            "text/plain": [
              "dtype('float64')"
            ]
          },
          "metadata": {
            "tags": []
          },
          "execution_count": 41
        }
      ]
    },
    {
      "cell_type": "code",
      "metadata": {
        "execution": {
          "iopub.status.busy": "2021-08-08T19:09:14.784941Z",
          "iopub.execute_input": "2021-08-08T19:09:14.785444Z",
          "iopub.status.idle": "2021-08-08T19:09:14.793088Z",
          "shell.execute_reply.started": "2021-08-08T19:09:14.785411Z",
          "shell.execute_reply": "2021-08-08T19:09:14.792313Z"
        },
        "trusted": true,
        "colab": {
          "base_uri": "https://localhost:8080/"
        },
        "id": "Hoq3X9D6K_7f",
        "outputId": "dc65e8e0-7f56-4124-dbf7-897c32dedc63"
      },
      "source": [
        "a[1:,1:]"
      ],
      "execution_count": 42,
      "outputs": [
        {
          "output_type": "execute_result",
          "data": {
            "text/plain": [
              "array([[ 6,  7,  8],\n",
              "       [10, 11, 12]])"
            ]
          },
          "metadata": {
            "tags": []
          },
          "execution_count": 42
        }
      ]
    },
    {
      "cell_type": "code",
      "metadata": {
        "execution": {
          "iopub.status.busy": "2021-08-08T19:09:14.794238Z",
          "iopub.execute_input": "2021-08-08T19:09:14.794689Z",
          "iopub.status.idle": "2021-08-08T19:09:14.802259Z",
          "shell.execute_reply.started": "2021-08-08T19:09:14.794657Z",
          "shell.execute_reply": "2021-08-08T19:09:14.801544Z"
        },
        "trusted": true,
        "id": "mA862-0cK_7f"
      },
      "source": [
        "#lets reshape our array\n",
        "res = np.arange(12)"
      ],
      "execution_count": 43,
      "outputs": []
    },
    {
      "cell_type": "code",
      "metadata": {
        "execution": {
          "iopub.status.busy": "2021-08-08T19:09:14.803451Z",
          "iopub.execute_input": "2021-08-08T19:09:14.803828Z",
          "iopub.status.idle": "2021-08-08T19:09:14.814751Z",
          "shell.execute_reply.started": "2021-08-08T19:09:14.803799Z",
          "shell.execute_reply": "2021-08-08T19:09:14.814063Z"
        },
        "trusted": true,
        "colab": {
          "base_uri": "https://localhost:8080/"
        },
        "id": "ivN5RK4fK_7f",
        "outputId": "14b0cf1a-edc7-47b4-9fc7-2c8a08bab9ef"
      },
      "source": [
        "res"
      ],
      "execution_count": 44,
      "outputs": [
        {
          "output_type": "execute_result",
          "data": {
            "text/plain": [
              "array([ 0,  1,  2,  3,  4,  5,  6,  7,  8,  9, 10, 11])"
            ]
          },
          "metadata": {
            "tags": []
          },
          "execution_count": 44
        }
      ]
    },
    {
      "cell_type": "code",
      "metadata": {
        "execution": {
          "iopub.status.busy": "2021-08-08T19:09:14.815769Z",
          "iopub.execute_input": "2021-08-08T19:09:14.816179Z",
          "iopub.status.idle": "2021-08-08T19:09:14.826373Z",
          "shell.execute_reply.started": "2021-08-08T19:09:14.816146Z",
          "shell.execute_reply": "2021-08-08T19:09:14.825336Z"
        },
        "trusted": true,
        "colab": {
          "base_uri": "https://localhost:8080/"
        },
        "id": "aR5aIQBrK_7g",
        "outputId": "55257b35-735b-476c-cd6a-73ea3d761e95"
      },
      "source": [
        "np.reshape(res, (3,4))"
      ],
      "execution_count": 45,
      "outputs": [
        {
          "output_type": "execute_result",
          "data": {
            "text/plain": [
              "array([[ 0,  1,  2,  3],\n",
              "       [ 4,  5,  6,  7],\n",
              "       [ 8,  9, 10, 11]])"
            ]
          },
          "metadata": {
            "tags": []
          },
          "execution_count": 45
        }
      ]
    },
    {
      "cell_type": "code",
      "metadata": {
        "execution": {
          "iopub.status.busy": "2021-08-08T19:09:14.827751Z",
          "iopub.execute_input": "2021-08-08T19:09:14.828341Z",
          "iopub.status.idle": "2021-08-08T19:09:14.837615Z",
          "shell.execute_reply.started": "2021-08-08T19:09:14.828297Z",
          "shell.execute_reply": "2021-08-08T19:09:14.836869Z"
        },
        "trusted": true,
        "colab": {
          "base_uri": "https://localhost:8080/"
        },
        "id": "oPX57oOfK_7g",
        "outputId": "938a90f5-b588-4ca0-9e93-9d2a4f652063"
      },
      "source": [
        "x = np.array([[1,2],[3,4]], dtype=np.float64)\n",
        "y = np.array([[5,6],[7,8]],dtype=np.float64)\n",
        "\n",
        "x + y"
      ],
      "execution_count": 46,
      "outputs": [
        {
          "output_type": "execute_result",
          "data": {
            "text/plain": [
              "array([[ 6.,  8.],\n",
              "       [10., 12.]])"
            ]
          },
          "metadata": {
            "tags": []
          },
          "execution_count": 46
        }
      ]
    },
    {
      "cell_type": "code",
      "metadata": {
        "execution": {
          "iopub.status.busy": "2021-08-08T19:09:14.838890Z",
          "iopub.execute_input": "2021-08-08T19:09:14.839494Z",
          "iopub.status.idle": "2021-08-08T19:09:14.848878Z",
          "shell.execute_reply.started": "2021-08-08T19:09:14.839460Z",
          "shell.execute_reply": "2021-08-08T19:09:14.848130Z"
        },
        "trusted": true,
        "colab": {
          "base_uri": "https://localhost:8080/"
        },
        "id": "6TO5E8XqK_7g",
        "outputId": "2c52f815-2cda-4d5b-9d57-4d23dbf599b3"
      },
      "source": [
        "np.add(x,y)"
      ],
      "execution_count": 47,
      "outputs": [
        {
          "output_type": "execute_result",
          "data": {
            "text/plain": [
              "array([[ 6.,  8.],\n",
              "       [10., 12.]])"
            ]
          },
          "metadata": {
            "tags": []
          },
          "execution_count": 47
        }
      ]
    },
    {
      "cell_type": "markdown",
      "metadata": {
        "id": "eMHQmeilK_7h"
      },
      "source": [
        "**Broadcasting**\n",
        "Its a powerful mechanism that allows numpy to work with arrays of different shape when performing arithmetic operations."
      ]
    },
    {
      "cell_type": "code",
      "metadata": {
        "execution": {
          "iopub.status.busy": "2021-08-08T19:09:14.850290Z",
          "iopub.execute_input": "2021-08-08T19:09:14.850812Z",
          "iopub.status.idle": "2021-08-08T19:09:14.856411Z",
          "shell.execute_reply.started": "2021-08-08T19:09:14.850778Z",
          "shell.execute_reply": "2021-08-08T19:09:14.855673Z"
        },
        "trusted": true,
        "id": "OhkSNUPyK_7h"
      },
      "source": [
        "x = np.array([[1,2,3],[4,5,6],[7,8,9],[10,11,12]])"
      ],
      "execution_count": 48,
      "outputs": []
    },
    {
      "cell_type": "code",
      "metadata": {
        "execution": {
          "iopub.status.busy": "2021-08-08T19:09:14.857742Z",
          "iopub.execute_input": "2021-08-08T19:09:14.858227Z",
          "iopub.status.idle": "2021-08-08T19:09:14.865708Z",
          "shell.execute_reply.started": "2021-08-08T19:09:14.858197Z",
          "shell.execute_reply": "2021-08-08T19:09:14.864941Z"
        },
        "trusted": true,
        "id": "GGyOWFZMK_7h"
      },
      "source": [
        "#we want to add the constant vector to each row of the matrix\n",
        "v = np.array([1,0,1])"
      ],
      "execution_count": 49,
      "outputs": []
    },
    {
      "cell_type": "code",
      "metadata": {
        "execution": {
          "iopub.status.busy": "2021-08-08T19:09:14.867013Z",
          "iopub.execute_input": "2021-08-08T19:09:14.867549Z",
          "iopub.status.idle": "2021-08-08T19:09:14.877315Z",
          "shell.execute_reply.started": "2021-08-08T19:09:14.867519Z",
          "shell.execute_reply": "2021-08-08T19:09:14.876365Z"
        },
        "trusted": true,
        "colab": {
          "base_uri": "https://localhost:8080/"
        },
        "id": "17cL7xWBK_7h",
        "outputId": "0c9dce01-8727-4e92-9a23-50ff8683eb90"
      },
      "source": [
        "#we want to add vector v to each row of the matrix x, storing the result in y\n",
        "y = np.empty_like(x)\n",
        "\n",
        "for i in range(4):\n",
        "  y[i,:] = x[i,:] + v\n",
        "\n",
        "#lets print the output\n",
        "print(y)"
      ],
      "execution_count": 50,
      "outputs": [
        {
          "output_type": "stream",
          "text": [
            "[[ 2  2  4]\n",
            " [ 5  5  7]\n",
            " [ 8  8 10]\n",
            " [11 11 13]]\n"
          ],
          "name": "stdout"
        }
      ]
    }
  ]
}