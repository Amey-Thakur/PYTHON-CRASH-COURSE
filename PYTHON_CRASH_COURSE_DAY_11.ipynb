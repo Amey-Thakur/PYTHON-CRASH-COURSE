{
  "nbformat": 4,
  "nbformat_minor": 0,
  "metadata": {
    "kernelspec": {
      "language": "python",
      "display_name": "Python 3",
      "name": "python3"
    },
    "language_info": {
      "name": "python",
      "version": "3.7.10",
      "mimetype": "text/x-python",
      "codemirror_mode": {
        "name": "ipython",
        "version": 3
      },
      "pygments_lexer": "ipython3",
      "nbconvert_exporter": "python",
      "file_extension": ".py"
    },
    "colab": {
      "name": "PYTHON-CRASH-COURSE-DAY-11.ipynb",
      "provenance": [],
      "include_colab_link": true
    }
  },
  "cells": [
    {
      "cell_type": "markdown",
      "metadata": {
        "id": "view-in-github",
        "colab_type": "text"
      },
      "source": [
        "<a href=\"https://colab.research.google.com/github/Amey-Thakur/PYTHON-CRASH-COURSE/blob/main/PYTHON_CRASH_COURSE_DAY_11.ipynb\" target=\"_parent\"><img src=\"https://colab.research.google.com/assets/colab-badge.svg\" alt=\"Open In Colab\"/></a>"
      ]
    },
    {
      "cell_type": "markdown",
      "metadata": {
        "id": "YPZLTt5xguR7"
      },
      "source": [
        "# **Day 11**\n",
        "\n",
        "**Naive Bayes Classifier**\n",
        "\n",
        "It is a kind of classifier that works on Bayes theorem. Prediction of membership probabilities is made for every class such as the probability of data points is associated a particular class."
      ]
    },
    {
      "cell_type": "markdown",
      "metadata": {
        "id": "eg-xETpKguR-"
      },
      "source": [
        "**Problem Statement**\n",
        "\n",
        "To classify patients as diabetic or non-diabetic. The dataset has several different medical predictor features and a target that is **Outcome**. Predictor variables include the number of pregnancies that patient had, their BMI, insulin level, age and so on....."
      ]
    },
    {
      "cell_type": "code",
      "metadata": {
        "execution": {
          "iopub.status.busy": "2021-08-08T20:43:46.393515Z",
          "iopub.execute_input": "2021-08-08T20:43:46.393776Z",
          "iopub.status.idle": "2021-08-08T20:43:46.401765Z",
          "shell.execute_reply.started": "2021-08-08T20:43:46.393754Z",
          "shell.execute_reply": "2021-08-08T20:43:46.400293Z"
        },
        "trusted": true,
        "id": "MpMM__9jguR_"
      },
      "source": [
        "#import libraries\n",
        "import numpy as np\n",
        "import pandas as pd\n",
        "\n",
        "import seaborn as sns\n",
        "sns.set(color_codes=True)\n",
        "import matplotlib.pyplot as plt\n",
        "%matplotlib inline\n",
        "\n",
        "#sklearn libraries\n",
        "from sklearn.model_selection import train_test_split\n",
        "from sklearn.naive_bayes import GaussianNB\n",
        "from sklearn.preprocessing import StandardScaler\n",
        "from sklearn import metrics"
      ],
      "execution_count": 1,
      "outputs": []
    },
    {
      "cell_type": "code",
      "metadata": {
        "execution": {
          "iopub.status.busy": "2021-08-08T20:43:46.403966Z",
          "iopub.execute_input": "2021-08-08T20:43:46.404423Z",
          "iopub.status.idle": "2021-08-08T20:43:46.421954Z",
          "shell.execute_reply.started": "2021-08-08T20:43:46.404383Z",
          "shell.execute_reply": "2021-08-08T20:43:46.420631Z"
        },
        "trusted": true,
        "id": "3AH-IPbgguR_"
      },
      "source": [
        "#lets define col names\n",
        "colnames = ['preg','plas','pres','skin','test','mass','pedi','age','class']\n",
        "pimadf = pd.read_csv(\"/content/pima-indians-diabetes.data\", names=colnames)"
      ],
      "execution_count": 2,
      "outputs": []
    },
    {
      "cell_type": "code",
      "metadata": {
        "execution": {
          "iopub.status.busy": "2021-08-08T20:43:46.424438Z",
          "iopub.execute_input": "2021-08-08T20:43:46.424669Z",
          "iopub.status.idle": "2021-08-08T20:43:46.437760Z",
          "shell.execute_reply.started": "2021-08-08T20:43:46.424646Z",
          "shell.execute_reply": "2021-08-08T20:43:46.436979Z"
        },
        "trusted": true,
        "colab": {
          "base_uri": "https://localhost:8080/",
          "height": 203
        },
        "id": "agekAUTzguSA",
        "outputId": "66373c15-5bd5-45f5-91c0-3623830452b4"
      },
      "source": [
        "pimadf.head()"
      ],
      "execution_count": 3,
      "outputs": [
        {
          "output_type": "execute_result",
          "data": {
            "text/html": [
              "<div>\n",
              "<style scoped>\n",
              "    .dataframe tbody tr th:only-of-type {\n",
              "        vertical-align: middle;\n",
              "    }\n",
              "\n",
              "    .dataframe tbody tr th {\n",
              "        vertical-align: top;\n",
              "    }\n",
              "\n",
              "    .dataframe thead th {\n",
              "        text-align: right;\n",
              "    }\n",
              "</style>\n",
              "<table border=\"1\" class=\"dataframe\">\n",
              "  <thead>\n",
              "    <tr style=\"text-align: right;\">\n",
              "      <th></th>\n",
              "      <th>preg</th>\n",
              "      <th>plas</th>\n",
              "      <th>pres</th>\n",
              "      <th>skin</th>\n",
              "      <th>test</th>\n",
              "      <th>mass</th>\n",
              "      <th>pedi</th>\n",
              "      <th>age</th>\n",
              "      <th>class</th>\n",
              "    </tr>\n",
              "  </thead>\n",
              "  <tbody>\n",
              "    <tr>\n",
              "      <th>0</th>\n",
              "      <td>6</td>\n",
              "      <td>148</td>\n",
              "      <td>72</td>\n",
              "      <td>35</td>\n",
              "      <td>0</td>\n",
              "      <td>33.6</td>\n",
              "      <td>0.627</td>\n",
              "      <td>50</td>\n",
              "      <td>1</td>\n",
              "    </tr>\n",
              "    <tr>\n",
              "      <th>1</th>\n",
              "      <td>1</td>\n",
              "      <td>85</td>\n",
              "      <td>66</td>\n",
              "      <td>29</td>\n",
              "      <td>0</td>\n",
              "      <td>26.6</td>\n",
              "      <td>0.351</td>\n",
              "      <td>31</td>\n",
              "      <td>0</td>\n",
              "    </tr>\n",
              "    <tr>\n",
              "      <th>2</th>\n",
              "      <td>8</td>\n",
              "      <td>183</td>\n",
              "      <td>64</td>\n",
              "      <td>0</td>\n",
              "      <td>0</td>\n",
              "      <td>23.3</td>\n",
              "      <td>0.672</td>\n",
              "      <td>32</td>\n",
              "      <td>1</td>\n",
              "    </tr>\n",
              "    <tr>\n",
              "      <th>3</th>\n",
              "      <td>1</td>\n",
              "      <td>89</td>\n",
              "      <td>66</td>\n",
              "      <td>23</td>\n",
              "      <td>94</td>\n",
              "      <td>28.1</td>\n",
              "      <td>0.167</td>\n",
              "      <td>21</td>\n",
              "      <td>0</td>\n",
              "    </tr>\n",
              "    <tr>\n",
              "      <th>4</th>\n",
              "      <td>0</td>\n",
              "      <td>137</td>\n",
              "      <td>40</td>\n",
              "      <td>35</td>\n",
              "      <td>168</td>\n",
              "      <td>43.1</td>\n",
              "      <td>2.288</td>\n",
              "      <td>33</td>\n",
              "      <td>1</td>\n",
              "    </tr>\n",
              "  </tbody>\n",
              "</table>\n",
              "</div>"
            ],
            "text/plain": [
              "   preg  plas  pres  skin  test  mass   pedi  age  class\n",
              "0     6   148    72    35     0  33.6  0.627   50      1\n",
              "1     1    85    66    29     0  26.6  0.351   31      0\n",
              "2     8   183    64     0     0  23.3  0.672   32      1\n",
              "3     1    89    66    23    94  28.1  0.167   21      0\n",
              "4     0   137    40    35   168  43.1  2.288   33      1"
            ]
          },
          "metadata": {
            "tags": []
          },
          "execution_count": 3
        }
      ]
    },
    {
      "cell_type": "code",
      "metadata": {
        "execution": {
          "iopub.status.busy": "2021-08-08T20:43:46.439075Z",
          "iopub.execute_input": "2021-08-08T20:43:46.439322Z",
          "iopub.status.idle": "2021-08-08T20:43:46.451811Z",
          "shell.execute_reply.started": "2021-08-08T20:43:46.439298Z",
          "shell.execute_reply": "2021-08-08T20:43:46.450950Z"
        },
        "trusted": true,
        "id": "Tk8ugEabguSB"
      },
      "source": [
        "std = StandardScaler()"
      ],
      "execution_count": 4,
      "outputs": []
    },
    {
      "cell_type": "code",
      "metadata": {
        "execution": {
          "iopub.status.busy": "2021-08-08T20:43:46.453069Z",
          "iopub.execute_input": "2021-08-08T20:43:46.453512Z",
          "iopub.status.idle": "2021-08-08T20:43:46.465599Z",
          "shell.execute_reply.started": "2021-08-08T20:43:46.453480Z",
          "shell.execute_reply": "2021-08-08T20:43:46.464901Z"
        },
        "trusted": true,
        "id": "j-lHDykAguSB"
      },
      "source": [
        "X = pimadf.drop(\"class\", axis=1)\n",
        "Y = pimadf['class']"
      ],
      "execution_count": 5,
      "outputs": []
    },
    {
      "cell_type": "code",
      "metadata": {
        "execution": {
          "iopub.status.busy": "2021-08-08T20:43:46.467329Z",
          "iopub.execute_input": "2021-08-08T20:43:46.467744Z",
          "iopub.status.idle": "2021-08-08T20:43:46.486415Z",
          "shell.execute_reply.started": "2021-08-08T20:43:46.467715Z",
          "shell.execute_reply": "2021-08-08T20:43:46.485216Z"
        },
        "trusted": true,
        "id": "tltUp-d9guSB"
      },
      "source": [
        "X = std.fit_transform(X)"
      ],
      "execution_count": 6,
      "outputs": []
    },
    {
      "cell_type": "code",
      "metadata": {
        "execution": {
          "iopub.status.busy": "2021-08-08T20:43:46.488146Z",
          "iopub.execute_input": "2021-08-08T20:43:46.488510Z",
          "iopub.status.idle": "2021-08-08T20:43:46.502354Z",
          "shell.execute_reply.started": "2021-08-08T20:43:46.488478Z",
          "shell.execute_reply": "2021-08-08T20:43:46.501355Z"
        },
        "trusted": true,
        "id": "sRDLMp-1guSC"
      },
      "source": [
        "#Lets split the data\n",
        "X_train, X_test, Y_train, Y_test = train_test_split(X,Y, test_size = 0.30, random_state=7)"
      ],
      "execution_count": 7,
      "outputs": []
    },
    {
      "cell_type": "code",
      "metadata": {
        "execution": {
          "iopub.status.busy": "2021-08-08T20:43:46.503998Z",
          "iopub.execute_input": "2021-08-08T20:43:46.504327Z",
          "iopub.status.idle": "2021-08-08T20:43:46.513694Z",
          "shell.execute_reply.started": "2021-08-08T20:43:46.504298Z",
          "shell.execute_reply": "2021-08-08T20:43:46.512768Z"
        },
        "trusted": true,
        "id": "4MP-TiQhguSC"
      },
      "source": [
        "#lets choose the model\n",
        "model = GaussianNB()"
      ],
      "execution_count": 8,
      "outputs": []
    },
    {
      "cell_type": "code",
      "metadata": {
        "execution": {
          "iopub.status.busy": "2021-08-08T20:43:46.514977Z",
          "iopub.execute_input": "2021-08-08T20:43:46.515518Z",
          "iopub.status.idle": "2021-08-08T20:43:46.529264Z",
          "shell.execute_reply.started": "2021-08-08T20:43:46.515487Z",
          "shell.execute_reply": "2021-08-08T20:43:46.528093Z"
        },
        "trusted": true,
        "colab": {
          "base_uri": "https://localhost:8080/"
        },
        "id": "qam0IcywguSC",
        "outputId": "7a0a88f6-e48a-4245-e107-3041998cd05b"
      },
      "source": [
        "#Lets train the model\n",
        "model.fit(X_train, Y_train)\n",
        "print(model)"
      ],
      "execution_count": 9,
      "outputs": [
        {
          "output_type": "stream",
          "text": [
            "GaussianNB(priors=None, var_smoothing=1e-09)\n"
          ],
          "name": "stdout"
        }
      ]
    },
    {
      "cell_type": "code",
      "metadata": {
        "execution": {
          "iopub.status.busy": "2021-08-08T20:43:46.530671Z",
          "iopub.execute_input": "2021-08-08T20:43:46.530956Z",
          "iopub.status.idle": "2021-08-08T20:43:46.537576Z",
          "shell.execute_reply.started": "2021-08-08T20:43:46.530927Z",
          "shell.execute_reply": "2021-08-08T20:43:46.536783Z"
        },
        "trusted": true,
        "id": "dMjlDPWLguSD"
      },
      "source": [
        "#lets make the predictions\n",
        "pred = model.predict(X_test)"
      ],
      "execution_count": 10,
      "outputs": []
    },
    {
      "cell_type": "code",
      "metadata": {
        "execution": {
          "iopub.status.busy": "2021-08-08T20:43:46.538856Z",
          "iopub.execute_input": "2021-08-08T20:43:46.539270Z",
          "iopub.status.idle": "2021-08-08T20:43:46.552907Z",
          "shell.execute_reply.started": "2021-08-08T20:43:46.539204Z",
          "shell.execute_reply": "2021-08-08T20:43:46.551834Z"
        },
        "trusted": true,
        "colab": {
          "base_uri": "https://localhost:8080/"
        },
        "id": "QMOufe9tguSD",
        "outputId": "638fd816-544e-4b91-f1ff-f41e810b8b4c"
      },
      "source": [
        "#lets check the accuracy of the model by printing its score\n",
        "from sklearn.metrics import accuracy_score, confusion_matrix\n",
        "\n",
        "model_score = model.score(X_test, Y_test)\n",
        "model_score"
      ],
      "execution_count": 11,
      "outputs": [
        {
          "output_type": "execute_result",
          "data": {
            "text/plain": [
              "0.7402597402597403"
            ]
          },
          "metadata": {
            "tags": []
          },
          "execution_count": 11
        }
      ]
    },
    {
      "cell_type": "code",
      "metadata": {
        "execution": {
          "iopub.status.busy": "2021-08-08T20:43:46.653695Z",
          "iopub.execute_input": "2021-08-08T20:43:46.654145Z",
          "iopub.status.idle": "2021-08-08T20:43:46.663564Z",
          "shell.execute_reply.started": "2021-08-08T20:43:46.654116Z",
          "shell.execute_reply": "2021-08-08T20:43:46.662443Z"
        },
        "trusted": true,
        "colab": {
          "base_uri": "https://localhost:8080/"
        },
        "id": "39PXbyHBguSD",
        "outputId": "27d7ea86-2ac0-4b69-fd5b-6e5e06666c5a"
      },
      "source": [
        "metrics.confusion_matrix(pred, Y_test)"
      ],
      "execution_count": 12,
      "outputs": [
        {
          "output_type": "execute_result",
          "data": {
            "text/plain": [
              "array([[116,  29],\n",
              "       [ 31,  55]])"
            ]
          },
          "metadata": {
            "tags": []
          },
          "execution_count": 12
        }
      ]
    },
    {
      "cell_type": "code",
      "metadata": {
        "execution": {
          "iopub.status.busy": "2021-08-08T20:43:46.665364Z",
          "iopub.execute_input": "2021-08-08T20:43:46.666050Z",
          "iopub.status.idle": "2021-08-08T20:43:46.673991Z",
          "shell.execute_reply.started": "2021-08-08T20:43:46.666009Z",
          "shell.execute_reply": "2021-08-08T20:43:46.672331Z"
        },
        "trusted": true,
        "id": "x7qmnjfwguSE"
      },
      "source": [
        "#lets find the probability\n",
        "y_pred_prob = model.predict_proba(X_test)"
      ],
      "execution_count": 13,
      "outputs": []
    },
    {
      "cell_type": "code",
      "metadata": {
        "execution": {
          "iopub.status.busy": "2021-08-08T20:43:46.676654Z",
          "iopub.execute_input": "2021-08-08T20:43:46.677409Z",
          "iopub.status.idle": "2021-08-08T20:43:46.688552Z",
          "shell.execute_reply.started": "2021-08-08T20:43:46.677369Z",
          "shell.execute_reply": "2021-08-08T20:43:46.687348Z"
        },
        "trusted": true,
        "colab": {
          "base_uri": "https://localhost:8080/"
        },
        "id": "twYA32ZHguSE",
        "outputId": "0033cad8-8b9c-476d-ead0-13aedc09ba62"
      },
      "source": [
        "from sklearn.metrics import auc, roc_curve\n",
        "\n",
        "fpr,tpr,thresholds = roc_curve(Y_test, y_pred_prob[::,1])\n",
        "roc_auc = auc(fpr,tpr)\n",
        "roc_auc"
      ],
      "execution_count": 14,
      "outputs": [
        {
          "output_type": "execute_result",
          "data": {
            "text/plain": [
              "0.7973760932944606"
            ]
          },
          "metadata": {
            "tags": []
          },
          "execution_count": 14
        }
      ]
    },
    {
      "cell_type": "code",
      "metadata": {
        "execution": {
          "iopub.status.busy": "2021-08-08T20:43:46.690603Z",
          "iopub.execute_input": "2021-08-08T20:43:46.690946Z",
          "iopub.status.idle": "2021-08-08T20:43:46.895408Z",
          "shell.execute_reply.started": "2021-08-08T20:43:46.690917Z",
          "shell.execute_reply": "2021-08-08T20:43:46.894481Z"
        },
        "trusted": true,
        "colab": {
          "base_uri": "https://localhost:8080/",
          "height": 301
        },
        "id": "4gdtidoyguSE",
        "outputId": "901301ad-8c4a-4214-a6ff-c1ee75223bbc"
      },
      "source": [
        "#lets plot the roc curve\n",
        "plt.plot(fpr,tpr, color='darkorange', label='ROC curve (area = %0.2f)' % roc_auc)\n",
        "plt.plot([0,1],[0,1], color='navy', linestyle='--')\n",
        "plt.xlabel('False Positive Rate')\n",
        "plt.ylabel('True Positive Rate')\n",
        "plt.title('Reciever operating characteristic')\n",
        "plt.legend(loc='lower right')\n",
        "plt.show()"
      ],
      "execution_count": 15,
      "outputs": [
        {
          "output_type": "display_data",
          "data": {
            "image/png": "[encoded data removed]",
            "text/plain": [
              "<Figure size 432x288 with 1 Axes>"
            ]
          },
          "metadata": {
            "tags": [],
            "needs_background": "light"
          }
        }
      ]
    },
    {
      "cell_type": "markdown",
      "metadata": {
        "id": "G21YDD3KguSF"
      },
      "source": [
        "**KMeans Clustering**\n",
        "\n",
        "Division of datapoints into clusters such that each data point is present in only one cluster"
      ]
    },
    {
      "cell_type": "markdown",
      "metadata": {
        "id": "QNsvoaTwguSF"
      },
      "source": [
        "**Problem Statement**\n",
        "\n",
        "To analyze the type of customers in the market based on the features"
      ]
    },
    {
      "cell_type": "code",
      "metadata": {
        "execution": {
          "iopub.status.busy": "2021-08-08T20:43:46.896629Z",
          "iopub.execute_input": "2021-08-08T20:43:46.896895Z",
          "iopub.status.idle": "2021-08-08T20:43:46.902526Z",
          "shell.execute_reply.started": "2021-08-08T20:43:46.896867Z",
          "shell.execute_reply": "2021-08-08T20:43:46.901517Z"
        },
        "trusted": true,
        "id": "xNzia_7WguSF"
      },
      "source": [
        "#lets import the libraries\n",
        "import numpy as np\n",
        "import pandas as pd\n",
        "import matplotlib.pyplot as plt\n",
        "import seaborn as sns\n",
        "sns.set()"
      ],
      "execution_count": 16,
      "outputs": []
    },
    {
      "cell_type": "code",
      "metadata": {
        "execution": {
          "iopub.status.busy": "2021-08-08T20:43:46.903617Z",
          "iopub.execute_input": "2021-08-08T20:43:46.903983Z",
          "iopub.status.idle": "2021-08-08T20:43:46.930493Z",
          "shell.execute_reply.started": "2021-08-08T20:43:46.903937Z",
          "shell.execute_reply": "2021-08-08T20:43:46.929127Z"
        },
        "trusted": true,
        "colab": {
          "base_uri": "https://localhost:8080/",
          "height": 203
        },
        "id": "7BIKBB1hguSF",
        "outputId": "21cbea32-88e0-40c2-c6ed-d8446082c380"
      },
      "source": [
        "#load the data into data variable\n",
        "data = pd.read_csv('/content/Example.csv')\n",
        "data.head()"
      ],
      "execution_count": 17,
      "outputs": [
        {
          "output_type": "execute_result",
          "data": {
            "text/html": [
              "<div>\n",
              "<style scoped>\n",
              "    .dataframe tbody tr th:only-of-type {\n",
              "        vertical-align: middle;\n",
              "    }\n",
              "\n",
              "    .dataframe tbody tr th {\n",
              "        vertical-align: top;\n",
              "    }\n",
              "\n",
              "    .dataframe thead th {\n",
              "        text-align: right;\n",
              "    }\n",
              "</style>\n",
              "<table border=\"1\" class=\"dataframe\">\n",
              "  <thead>\n",
              "    <tr style=\"text-align: right;\">\n",
              "      <th></th>\n",
              "      <th>Satisfaction</th>\n",
              "      <th>Loyalty</th>\n",
              "    </tr>\n",
              "  </thead>\n",
              "  <tbody>\n",
              "    <tr>\n",
              "      <th>0</th>\n",
              "      <td>4</td>\n",
              "      <td>-1.33</td>\n",
              "    </tr>\n",
              "    <tr>\n",
              "      <th>1</th>\n",
              "      <td>6</td>\n",
              "      <td>-0.28</td>\n",
              "    </tr>\n",
              "    <tr>\n",
              "      <th>2</th>\n",
              "      <td>5</td>\n",
              "      <td>-0.99</td>\n",
              "    </tr>\n",
              "    <tr>\n",
              "      <th>3</th>\n",
              "      <td>7</td>\n",
              "      <td>-0.29</td>\n",
              "    </tr>\n",
              "    <tr>\n",
              "      <th>4</th>\n",
              "      <td>4</td>\n",
              "      <td>1.06</td>\n",
              "    </tr>\n",
              "  </tbody>\n",
              "</table>\n",
              "</div>"
            ],
            "text/plain": [
              "   Satisfaction  Loyalty\n",
              "0             4    -1.33\n",
              "1             6    -0.28\n",
              "2             5    -0.99\n",
              "3             7    -0.29\n",
              "4             4     1.06"
            ]
          },
          "metadata": {
            "tags": []
          },
          "execution_count": 17
        }
      ]
    },
    {
      "cell_type": "code",
      "metadata": {
        "execution": {
          "iopub.status.busy": "2021-08-08T20:43:46.931870Z",
          "iopub.execute_input": "2021-08-08T20:43:46.932253Z",
          "iopub.status.idle": "2021-08-08T20:43:47.142970Z",
          "shell.execute_reply.started": "2021-08-08T20:43:46.932198Z",
          "shell.execute_reply": "2021-08-08T20:43:47.142059Z"
        },
        "trusted": true,
        "colab": {
          "base_uri": "https://localhost:8080/",
          "height": 287
        },
        "id": "tBZs5XgAguSG",
        "outputId": "5095cea5-c0f1-406d-98ff-f756b2422d26"
      },
      "source": [
        "#plot the data using scatter plot: hint: x=data[Satisfaction], y=data['Loyalty]\n",
        "plt.scatter(data['Satisfaction'], data['Loyalty'])\n",
        "plt.xlabel('Satisfaction')\n",
        "plt.ylabel('Loyalty')\n",
        "plt.show()"
      ],
      "execution_count": 18,
      "outputs": [
        {
          "output_type": "display_data",
          "data": {
            "image/png": "[encoded data removed]",
            "text/plain": [
              "<Figure size 432x288 with 1 Axes>"
            ]
          },
          "metadata": {
            "tags": []
          }
        }
      ]
    },
    {
      "cell_type": "code",
      "metadata": {
        "execution": {
          "iopub.status.busy": "2021-08-08T20:43:47.143930Z",
          "iopub.execute_input": "2021-08-08T20:43:47.144187Z",
          "iopub.status.idle": "2021-08-08T20:43:47.149998Z",
          "shell.execute_reply.started": "2021-08-08T20:43:47.144160Z",
          "shell.execute_reply": "2021-08-08T20:43:47.148826Z"
        },
        "trusted": true,
        "id": "cYJnQ2VgguSG"
      },
      "source": [
        "#copy the entire data into X and select the features\n",
        "X = data.copy()"
      ],
      "execution_count": 19,
      "outputs": []
    },
    {
      "cell_type": "code",
      "metadata": {
        "execution": {
          "iopub.status.busy": "2021-08-08T20:43:47.152584Z",
          "iopub.execute_input": "2021-08-08T20:43:47.152855Z",
          "iopub.status.idle": "2021-08-08T20:43:47.590132Z",
          "shell.execute_reply.started": "2021-08-08T20:43:47.152826Z",
          "shell.execute_reply": "2021-08-08T20:43:47.588925Z"
        },
        "trusted": true,
        "colab": {
          "base_uri": "https://localhost:8080/"
        },
        "id": "RWkFH49iguSG",
        "outputId": "832b3a6d-b2d8-4d8f-92b8-49ead2906230"
      },
      "source": [
        "#Clustering\n",
        "from sklearn.cluster import KMeans\n",
        "\n",
        "kmeans = KMeans(2)\n",
        "kmeans.fit(X)"
      ],
      "execution_count": 20,
      "outputs": [
        {
          "output_type": "execute_result",
          "data": {
            "text/plain": [
              "KMeans(algorithm='auto', copy_x=True, init='k-means++', max_iter=300,\n",
              "       n_clusters=2, n_init=10, n_jobs=None, precompute_distances='auto',\n",
              "       random_state=None, tol=0.0001, verbose=0)"
            ]
          },
          "metadata": {
            "tags": []
          },
          "execution_count": 20
        }
      ]
    },
    {
      "cell_type": "code",
      "metadata": {
        "execution": {
          "iopub.status.busy": "2021-08-08T20:43:47.591698Z",
          "iopub.execute_input": "2021-08-08T20:43:47.591962Z",
          "iopub.status.idle": "2021-08-08T20:43:47.620346Z",
          "shell.execute_reply.started": "2021-08-08T20:43:47.591934Z",
          "shell.execute_reply": "2021-08-08T20:43:47.619144Z"
        },
        "trusted": true,
        "id": "zoTKby6aguSH"
      },
      "source": [
        "#Lets copy the clustering result\n",
        "clusters = X.copy()\n",
        "clusters['cluster_pred'] = kmeans.fit_predict(X)"
      ],
      "execution_count": 21,
      "outputs": []
    },
    {
      "cell_type": "code",
      "metadata": {
        "execution": {
          "iopub.status.busy": "2021-08-08T20:43:47.621782Z",
          "iopub.execute_input": "2021-08-08T20:43:47.622070Z",
          "iopub.status.idle": "2021-08-08T20:43:47.814152Z",
          "shell.execute_reply.started": "2021-08-08T20:43:47.622042Z",
          "shell.execute_reply": "2021-08-08T20:43:47.813330Z"
        },
        "trusted": true,
        "colab": {
          "base_uri": "https://localhost:8080/",
          "height": 287
        },
        "id": "T6N0fivWguSH",
        "outputId": "a15f317e-b532-4a22-de2d-ce4cec6b97ea"
      },
      "source": [
        "#lets plot the clustered data\n",
        "plt.scatter(clusters['Satisfaction'],clusters['Loyalty'], c = clusters['cluster_pred'], cmap='rainbow')\n",
        "plt.xlabel('Satisfaction')\n",
        "plt.ylabel('Loyalty')\n",
        "plt.show()"
      ],
      "execution_count": 22,
      "outputs": [
        {
          "output_type": "display_data",
          "data": {
            "image/png": "[encoded data removed]",
            "text/plain": [
              "<Figure size 432x288 with 1 Axes>"
            ]
          },
          "metadata": {
            "tags": []
          }
        }
      ]
    },
    {
      "cell_type": "code",
      "metadata": {
        "execution": {
          "iopub.status.busy": "2021-08-08T20:43:47.815271Z",
          "iopub.execute_input": "2021-08-08T20:43:47.815535Z",
          "iopub.status.idle": "2021-08-08T20:43:47.827813Z",
          "shell.execute_reply.started": "2021-08-08T20:43:47.815507Z",
          "shell.execute_reply": "2021-08-08T20:43:47.826724Z"
        },
        "trusted": true,
        "colab": {
          "base_uri": "https://localhost:8080/"
        },
        "id": "C0-xWH92guSI",
        "outputId": "5443d888-575b-4534-a948-16f5454b620d"
      },
      "source": [
        "#lets standardize the variables\n",
        "from sklearn import preprocessing\n",
        "\n",
        "x_scaled = preprocessing.scale(X)\n",
        "x_scaled"
      ],
      "execution_count": 23,
      "outputs": [
        {
          "output_type": "execute_result",
          "data": {
            "text/plain": [
              "array([[-0.93138063, -1.3318111 ],\n",
              "       [-0.15523011, -0.28117124],\n",
              "       [-0.54330537, -0.99160391],\n",
              "       [ 0.23284516, -0.29117733],\n",
              "       [-0.93138063,  1.05964534],\n",
              "       [-2.09560642, -1.6620122 ],\n",
              "       [ 1.39707095, -0.97159172],\n",
              "       [ 0.62092042, -0.32119561],\n",
              "       [ 0.62092042,  1.01962097],\n",
              "       [ 0.62092042,  0.67941378],\n",
              "       [ 1.39707095, -0.3412078 ],\n",
              "       [-0.54330537,  0.38923705],\n",
              "       [-0.54330537, -1.69203048],\n",
              "       [-1.70753116,  0.66940768],\n",
              "       [ 0.23284516,  0.26916393],\n",
              "       [ 1.00899568,  1.35982816],\n",
              "       [ 0.62092042,  1.37984035],\n",
              "       [ 0.23284516,  1.35982816],\n",
              "       [ 0.23284516, -0.3412078 ],\n",
              "       [ 1.00899568,  0.66940768],\n",
              "       [ 1.39707095,  1.17971847],\n",
              "       [-1.31945589, -1.69203048],\n",
              "       [-0.93138063,  1.03963316],\n",
              "       [-1.31945589, -0.96158562],\n",
              "       [-0.15523011,  1.02962706],\n",
              "       [ 1.00899568, -0.99160391],\n",
              "       [ 1.39707095,  0.36922486],\n",
              "       [ 1.00899568,  0.02901767],\n",
              "       [-1.31945589, -1.36182938],\n",
              "       [-0.54330537,  0.72944425]])"
            ]
          },
          "metadata": {
            "tags": []
          },
          "execution_count": 23
        }
      ]
    },
    {
      "cell_type": "code",
      "metadata": {
        "execution": {
          "iopub.status.busy": "2021-08-08T20:43:47.829475Z",
          "iopub.execute_input": "2021-08-08T20:43:47.829849Z",
          "iopub.status.idle": "2021-08-08T20:43:49.736267Z",
          "shell.execute_reply.started": "2021-08-08T20:43:47.829812Z",
          "shell.execute_reply": "2021-08-08T20:43:49.735354Z"
        },
        "trusted": true,
        "colab": {
          "base_uri": "https://localhost:8080/"
        },
        "id": "MxaAPcdFguSI",
        "outputId": "ca63bcd8-8198-4dff-d882-e93a853b8fdc"
      },
      "source": [
        "#Elbow method\n",
        "wcss = []\n",
        "\n",
        "for i in range(1,30):\n",
        "  kmeans = KMeans(i)\n",
        "  kmeans.fit(x_scaled)\n",
        "  wcss.append(kmeans.inertia_)\n",
        "\n",
        "wcss"
      ],
      "execution_count": 24,
      "outputs": [
        {
          "output_type": "execute_result",
          "data": {
            "text/plain": [
              "[60.0,\n",
              " 29.818973034723147,\n",
              " 17.913349527387965,\n",
              " 10.247181805928422,\n",
              " 7.792695153937187,\n",
              " 6.569489487091783,\n",
              " 5.417308168183205,\n",
              " 4.337110750237059,\n",
              " 3.8231980448085188,\n",
              " 3.292886890946914,\n",
              " 3.0275165821627654,\n",
              " 2.4009836471184305,\n",
              " 2.200091880152491,\n",
              " 1.8855393034053005,\n",
              " 1.567174687777079,\n",
              " 1.3083879050713378,\n",
              " 1.1350097534695136,\n",
              " 1.0175993461344655,\n",
              " 0.8384919457944024,\n",
              " 0.6366791702988839,\n",
              " 0.5451582152303865,\n",
              " 0.4451666211152162,\n",
              " 0.3227119817275011,\n",
              " 0.24721053307798668,\n",
              " 0.17170908442847233,\n",
              " 0.11383861748989679,\n",
              " 0.0559681505513213,\n",
              " 0.0014517677692203244,\n",
              " 0.00020024383023728806]"
            ]
          },
          "metadata": {
            "tags": []
          },
          "execution_count": 24
        }
      ]
    },
    {
      "cell_type": "code",
      "metadata": {
        "execution": {
          "iopub.status.busy": "2021-08-08T20:43:49.737587Z",
          "iopub.execute_input": "2021-08-08T20:43:49.737878Z",
          "iopub.status.idle": "2021-08-08T20:43:49.933367Z",
          "shell.execute_reply.started": "2021-08-08T20:43:49.737847Z",
          "shell.execute_reply": "2021-08-08T20:43:49.932297Z"
        },
        "trusted": true,
        "colab": {
          "base_uri": "https://localhost:8080/",
          "height": 285
        },
        "id": "KXvPJUmUguSI",
        "outputId": "e0ddaafd-6214-4a5f-d885-57d421398df3"
      },
      "source": [
        "#lets visualize the elbow method\n",
        "plt.plot(range(1,30), wcss)\n",
        "plt.xlabel('Number of Clusters')\n",
        "plt.ylabel('WCSS')\n",
        "plt.show()"
      ],
      "execution_count": 25,
      "outputs": [
        {
          "output_type": "display_data",
          "data": {
            "image/png": "[encoded data removed]",
            "text/plain": [
              "<Figure size 432x288 with 1 Axes>"
            ]
          },
          "metadata": {
            "tags": []
          }
        }
      ]
    },
    {
      "cell_type": "code",
      "metadata": {
        "execution": {
          "iopub.status.busy": "2021-08-08T20:43:49.934701Z",
          "iopub.execute_input": "2021-08-08T20:43:49.935038Z",
          "iopub.status.idle": "2021-08-08T20:43:50.001999Z",
          "shell.execute_reply.started": "2021-08-08T20:43:49.935002Z",
          "shell.execute_reply": "2021-08-08T20:43:50.001083Z"
        },
        "trusted": true,
        "colab": {
          "base_uri": "https://localhost:8080/",
          "height": 973
        },
        "id": "Plwgpw0BguSI",
        "outputId": "3d0ad587-74cd-470b-ec3e-76d264e9ff31"
      },
      "source": [
        "#now lets take clusters = 4\n",
        "kmeans_new = KMeans(4)\n",
        "kmeans_new.fit(x_scaled)\n",
        "\n",
        "cluster_new = X.copy()\n",
        "cluster_new['cluster_pred'] = kmeans_new.fit_predict(x_scaled)\n",
        "cluster_new"
      ],
      "execution_count": 26,
      "outputs": [
        {
          "output_type": "execute_result",
          "data": {
            "text/html": [
              "<div>\n",
              "<style scoped>\n",
              "    .dataframe tbody tr th:only-of-type {\n",
              "        vertical-align: middle;\n",
              "    }\n",
              "\n",
              "    .dataframe tbody tr th {\n",
              "        vertical-align: top;\n",
              "    }\n",
              "\n",
              "    .dataframe thead th {\n",
              "        text-align: right;\n",
              "    }\n",
              "</style>\n",
              "<table border=\"1\" class=\"dataframe\">\n",
              "  <thead>\n",
              "    <tr style=\"text-align: right;\">\n",
              "      <th></th>\n",
              "      <th>Satisfaction</th>\n",
              "      <th>Loyalty</th>\n",
              "      <th>cluster_pred</th>\n",
              "    </tr>\n",
              "  </thead>\n",
              "  <tbody>\n",
              "    <tr>\n",
              "      <th>0</th>\n",
              "      <td>4</td>\n",
              "      <td>-1.33</td>\n",
              "      <td>1</td>\n",
              "    </tr>\n",
              "    <tr>\n",
              "      <th>1</th>\n",
              "      <td>6</td>\n",
              "      <td>-0.28</td>\n",
              "      <td>2</td>\n",
              "    </tr>\n",
              "    <tr>\n",
              "      <th>2</th>\n",
              "      <td>5</td>\n",
              "      <td>-0.99</td>\n",
              "      <td>1</td>\n",
              "    </tr>\n",
              "    <tr>\n",
              "      <th>3</th>\n",
              "      <td>7</td>\n",
              "      <td>-0.29</td>\n",
              "      <td>2</td>\n",
              "    </tr>\n",
              "    <tr>\n",
              "      <th>4</th>\n",
              "      <td>4</td>\n",
              "      <td>1.06</td>\n",
              "      <td>0</td>\n",
              "    </tr>\n",
              "    <tr>\n",
              "      <th>5</th>\n",
              "      <td>1</td>\n",
              "      <td>-1.66</td>\n",
              "      <td>1</td>\n",
              "    </tr>\n",
              "    <tr>\n",
              "      <th>6</th>\n",
              "      <td>10</td>\n",
              "      <td>-0.97</td>\n",
              "      <td>2</td>\n",
              "    </tr>\n",
              "    <tr>\n",
              "      <th>7</th>\n",
              "      <td>8</td>\n",
              "      <td>-0.32</td>\n",
              "      <td>2</td>\n",
              "    </tr>\n",
              "    <tr>\n",
              "      <th>8</th>\n",
              "      <td>8</td>\n",
              "      <td>1.02</td>\n",
              "      <td>3</td>\n",
              "    </tr>\n",
              "    <tr>\n",
              "      <th>9</th>\n",
              "      <td>8</td>\n",
              "      <td>0.68</td>\n",
              "      <td>3</td>\n",
              "    </tr>\n",
              "    <tr>\n",
              "      <th>10</th>\n",
              "      <td>10</td>\n",
              "      <td>-0.34</td>\n",
              "      <td>2</td>\n",
              "    </tr>\n",
              "    <tr>\n",
              "      <th>11</th>\n",
              "      <td>5</td>\n",
              "      <td>0.39</td>\n",
              "      <td>0</td>\n",
              "    </tr>\n",
              "    <tr>\n",
              "      <th>12</th>\n",
              "      <td>5</td>\n",
              "      <td>-1.69</td>\n",
              "      <td>1</td>\n",
              "    </tr>\n",
              "    <tr>\n",
              "      <th>13</th>\n",
              "      <td>2</td>\n",
              "      <td>0.67</td>\n",
              "      <td>0</td>\n",
              "    </tr>\n",
              "    <tr>\n",
              "      <th>14</th>\n",
              "      <td>7</td>\n",
              "      <td>0.27</td>\n",
              "      <td>2</td>\n",
              "    </tr>\n",
              "    <tr>\n",
              "      <th>15</th>\n",
              "      <td>9</td>\n",
              "      <td>1.36</td>\n",
              "      <td>3</td>\n",
              "    </tr>\n",
              "    <tr>\n",
              "      <th>16</th>\n",
              "      <td>8</td>\n",
              "      <td>1.38</td>\n",
              "      <td>3</td>\n",
              "    </tr>\n",
              "    <tr>\n",
              "      <th>17</th>\n",
              "      <td>7</td>\n",
              "      <td>1.36</td>\n",
              "      <td>3</td>\n",
              "    </tr>\n",
              "    <tr>\n",
              "      <th>18</th>\n",
              "      <td>7</td>\n",
              "      <td>-0.34</td>\n",
              "      <td>2</td>\n",
              "    </tr>\n",
              "    <tr>\n",
              "      <th>19</th>\n",
              "      <td>9</td>\n",
              "      <td>0.67</td>\n",
              "      <td>3</td>\n",
              "    </tr>\n",
              "    <tr>\n",
              "      <th>20</th>\n",
              "      <td>10</td>\n",
              "      <td>1.18</td>\n",
              "      <td>3</td>\n",
              "    </tr>\n",
              "    <tr>\n",
              "      <th>21</th>\n",
              "      <td>3</td>\n",
              "      <td>-1.69</td>\n",
              "      <td>1</td>\n",
              "    </tr>\n",
              "    <tr>\n",
              "      <th>22</th>\n",
              "      <td>4</td>\n",
              "      <td>1.04</td>\n",
              "      <td>0</td>\n",
              "    </tr>\n",
              "    <tr>\n",
              "      <th>23</th>\n",
              "      <td>3</td>\n",
              "      <td>-0.96</td>\n",
              "      <td>1</td>\n",
              "    </tr>\n",
              "    <tr>\n",
              "      <th>24</th>\n",
              "      <td>6</td>\n",
              "      <td>1.03</td>\n",
              "      <td>0</td>\n",
              "    </tr>\n",
              "    <tr>\n",
              "      <th>25</th>\n",
              "      <td>9</td>\n",
              "      <td>-0.99</td>\n",
              "      <td>2</td>\n",
              "    </tr>\n",
              "    <tr>\n",
              "      <th>26</th>\n",
              "      <td>10</td>\n",
              "      <td>0.37</td>\n",
              "      <td>3</td>\n",
              "    </tr>\n",
              "    <tr>\n",
              "      <th>27</th>\n",
              "      <td>9</td>\n",
              "      <td>0.03</td>\n",
              "      <td>2</td>\n",
              "    </tr>\n",
              "    <tr>\n",
              "      <th>28</th>\n",
              "      <td>3</td>\n",
              "      <td>-1.36</td>\n",
              "      <td>1</td>\n",
              "    </tr>\n",
              "    <tr>\n",
              "      <th>29</th>\n",
              "      <td>5</td>\n",
              "      <td>0.73</td>\n",
              "      <td>0</td>\n",
              "    </tr>\n",
              "  </tbody>\n",
              "</table>\n",
              "</div>"
            ],
            "text/plain": [
              "    Satisfaction  Loyalty  cluster_pred\n",
              "0              4    -1.33             1\n",
              "1              6    -0.28             2\n",
              "2              5    -0.99             1\n",
              "3              7    -0.29             2\n",
              "4              4     1.06             0\n",
              "5              1    -1.66             1\n",
              "6             10    -0.97             2\n",
              "7              8    -0.32             2\n",
              "8              8     1.02             3\n",
              "9              8     0.68             3\n",
              "10            10    -0.34             2\n",
              "11             5     0.39             0\n",
              "12             5    -1.69             1\n",
              "13             2     0.67             0\n",
              "14             7     0.27             2\n",
              "15             9     1.36             3\n",
              "16             8     1.38             3\n",
              "17             7     1.36             3\n",
              "18             7    -0.34             2\n",
              "19             9     0.67             3\n",
              "20            10     1.18             3\n",
              "21             3    -1.69             1\n",
              "22             4     1.04             0\n",
              "23             3    -0.96             1\n",
              "24             6     1.03             0\n",
              "25             9    -0.99             2\n",
              "26            10     0.37             3\n",
              "27             9     0.03             2\n",
              "28             3    -1.36             1\n",
              "29             5     0.73             0"
            ]
          },
          "metadata": {
            "tags": []
          },
          "execution_count": 26
        }
      ]
    },
    {
      "cell_type": "code",
      "metadata": {
        "execution": {
          "iopub.status.busy": "2021-08-08T20:43:50.003334Z",
          "iopub.execute_input": "2021-08-08T20:43:50.003698Z",
          "iopub.status.idle": "2021-08-08T20:43:50.183119Z",
          "shell.execute_reply.started": "2021-08-08T20:43:50.003661Z",
          "shell.execute_reply": "2021-08-08T20:43:50.182453Z"
        },
        "trusted": true,
        "colab": {
          "base_uri": "https://localhost:8080/",
          "height": 287
        },
        "id": "ptmGC3HvguSJ",
        "outputId": "a8d18611-7c24-4a53-baa6-2e2e57285ef8"
      },
      "source": [
        "plt.scatter(cluster_new['Satisfaction'],cluster_new['Loyalty'], c = cluster_new['cluster_pred'], cmap='rainbow')\n",
        "plt.xlabel('Satisfaction')\n",
        "plt.ylabel('Loyalty')\n",
        "plt.show()"
      ],
      "execution_count": 27,
      "outputs": [
        {
          "output_type": "display_data",
          "data": {
            "image/png": "[encoded data removed]",
            "text/plain": [
              "<Figure size 432x288 with 1 Axes>"
            ]
          },
          "metadata": {
            "tags": []
          }
        }
      ]
    },
    {
      "cell_type": "markdown",
      "metadata": {
        "id": "1o5830hnguSJ"
      },
      "source": [
        "**Analysis**\n",
        "\n",
        "1. **Blue Churn:** These are the customers who are less satisfied and less loyal, and therfore can be termed as *Alienated*\n",
        "\n",
        "2. **Yellow Churn :** These people are less satisfied but are highly loyal\n",
        "\n",
        "3. **Purple Churn :** These people are with high loyality and high satisfaction and they are termed as *Fans*\n",
        "\n",
        "4. **Red Churn :** These are the people who are in midst of the things."
      ]
    }
  ]
}