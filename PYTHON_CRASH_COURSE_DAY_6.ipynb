{
  "nbformat": 4,
  "nbformat_minor": 0,
  "metadata": {
    "kernelspec": {
      "language": "python",
      "display_name": "Python 3",
      "name": "python3"
    },
    "language_info": {
      "name": "python",
      "version": "3.7.10",
      "mimetype": "text/x-python",
      "codemirror_mode": {
        "name": "ipython",
        "version": 3
      },
      "pygments_lexer": "ipython3",
      "nbconvert_exporter": "python",
      "file_extension": ".py"
    },
    "colab": {
      "name": "PYTHON-CRASH-COURSE-DAY-6.ipynb",
      "provenance": [],
      "include_colab_link": true
    }
  },
  "cells": [
    {
      "cell_type": "markdown",
      "metadata": {
        "id": "view-in-github",
        "colab_type": "text"
      },
      "source": [
        "<a href=\"https://colab.research.google.com/github/Amey-Thakur/PYTHON-CRASH-COURSE/blob/main/PYTHON_CRASH_COURSE_DAY_6.ipynb\" target=\"_parent\"><img src=\"https://colab.research.google.com/assets/colab-badge.svg\" alt=\"Open In Colab\"/></a>"
      ]
    },
    {
      "cell_type": "markdown",
      "metadata": {
        "id": "qnXEfU3qWpme"
      },
      "source": [
        "# **Day 6**\n",
        "\n",
        "**Pandas**\n",
        "\n",
        "A python library to deal with sequential and tabular data.\n",
        "\n",
        "\n",
        "It has two type of data structures:\n",
        "\n",
        "1. **Series**  It is one dimensional labelled array capable of holding data of type(int, string, float, objects).\n",
        "\n",
        "The axis labels are collectively called as index. Python Series is nothing but a column in excel sheet."
      ]
    },
    {
      "cell_type": "code",
      "metadata": {
        "execution": {
          "iopub.status.busy": "2021-08-08T20:00:14.707293Z",
          "iopub.execute_input": "2021-08-08T20:00:14.707831Z",
          "iopub.status.idle": "2021-08-08T20:00:14.711377Z",
          "shell.execute_reply.started": "2021-08-08T20:00:14.707781Z",
          "shell.execute_reply": "2021-08-08T20:00:14.710691Z"
        },
        "trusted": true,
        "id": "hyJBrFIQWpmf"
      },
      "source": [
        "#lets create pandas series\n",
        "#import the libraries\n",
        "import pandas as pd\n",
        "import numpy as np"
      ],
      "execution_count": 1,
      "outputs": []
    },
    {
      "cell_type": "code",
      "metadata": {
        "execution": {
          "iopub.status.busy": "2021-08-08T20:00:14.713305Z",
          "iopub.execute_input": "2021-08-08T20:00:14.714159Z",
          "iopub.status.idle": "2021-08-08T20:00:14.728411Z",
          "shell.execute_reply.started": "2021-08-08T20:00:14.714125Z",
          "shell.execute_reply": "2021-08-08T20:00:14.727315Z"
        },
        "trusted": true,
        "id": "9jZm1Bz3Wpmf",
        "outputId": "51ad5aa8-3c83-4d80-8360-a3b4fbd77073",
        "colab": {
          "base_uri": "https://localhost:8080/"
        }
      },
      "source": [
        "ser = pd.Series(dtype=object)\n",
        "print(ser, type(ser))"
      ],
      "execution_count": 2,
      "outputs": [
        {
          "output_type": "stream",
          "text": [
            "Series([], dtype: object) <class 'pandas.core.series.Series'>\n"
          ],
          "name": "stdout"
        }
      ]
    },
    {
      "cell_type": "code",
      "metadata": {
        "execution": {
          "iopub.status.busy": "2021-08-08T20:00:14.730243Z",
          "iopub.execute_input": "2021-08-08T20:00:14.730764Z",
          "iopub.status.idle": "2021-08-08T20:00:14.743560Z",
          "shell.execute_reply.started": "2021-08-08T20:00:14.730729Z",
          "shell.execute_reply": "2021-08-08T20:00:14.742469Z"
        },
        "trusted": true,
        "id": "lc_S38I7Wpmg",
        "outputId": "d3a2efd0-69a0-4921-8d35-fd101c88192e",
        "colab": {
          "base_uri": "https://localhost:8080/"
        }
      },
      "source": [
        "#lets create a series from an array\n",
        "data = np.array(['m','a','c','i','n','e'])\n",
        "pd.Series(data)"
      ],
      "execution_count": 3,
      "outputs": [
        {
          "output_type": "execute_result",
          "data": {
            "text/plain": [
              "0    m\n",
              "1    a\n",
              "2    c\n",
              "3    i\n",
              "4    n\n",
              "5    e\n",
              "dtype: object"
            ]
          },
          "metadata": {
            "tags": []
          },
          "execution_count": 3
        }
      ]
    },
    {
      "cell_type": "code",
      "metadata": {
        "execution": {
          "iopub.status.busy": "2021-08-08T20:00:14.745050Z",
          "iopub.execute_input": "2021-08-08T20:00:14.745341Z",
          "iopub.status.idle": "2021-08-08T20:00:14.759944Z",
          "shell.execute_reply.started": "2021-08-08T20:00:14.745315Z",
          "shell.execute_reply": "2021-08-08T20:00:14.758710Z"
        },
        "trusted": true,
        "id": "0pN3P3TNWpmh",
        "outputId": "ad0d0ca0-8da6-43e0-af26-cf1ce0b4804c",
        "colab": {
          "base_uri": "https://localhost:8080/"
        }
      },
      "source": [
        "#lets create a series with list\n",
        "lst = ['Python',3.9, 7*9, 8/4, 5>7]\n",
        "pd.Series(lst)"
      ],
      "execution_count": 4,
      "outputs": [
        {
          "output_type": "execute_result",
          "data": {
            "text/plain": [
              "0    Python\n",
              "1       3.9\n",
              "2        63\n",
              "3         2\n",
              "4     False\n",
              "dtype: object"
            ]
          },
          "metadata": {
            "tags": []
          },
          "execution_count": 4
        }
      ]
    },
    {
      "cell_type": "code",
      "metadata": {
        "execution": {
          "iopub.status.busy": "2021-08-08T20:00:14.761557Z",
          "iopub.execute_input": "2021-08-08T20:00:14.761893Z",
          "iopub.status.idle": "2021-08-08T20:00:14.772835Z",
          "shell.execute_reply.started": "2021-08-08T20:00:14.761860Z",
          "shell.execute_reply": "2021-08-08T20:00:14.771893Z"
        },
        "trusted": true,
        "id": "P1ZexPemWpmh",
        "outputId": "2a7f2707-0a66-4b06-e139-08a72088b19e",
        "colab": {
          "base_uri": "https://localhost:8080/"
        }
      },
      "source": [
        "#lets create series from dictionary\n",
        "dc = {'a':1, 'b':2, 'c':3}\n",
        "ds = pd.Series(dc)\n",
        "print(ds)"
      ],
      "execution_count": 5,
      "outputs": [
        {
          "output_type": "stream",
          "text": [
            "a    1\n",
            "b    2\n",
            "c    3\n",
            "dtype: int64\n"
          ],
          "name": "stdout"
        }
      ]
    },
    {
      "cell_type": "code",
      "metadata": {
        "execution": {
          "iopub.status.busy": "2021-08-08T20:00:14.774382Z",
          "iopub.execute_input": "2021-08-08T20:00:14.775136Z",
          "iopub.status.idle": "2021-08-08T20:00:14.786172Z",
          "shell.execute_reply.started": "2021-08-08T20:00:14.775087Z",
          "shell.execute_reply": "2021-08-08T20:00:14.784969Z"
        },
        "trusted": true,
        "id": "PrgVNimWWpmh",
        "outputId": "f10cc75b-6828-45ef-9b0c-2314eec9b137",
        "colab": {
          "base_uri": "https://localhost:8080/"
        }
      },
      "source": [
        "#lets create series using random numbers\n",
        "n = pd.Series(np.random.randn(5))\n",
        "print(n)"
      ],
      "execution_count": 6,
      "outputs": [
        {
          "output_type": "stream",
          "text": [
            "0    0.460363\n",
            "1   -1.040228\n",
            "2   -0.169119\n",
            "3   -0.099257\n",
            "4   -0.328517\n",
            "dtype: float64\n"
          ],
          "name": "stdout"
        }
      ]
    },
    {
      "cell_type": "code",
      "metadata": {
        "execution": {
          "iopub.status.busy": "2021-08-08T20:00:14.787450Z",
          "iopub.execute_input": "2021-08-08T20:00:14.788000Z",
          "iopub.status.idle": "2021-08-08T20:00:14.797173Z",
          "shell.execute_reply.started": "2021-08-08T20:00:14.787950Z",
          "shell.execute_reply": "2021-08-08T20:00:14.796092Z"
        },
        "trusted": true,
        "id": "OXWl97VzWpmi"
      },
      "source": [
        "#Accessing the elements in Series\n",
        "#via position\n",
        "#via index\n",
        "\n",
        "\n",
        "#via Position\n",
        "s = pd.Series(data)"
      ],
      "execution_count": 7,
      "outputs": []
    },
    {
      "cell_type": "code",
      "metadata": {
        "execution": {
          "iopub.status.busy": "2021-08-08T20:00:14.799411Z",
          "iopub.execute_input": "2021-08-08T20:00:14.799774Z",
          "iopub.status.idle": "2021-08-08T20:00:14.810135Z",
          "shell.execute_reply.started": "2021-08-08T20:00:14.799742Z",
          "shell.execute_reply": "2021-08-08T20:00:14.809111Z"
        },
        "trusted": true,
        "id": "GHGRn10rWpmi",
        "outputId": "10db5fa8-17d2-4efa-b3ce-af5df2352eae",
        "colab": {
          "base_uri": "https://localhost:8080/"
        }
      },
      "source": [
        "print(s[:5])"
      ],
      "execution_count": 8,
      "outputs": [
        {
          "output_type": "stream",
          "text": [
            "0    m\n",
            "1    a\n",
            "2    c\n",
            "3    i\n",
            "4    n\n",
            "dtype: object\n"
          ],
          "name": "stdout"
        }
      ]
    },
    {
      "cell_type": "code",
      "metadata": {
        "execution": {
          "iopub.status.busy": "2021-08-08T20:00:14.811709Z",
          "iopub.execute_input": "2021-08-08T20:00:14.812405Z",
          "iopub.status.idle": "2021-08-08T20:00:14.822935Z",
          "shell.execute_reply.started": "2021-08-08T20:00:14.812342Z",
          "shell.execute_reply": "2021-08-08T20:00:14.822006Z"
        },
        "trusted": true,
        "id": "qLhCwMesWpmi",
        "outputId": "cebbe8cb-3327-4e90-9134-1fe6cb2b733b",
        "colab": {
          "base_uri": "https://localhost:8080/"
        }
      },
      "source": [
        "#via index\n",
        "print(s[5])"
      ],
      "execution_count": 9,
      "outputs": [
        {
          "output_type": "stream",
          "text": [
            "e\n"
          ],
          "name": "stdout"
        }
      ]
    },
    {
      "cell_type": "code",
      "metadata": {
        "execution": {
          "iopub.status.busy": "2021-08-08T20:00:14.824021Z",
          "iopub.execute_input": "2021-08-08T20:00:14.824418Z",
          "iopub.status.idle": "2021-08-08T20:00:14.838358Z",
          "shell.execute_reply.started": "2021-08-08T20:00:14.824388Z",
          "shell.execute_reply": "2021-08-08T20:00:14.837286Z"
        },
        "trusted": true,
        "id": "lYryawLjWpmj",
        "outputId": "2b4eed6c-74b7-4634-d7e6-0ed54c436ae2",
        "colab": {
          "base_uri": "https://localhost:8080/"
        }
      },
      "source": [
        "#lets explicitly sepcify the index\n",
        "ser = pd.Series(data, index=range(10,16))\n",
        "ser"
      ],
      "execution_count": 10,
      "outputs": [
        {
          "output_type": "execute_result",
          "data": {
            "text/plain": [
              "10    m\n",
              "11    a\n",
              "12    c\n",
              "13    i\n",
              "14    n\n",
              "15    e\n",
              "dtype: object"
            ]
          },
          "metadata": {
            "tags": []
          },
          "execution_count": 10
        }
      ]
    },
    {
      "cell_type": "code",
      "metadata": {
        "execution": {
          "iopub.status.busy": "2021-08-08T20:00:14.840841Z",
          "iopub.execute_input": "2021-08-08T20:00:14.841303Z",
          "iopub.status.idle": "2021-08-08T20:00:14.856429Z",
          "shell.execute_reply.started": "2021-08-08T20:00:14.841259Z",
          "shell.execute_reply": "2021-08-08T20:00:14.855178Z"
        },
        "trusted": true,
        "id": "tjlBFSrcWpmj",
        "outputId": "164b154c-3618-49e8-85f4-ccc451f54dfa",
        "colab": {
          "base_uri": "https://localhost:8080/"
        }
      },
      "source": [
        "#lets perform arithmetic operations on series\n",
        "d = pd.Series([5,2,3,7], index=['a','b','c','d'])\n",
        "d1 = pd.Series({'a':1, 'b':6, 'c':4, 'e':9})\n",
        "\n",
        "print(d, \"\\n\\n\", d1)"
      ],
      "execution_count": 11,
      "outputs": [
        {
          "output_type": "stream",
          "text": [
            "a    5\n",
            "b    2\n",
            "c    3\n",
            "d    7\n",
            "dtype: int64 \n",
            "\n",
            " a    1\n",
            "b    6\n",
            "c    4\n",
            "e    9\n",
            "dtype: int64\n"
          ],
          "name": "stdout"
        }
      ]
    },
    {
      "cell_type": "code",
      "metadata": {
        "execution": {
          "iopub.status.busy": "2021-08-08T20:00:14.858195Z",
          "iopub.execute_input": "2021-08-08T20:00:14.858484Z",
          "iopub.status.idle": "2021-08-08T20:00:14.872923Z",
          "shell.execute_reply.started": "2021-08-08T20:00:14.858456Z",
          "shell.execute_reply": "2021-08-08T20:00:14.872057Z"
        },
        "trusted": true,
        "id": "bpp1CjxzWpmk",
        "outputId": "1f947417-9539-44c0-a78b-2067894a9c6f",
        "colab": {
          "base_uri": "https://localhost:8080/"
        }
      },
      "source": [
        "#lets perform addition\n",
        "d.add(d1,fill_value=0)"
      ],
      "execution_count": 12,
      "outputs": [
        {
          "output_type": "execute_result",
          "data": {
            "text/plain": [
              "a    6.0\n",
              "b    8.0\n",
              "c    7.0\n",
              "d    7.0\n",
              "e    9.0\n",
              "dtype: float64"
            ]
          },
          "metadata": {
            "tags": []
          },
          "execution_count": 12
        }
      ]
    },
    {
      "cell_type": "code",
      "metadata": {
        "execution": {
          "iopub.status.busy": "2021-08-08T20:00:14.874138Z",
          "iopub.execute_input": "2021-08-08T20:00:14.874612Z",
          "iopub.status.idle": "2021-08-08T20:00:14.880562Z",
          "shell.execute_reply.started": "2021-08-08T20:00:14.874582Z",
          "shell.execute_reply": "2021-08-08T20:00:14.879525Z"
        },
        "trusted": true,
        "id": "No08oz_NWpmk"
      },
      "source": [
        "s1 = pd.Series(d1)\n",
        "s2 = pd.Series([1,2,3,4])"
      ],
      "execution_count": 13,
      "outputs": []
    },
    {
      "cell_type": "code",
      "metadata": {
        "execution": {
          "iopub.status.busy": "2021-08-08T20:00:14.881804Z",
          "iopub.execute_input": "2021-08-08T20:00:14.882347Z",
          "iopub.status.idle": "2021-08-08T20:00:14.897368Z",
          "shell.execute_reply.started": "2021-08-08T20:00:14.882316Z",
          "shell.execute_reply": "2021-08-08T20:00:14.896369Z"
        },
        "trusted": true,
        "id": "NTyRh78tWpmk",
        "outputId": "a66a34fe-1dc8-48da-db3b-e58313e781a1",
        "colab": {
          "base_uri": "https://localhost:8080/"
        }
      },
      "source": [
        "s1 + s2"
      ],
      "execution_count": 14,
      "outputs": [
        {
          "output_type": "execute_result",
          "data": {
            "text/plain": [
              "a   NaN\n",
              "b   NaN\n",
              "c   NaN\n",
              "e   NaN\n",
              "0   NaN\n",
              "1   NaN\n",
              "2   NaN\n",
              "3   NaN\n",
              "dtype: float64"
            ]
          },
          "metadata": {
            "tags": []
          },
          "execution_count": 14
        }
      ]
    },
    {
      "cell_type": "markdown",
      "metadata": {
        "id": "oihsxH4EWpml"
      },
      "source": [
        "2. **Pandas DataFrame**\n",
        "\n",
        "Its a heterogeneous two dimensional objects, which stores data in rows and columns\n"
      ]
    },
    {
      "cell_type": "code",
      "metadata": {
        "execution": {
          "iopub.status.busy": "2021-08-08T20:00:14.899823Z",
          "iopub.execute_input": "2021-08-08T20:00:14.900375Z",
          "iopub.status.idle": "2021-08-08T20:00:14.909891Z",
          "shell.execute_reply.started": "2021-08-08T20:00:14.900343Z",
          "shell.execute_reply": "2021-08-08T20:00:14.908873Z"
        },
        "trusted": true,
        "id": "J6eoB3IbWpml",
        "outputId": "d47a2f64-48a6-4b92-8f47-beca0422eda5",
        "colab": {
          "base_uri": "https://localhost:8080/"
        }
      },
      "source": [
        "#lets create an empty dataframe\n",
        "df = pd.DataFrame()\n",
        "print(df, type(df))"
      ],
      "execution_count": 15,
      "outputs": [
        {
          "output_type": "stream",
          "text": [
            "Empty DataFrame\n",
            "Columns: []\n",
            "Index: [] <class 'pandas.core.frame.DataFrame'>\n"
          ],
          "name": "stdout"
        }
      ]
    },
    {
      "cell_type": "code",
      "metadata": {
        "execution": {
          "iopub.status.busy": "2021-08-08T20:00:14.912076Z",
          "iopub.execute_input": "2021-08-08T20:00:14.912672Z",
          "iopub.status.idle": "2021-08-08T20:00:14.926300Z",
          "shell.execute_reply.started": "2021-08-08T20:00:14.912625Z",
          "shell.execute_reply": "2021-08-08T20:00:14.925223Z"
        },
        "trusted": true,
        "id": "WQQa3rpRWpml",
        "outputId": "23b701af-c15f-4517-e7a3-42c6579cf2e3",
        "colab": {
          "base_uri": "https://localhost:8080/"
        }
      },
      "source": [
        "s = pd.DataFrame(columns=['A','B','C','D','E'],index=range(1,6))\n",
        "print(s)"
      ],
      "execution_count": 16,
      "outputs": [
        {
          "output_type": "stream",
          "text": [
            "     A    B    C    D    E\n",
            "1  NaN  NaN  NaN  NaN  NaN\n",
            "2  NaN  NaN  NaN  NaN  NaN\n",
            "3  NaN  NaN  NaN  NaN  NaN\n",
            "4  NaN  NaN  NaN  NaN  NaN\n",
            "5  NaN  NaN  NaN  NaN  NaN\n"
          ],
          "name": "stdout"
        }
      ]
    },
    {
      "cell_type": "code",
      "metadata": {
        "execution": {
          "iopub.status.busy": "2021-08-08T20:00:14.927779Z",
          "iopub.execute_input": "2021-08-08T20:00:14.928158Z",
          "iopub.status.idle": "2021-08-08T20:00:14.936289Z",
          "shell.execute_reply.started": "2021-08-08T20:00:14.928125Z",
          "shell.execute_reply": "2021-08-08T20:00:14.935455Z"
        },
        "trusted": true,
        "id": "28QOtVOBWpml"
      },
      "source": [
        "#lets create dataframe with data\n",
        "data = {\n",
        "    'apples': [3,2,0,1],\n",
        "    'oranges': [0,3,7,2]\n",
        "}"
      ],
      "execution_count": 17,
      "outputs": []
    },
    {
      "cell_type": "code",
      "metadata": {
        "execution": {
          "iopub.status.busy": "2021-08-08T20:00:14.937525Z",
          "iopub.execute_input": "2021-08-08T20:00:14.937883Z",
          "iopub.status.idle": "2021-08-08T20:00:14.951708Z",
          "shell.execute_reply.started": "2021-08-08T20:00:14.937839Z",
          "shell.execute_reply": "2021-08-08T20:00:14.950270Z"
        },
        "trusted": true,
        "id": "zPByakeGWpmm",
        "outputId": "c08881e5-580a-4fd8-af77-16f8bae03c5e",
        "colab": {
          "base_uri": "https://localhost:8080/"
        }
      },
      "source": [
        "purchase = pd.DataFrame(data)\n",
        "print(purchase)"
      ],
      "execution_count": 18,
      "outputs": [
        {
          "output_type": "stream",
          "text": [
            "   apples  oranges\n",
            "0       3        0\n",
            "1       2        3\n",
            "2       0        7\n",
            "3       1        2\n"
          ],
          "name": "stdout"
        }
      ]
    },
    {
      "cell_type": "code",
      "metadata": {
        "execution": {
          "iopub.status.busy": "2021-08-08T20:00:14.953616Z",
          "iopub.execute_input": "2021-08-08T20:00:14.954176Z",
          "iopub.status.idle": "2021-08-08T20:00:14.963327Z",
          "shell.execute_reply.started": "2021-08-08T20:00:14.954120Z",
          "shell.execute_reply": "2021-08-08T20:00:14.962291Z"
        },
        "trusted": true,
        "id": "3tAhM5TbWpmm",
        "outputId": "8a8d8c24-e422-45e2-b362-adf5c1e5c807",
        "colab": {
          "base_uri": "https://localhost:8080/"
        }
      },
      "source": [
        "#lets change the index value of the dataFrame\n",
        "pur = pd.DataFrame(data, index=['June','Robert','Lily','David'])\n",
        "print(pur)"
      ],
      "execution_count": 19,
      "outputs": [
        {
          "output_type": "stream",
          "text": [
            "        apples  oranges\n",
            "June         3        0\n",
            "Robert       2        3\n",
            "Lily         0        7\n",
            "David        1        2\n"
          ],
          "name": "stdout"
        }
      ]
    },
    {
      "cell_type": "code",
      "metadata": {
        "execution": {
          "iopub.status.busy": "2021-08-08T20:00:14.964668Z",
          "iopub.execute_input": "2021-08-08T20:00:14.964942Z",
          "iopub.status.idle": "2021-08-08T20:00:14.970858Z",
          "shell.execute_reply.started": "2021-08-08T20:00:14.964916Z",
          "shell.execute_reply": "2021-08-08T20:00:14.970050Z"
        },
        "trusted": true,
        "id": "-eFq45PZWpmm"
      },
      "source": [
        "#lets create dataframe using datetime as index\n",
        "arr = {\n",
        "    'A':range(1,5),\n",
        "    'B':range(5,9)\n",
        "}\n",
        "\n",
        "index = pd.DatetimeIndex(['2021-07-01','2021-07-02','2021-07-03','2021-07-04'])"
      ],
      "execution_count": 20,
      "outputs": []
    },
    {
      "cell_type": "code",
      "metadata": {
        "execution": {
          "iopub.status.busy": "2021-08-08T20:00:14.971810Z",
          "iopub.execute_input": "2021-08-08T20:00:14.972091Z",
          "iopub.status.idle": "2021-08-08T20:00:14.988055Z",
          "shell.execute_reply.started": "2021-08-08T20:00:14.972064Z",
          "shell.execute_reply": "2021-08-08T20:00:14.987016Z"
        },
        "trusted": true,
        "id": "4c9P1Ig7Wpmn",
        "outputId": "cb555561-e609-4164-e0ef-6eee777de0ee",
        "colab": {
          "base_uri": "https://localhost:8080/",
          "height": 172
        }
      },
      "source": [
        "pd.DataFrame(arr, index=index)"
      ],
      "execution_count": 21,
      "outputs": [
        {
          "output_type": "execute_result",
          "data": {
            "text/html": [
              "<div>\n",
              "<style scoped>\n",
              "    .dataframe tbody tr th:only-of-type {\n",
              "        vertical-align: middle;\n",
              "    }\n",
              "\n",
              "    .dataframe tbody tr th {\n",
              "        vertical-align: top;\n",
              "    }\n",
              "\n",
              "    .dataframe thead th {\n",
              "        text-align: right;\n",
              "    }\n",
              "</style>\n",
              "<table border=\"1\" class=\"dataframe\">\n",
              "  <thead>\n",
              "    <tr style=\"text-align: right;\">\n",
              "      <th></th>\n",
              "      <th>A</th>\n",
              "      <th>B</th>\n",
              "    </tr>\n",
              "  </thead>\n",
              "  <tbody>\n",
              "    <tr>\n",
              "      <th>2021-07-01</th>\n",
              "      <td>1</td>\n",
              "      <td>5</td>\n",
              "    </tr>\n",
              "    <tr>\n",
              "      <th>2021-07-02</th>\n",
              "      <td>2</td>\n",
              "      <td>6</td>\n",
              "    </tr>\n",
              "    <tr>\n",
              "      <th>2021-07-03</th>\n",
              "      <td>3</td>\n",
              "      <td>7</td>\n",
              "    </tr>\n",
              "    <tr>\n",
              "      <th>2021-07-04</th>\n",
              "      <td>4</td>\n",
              "      <td>8</td>\n",
              "    </tr>\n",
              "  </tbody>\n",
              "</table>\n",
              "</div>"
            ],
            "text/plain": [
              "            A  B\n",
              "2021-07-01  1  5\n",
              "2021-07-02  2  6\n",
              "2021-07-03  3  7\n",
              "2021-07-04  4  8"
            ]
          },
          "metadata": {
            "tags": []
          },
          "execution_count": 21
        }
      ]
    },
    {
      "cell_type": "code",
      "metadata": {
        "execution": {
          "iopub.status.busy": "2021-08-08T20:00:14.989344Z",
          "iopub.execute_input": "2021-08-08T20:00:14.989896Z",
          "iopub.status.idle": "2021-08-08T20:00:14.997475Z",
          "shell.execute_reply.started": "2021-08-08T20:00:14.989850Z",
          "shell.execute_reply": "2021-08-08T20:00:14.996320Z"
        },
        "trusted": true,
        "id": "sCXmTk9kWpmn"
      },
      "source": [
        "#task: create a dataframe of random numbers with 10 rows and columns as A,B,C,D\n",
        "ar = {\n",
        "  'A':np.random.randn(10),\n",
        "  'B':np.random.randn(10),\n",
        "  'C':np.random.randn(10),\n",
        "  'D':np.random.randn(10),\n",
        "  'E':np.random.randn(10)\n",
        "}\n",
        "a = pd.DataFrame(ar)"
      ],
      "execution_count": 22,
      "outputs": []
    },
    {
      "cell_type": "code",
      "metadata": {
        "execution": {
          "iopub.status.busy": "2021-08-08T20:00:14.998977Z",
          "iopub.execute_input": "2021-08-08T20:00:14.999336Z",
          "iopub.status.idle": "2021-08-08T20:00:15.019124Z",
          "shell.execute_reply.started": "2021-08-08T20:00:14.999305Z",
          "shell.execute_reply": "2021-08-08T20:00:15.017373Z"
        },
        "trusted": true,
        "id": "S_l8-kdYWpmn",
        "outputId": "f425985b-9a33-4629-a88f-c81e741f98d0",
        "colab": {
          "base_uri": "https://localhost:8080/",
          "height": 357
        }
      },
      "source": [
        "a"
      ],
      "execution_count": 23,
      "outputs": [
        {
          "output_type": "execute_result",
          "data": {
            "text/html": [
              "<div>\n",
              "<style scoped>\n",
              "    .dataframe tbody tr th:only-of-type {\n",
              "        vertical-align: middle;\n",
              "    }\n",
              "\n",
              "    .dataframe tbody tr th {\n",
              "        vertical-align: top;\n",
              "    }\n",
              "\n",
              "    .dataframe thead th {\n",
              "        text-align: right;\n",
              "    }\n",
              "</style>\n",
              "<table border=\"1\" class=\"dataframe\">\n",
              "  <thead>\n",
              "    <tr style=\"text-align: right;\">\n",
              "      <th></th>\n",
              "      <th>A</th>\n",
              "      <th>B</th>\n",
              "      <th>C</th>\n",
              "      <th>D</th>\n",
              "      <th>E</th>\n",
              "    </tr>\n",
              "  </thead>\n",
              "  <tbody>\n",
              "    <tr>\n",
              "      <th>0</th>\n",
              "      <td>0.287085</td>\n",
              "      <td>-0.305703</td>\n",
              "      <td>0.611406</td>\n",
              "      <td>-0.380957</td>\n",
              "      <td>1.730196</td>\n",
              "    </tr>\n",
              "    <tr>\n",
              "      <th>1</th>\n",
              "      <td>-0.089514</td>\n",
              "      <td>-3.419702</td>\n",
              "      <td>-1.334361</td>\n",
              "      <td>-0.354299</td>\n",
              "      <td>0.292231</td>\n",
              "    </tr>\n",
              "    <tr>\n",
              "      <th>2</th>\n",
              "      <td>-0.682759</td>\n",
              "      <td>-1.353177</td>\n",
              "      <td>0.512281</td>\n",
              "      <td>1.633819</td>\n",
              "      <td>1.116159</td>\n",
              "    </tr>\n",
              "    <tr>\n",
              "      <th>3</th>\n",
              "      <td>0.057895</td>\n",
              "      <td>0.147626</td>\n",
              "      <td>-2.140785</td>\n",
              "      <td>-0.027747</td>\n",
              "      <td>0.962122</td>\n",
              "    </tr>\n",
              "    <tr>\n",
              "      <th>4</th>\n",
              "      <td>-0.480969</td>\n",
              "      <td>0.579645</td>\n",
              "      <td>0.523875</td>\n",
              "      <td>-1.616779</td>\n",
              "      <td>0.494682</td>\n",
              "    </tr>\n",
              "    <tr>\n",
              "      <th>5</th>\n",
              "      <td>-1.916186</td>\n",
              "      <td>0.738329</td>\n",
              "      <td>-0.822893</td>\n",
              "      <td>0.445880</td>\n",
              "      <td>-2.007711</td>\n",
              "    </tr>\n",
              "    <tr>\n",
              "      <th>6</th>\n",
              "      <td>-0.343166</td>\n",
              "      <td>-0.578479</td>\n",
              "      <td>-0.747680</td>\n",
              "      <td>-0.794152</td>\n",
              "      <td>0.848341</td>\n",
              "    </tr>\n",
              "    <tr>\n",
              "      <th>7</th>\n",
              "      <td>0.763018</td>\n",
              "      <td>-0.253584</td>\n",
              "      <td>0.311053</td>\n",
              "      <td>0.165024</td>\n",
              "      <td>-0.260041</td>\n",
              "    </tr>\n",
              "    <tr>\n",
              "      <th>8</th>\n",
              "      <td>0.515413</td>\n",
              "      <td>0.271429</td>\n",
              "      <td>-0.345750</td>\n",
              "      <td>-0.622633</td>\n",
              "      <td>-0.026719</td>\n",
              "    </tr>\n",
              "    <tr>\n",
              "      <th>9</th>\n",
              "      <td>0.322107</td>\n",
              "      <td>1.254864</td>\n",
              "      <td>-0.063501</td>\n",
              "      <td>-0.173334</td>\n",
              "      <td>0.451905</td>\n",
              "    </tr>\n",
              "  </tbody>\n",
              "</table>\n",
              "</div>"
            ],
            "text/plain": [
              "          A         B         C         D         E\n",
              "0  0.287085 -0.305703  0.611406 -0.380957  1.730196\n",
              "1 -0.089514 -3.419702 -1.334361 -0.354299  0.292231\n",
              "2 -0.682759 -1.353177  0.512281  1.633819  1.116159\n",
              "3  0.057895  0.147626 -2.140785 -0.027747  0.962122\n",
              "4 -0.480969  0.579645  0.523875 -1.616779  0.494682\n",
              "5 -1.916186  0.738329 -0.822893  0.445880 -2.007711\n",
              "6 -0.343166 -0.578479 -0.747680 -0.794152  0.848341\n",
              "7  0.763018 -0.253584  0.311053  0.165024 -0.260041\n",
              "8  0.515413  0.271429 -0.345750 -0.622633 -0.026719\n",
              "9  0.322107  1.254864 -0.063501 -0.173334  0.451905"
            ]
          },
          "metadata": {
            "tags": []
          },
          "execution_count": 23
        }
      ]
    }
  ]
}