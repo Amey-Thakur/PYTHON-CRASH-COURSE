{
  "nbformat": 4,
  "nbformat_minor": 0,
  "metadata": {
    "kernelspec": {
      "language": "python",
      "display_name": "Python 3",
      "name": "python3"
    },
    "language_info": {
      "name": "python",
      "version": "3.7.10",
      "mimetype": "text/x-python",
      "codemirror_mode": {
        "name": "ipython",
        "version": 3
      },
      "pygments_lexer": "ipython3",
      "nbconvert_exporter": "python",
      "file_extension": ".py"
    },
    "colab": {
      "name": "PYTHON-CRASH-COURSE-DAY-6.ipynb",
      "provenance": [],
      "include_colab_link": true
    }
  },
  "cells": [
    {
      "cell_type": "markdown",
      "metadata": {
        "id": "view-in-github",
        "colab_type": "text"
      },
      "source": [
        "<a href=\"https://colab.research.google.com/github/Amey-Thakur/PYTHON-CRASH-COURSE/blob/main/PYTHON_CRASH_COURSE_DAY_6.ipynb\" target=\"_parent\"><img src=\"https://colab.research.google.com/assets/colab-badge.svg\" alt=\"Open In Colab\"/></a>"
      ]
    },
    {
      "cell_type": "markdown",
      "metadata": {
        "id": "Y5WjsPoOQ7DJ"
      },
      "source": [
        "# **Day 6**\n",
        "\n",
        "**Pandas**\n",
        "\n",
        "A python library to deal with sequential and tabular data.\n",
        "\n",
        "\n",
        "It has two type of data structures:\n",
        "\n",
        "1. **Series**  It is one dimensional labelled array capable of holding data of type(int, string, float, objects).\n",
        "\n",
        "The axis labels are collectively called as index. Python Series is nothing but a column in excel sheet."
      ]
    },
    {
      "cell_type": "code",
      "metadata": {
        "execution": {
          "iopub.status.busy": "2021-08-08T19:34:33.616446Z",
          "iopub.execute_input": "2021-08-08T19:34:33.617096Z",
          "iopub.status.idle": "2021-08-08T19:34:33.629183Z",
          "shell.execute_reply.started": "2021-08-08T19:34:33.616966Z",
          "shell.execute_reply": "2021-08-08T19:34:33.627907Z"
        },
        "trusted": true,
        "id": "mgSBN_pVQ7DK"
      },
      "source": [
        "#lets create pandas series\n",
        "#import the libraries\n",
        "import pandas as pd\n",
        "import numpy as np"
      ],
      "execution_count": 1,
      "outputs": []
    },
    {
      "cell_type": "code",
      "metadata": {
        "execution": {
          "iopub.status.busy": "2021-08-08T19:34:33.630675Z",
          "iopub.execute_input": "2021-08-08T19:34:33.631037Z",
          "iopub.status.idle": "2021-08-08T19:34:33.647476Z",
          "shell.execute_reply.started": "2021-08-08T19:34:33.631005Z",
          "shell.execute_reply": "2021-08-08T19:34:33.646228Z"
        },
        "trusted": true,
        "colab": {
          "base_uri": "https://localhost:8080/"
        },
        "id": "BpEro27CQ7DL",
        "outputId": "913482ff-5d66-47b8-b6c6-a6382d9a94de"
      },
      "source": [
        "ser = pd.Series(dtype=object)\n",
        "print(ser, type(ser))"
      ],
      "execution_count": 2,
      "outputs": [
        {
          "output_type": "stream",
          "text": [
            "Series([], dtype: object) <class 'pandas.core.series.Series'>\n"
          ],
          "name": "stdout"
        }
      ]
    },
    {
      "cell_type": "code",
      "metadata": {
        "execution": {
          "iopub.status.busy": "2021-08-08T19:34:33.649298Z",
          "iopub.execute_input": "2021-08-08T19:34:33.649627Z",
          "iopub.status.idle": "2021-08-08T19:34:33.755562Z",
          "shell.execute_reply.started": "2021-08-08T19:34:33.649597Z",
          "shell.execute_reply": "2021-08-08T19:34:33.754338Z"
        },
        "trusted": true,
        "colab": {
          "base_uri": "https://localhost:8080/"
        },
        "id": "MVqk3q3WQ7DM",
        "outputId": "f6feee9e-81dd-4c73-a95c-1c8ccf06e0cb"
      },
      "source": [
        "#lets create a series from an array\n",
        "data = np.array(['m','a','c','i','n','e'])\n",
        "pd.Series(data)"
      ],
      "execution_count": 3,
      "outputs": [
        {
          "output_type": "execute_result",
          "data": {
            "text/plain": [
              "0    m\n",
              "1    a\n",
              "2    c\n",
              "3    i\n",
              "4    n\n",
              "5    e\n",
              "dtype: object"
            ]
          },
          "metadata": {
            "tags": []
          },
          "execution_count": 3
        }
      ]
    },
    {
      "cell_type": "code",
      "metadata": {
        "execution": {
          "iopub.status.busy": "2021-08-08T19:34:33.757117Z",
          "iopub.execute_input": "2021-08-08T19:34:33.757610Z",
          "iopub.status.idle": "2021-08-08T19:34:33.768927Z",
          "shell.execute_reply.started": "2021-08-08T19:34:33.757579Z",
          "shell.execute_reply": "2021-08-08T19:34:33.768165Z"
        },
        "trusted": true,
        "colab": {
          "base_uri": "https://localhost:8080/"
        },
        "id": "uIP-xbzIQ7DN",
        "outputId": "4542ef5c-f022-4e75-8b41-1af570368fac"
      },
      "source": [
        "#lets create a series with list\n",
        "lst = ['Python',3.9, 7*9, 8/4, 5>7]\n",
        "pd.Series(lst)"
      ],
      "execution_count": 4,
      "outputs": [
        {
          "output_type": "execute_result",
          "data": {
            "text/plain": [
              "0    Python\n",
              "1       3.9\n",
              "2        63\n",
              "3         2\n",
              "4     False\n",
              "dtype: object"
            ]
          },
          "metadata": {
            "tags": []
          },
          "execution_count": 4
        }
      ]
    },
    {
      "cell_type": "code",
      "metadata": {
        "execution": {
          "iopub.status.busy": "2021-08-08T19:34:33.769973Z",
          "iopub.execute_input": "2021-08-08T19:34:33.770460Z",
          "iopub.status.idle": "2021-08-08T19:34:33.782718Z",
          "shell.execute_reply.started": "2021-08-08T19:34:33.770416Z",
          "shell.execute_reply": "2021-08-08T19:34:33.781626Z"
        },
        "trusted": true,
        "colab": {
          "base_uri": "https://localhost:8080/"
        },
        "id": "CboMeOE1Q7DN",
        "outputId": "547920b0-4809-4a02-8abc-208b77a9cd9e"
      },
      "source": [
        "#lets create series from dictionary\n",
        "dc = {'a':1, 'b':2, 'c':3}\n",
        "ds = pd.Series(dc)\n",
        "print(ds)"
      ],
      "execution_count": 5,
      "outputs": [
        {
          "output_type": "stream",
          "text": [
            "a    1\n",
            "b    2\n",
            "c    3\n",
            "dtype: int64\n"
          ],
          "name": "stdout"
        }
      ]
    },
    {
      "cell_type": "code",
      "metadata": {
        "execution": {
          "iopub.status.busy": "2021-08-08T19:34:33.784158Z",
          "iopub.execute_input": "2021-08-08T19:34:33.784705Z",
          "iopub.status.idle": "2021-08-08T19:34:33.797464Z",
          "shell.execute_reply.started": "2021-08-08T19:34:33.784662Z",
          "shell.execute_reply": "2021-08-08T19:34:33.796455Z"
        },
        "trusted": true,
        "colab": {
          "base_uri": "https://localhost:8080/"
        },
        "id": "Bf7icST0Q7DO",
        "outputId": "ad609e93-2e89-49a4-c205-4d517a77e715"
      },
      "source": [
        "#lets create series using random numbers\n",
        "n = pd.Series(np.random.randn(5))\n",
        "print(n)"
      ],
      "execution_count": 6,
      "outputs": [
        {
          "output_type": "stream",
          "text": [
            "0    0.302567\n",
            "1   -0.428212\n",
            "2    1.352207\n",
            "3   -1.106298\n",
            "4    0.637708\n",
            "dtype: float64\n"
          ],
          "name": "stdout"
        }
      ]
    },
    {
      "cell_type": "code",
      "metadata": {
        "execution": {
          "iopub.status.busy": "2021-08-08T19:34:33.798495Z",
          "iopub.execute_input": "2021-08-08T19:34:33.798765Z",
          "iopub.status.idle": "2021-08-08T19:34:33.809651Z",
          "shell.execute_reply.started": "2021-08-08T19:34:33.798739Z",
          "shell.execute_reply": "2021-08-08T19:34:33.808261Z"
        },
        "trusted": true,
        "id": "to1eG47-Q7DO"
      },
      "source": [
        "#Accessing the elements in Series\n",
        "#via position\n",
        "#via index\n",
        "\n",
        "\n",
        "#via Position\n",
        "s = pd.Series(data)"
      ],
      "execution_count": 7,
      "outputs": []
    },
    {
      "cell_type": "code",
      "metadata": {
        "execution": {
          "iopub.status.busy": "2021-08-08T19:34:33.813693Z",
          "iopub.execute_input": "2021-08-08T19:34:33.814073Z",
          "iopub.status.idle": "2021-08-08T19:34:33.823272Z",
          "shell.execute_reply.started": "2021-08-08T19:34:33.814042Z",
          "shell.execute_reply": "2021-08-08T19:34:33.822592Z"
        },
        "trusted": true,
        "colab": {
          "base_uri": "https://localhost:8080/"
        },
        "id": "FNjM9kUbQ7DO",
        "outputId": "e7885a02-25c9-464b-b12f-3ceb4aafe1c6"
      },
      "source": [
        "print(s[:5])"
      ],
      "execution_count": 8,
      "outputs": [
        {
          "output_type": "stream",
          "text": [
            "0    m\n",
            "1    a\n",
            "2    c\n",
            "3    i\n",
            "4    n\n",
            "dtype: object\n"
          ],
          "name": "stdout"
        }
      ]
    },
    {
      "cell_type": "code",
      "metadata": {
        "execution": {
          "iopub.status.busy": "2021-08-08T19:34:33.825247Z",
          "iopub.execute_input": "2021-08-08T19:34:33.825535Z",
          "iopub.status.idle": "2021-08-08T19:34:33.832483Z",
          "shell.execute_reply.started": "2021-08-08T19:34:33.825502Z",
          "shell.execute_reply": "2021-08-08T19:34:33.831578Z"
        },
        "trusted": true,
        "colab": {
          "base_uri": "https://localhost:8080/"
        },
        "id": "9jEfA9ONQ7DP",
        "outputId": "96d2a664-55f7-4515-dd0c-06667e52e04e"
      },
      "source": [
        "#via index\n",
        "print(s[5])"
      ],
      "execution_count": 9,
      "outputs": [
        {
          "output_type": "stream",
          "text": [
            "e\n"
          ],
          "name": "stdout"
        }
      ]
    },
    {
      "cell_type": "code",
      "metadata": {
        "execution": {
          "iopub.status.busy": "2021-08-08T19:34:33.833676Z",
          "iopub.execute_input": "2021-08-08T19:34:33.833960Z",
          "iopub.status.idle": "2021-08-08T19:34:33.849599Z",
          "shell.execute_reply.started": "2021-08-08T19:34:33.833932Z",
          "shell.execute_reply": "2021-08-08T19:34:33.848335Z"
        },
        "trusted": true,
        "colab": {
          "base_uri": "https://localhost:8080/"
        },
        "id": "VGfxvJWFQ7DP",
        "outputId": "29b230bf-2e1e-4a75-aed5-f552857ab4a3"
      },
      "source": [
        "#lets explicitly sepcify the index\n",
        "ser = pd.Series(data, index=range(10,16))\n",
        "ser"
      ],
      "execution_count": 10,
      "outputs": [
        {
          "output_type": "execute_result",
          "data": {
            "text/plain": [
              "10    m\n",
              "11    a\n",
              "12    c\n",
              "13    i\n",
              "14    n\n",
              "15    e\n",
              "dtype: object"
            ]
          },
          "metadata": {
            "tags": []
          },
          "execution_count": 10
        }
      ]
    },
    {
      "cell_type": "code",
      "metadata": {
        "execution": {
          "iopub.status.busy": "2021-08-08T19:34:33.851084Z",
          "iopub.execute_input": "2021-08-08T19:34:33.851374Z",
          "iopub.status.idle": "2021-08-08T19:34:33.862419Z",
          "shell.execute_reply.started": "2021-08-08T19:34:33.851346Z",
          "shell.execute_reply": "2021-08-08T19:34:33.861422Z"
        },
        "trusted": true,
        "colab": {
          "base_uri": "https://localhost:8080/"
        },
        "id": "dyddOG_aQ7DQ",
        "outputId": "b57da02d-9b30-4d9b-bd5c-fef8daad6eac"
      },
      "source": [
        "#lets perform arithmetic operations on series\n",
        "d = pd.Series([5,2,3,7], index=['a','b','c','d'])\n",
        "d1 = pd.Series({'a':1, 'b':6, 'c':4, 'e':9})\n",
        "\n",
        "print(d, \"\\n\\n\", d1)"
      ],
      "execution_count": 11,
      "outputs": [
        {
          "output_type": "stream",
          "text": [
            "a    5\n",
            "b    2\n",
            "c    3\n",
            "d    7\n",
            "dtype: int64 \n",
            "\n",
            " a    1\n",
            "b    6\n",
            "c    4\n",
            "e    9\n",
            "dtype: int64\n"
          ],
          "name": "stdout"
        }
      ]
    },
    {
      "cell_type": "code",
      "metadata": {
        "execution": {
          "iopub.status.busy": "2021-08-08T19:34:33.865803Z",
          "iopub.execute_input": "2021-08-08T19:34:33.866119Z",
          "iopub.status.idle": "2021-08-08T19:34:33.878012Z",
          "shell.execute_reply.started": "2021-08-08T19:34:33.866089Z",
          "shell.execute_reply": "2021-08-08T19:34:33.877073Z"
        },
        "trusted": true,
        "colab": {
          "base_uri": "https://localhost:8080/"
        },
        "id": "q0f6S8yTQ7DR",
        "outputId": "ea626a7c-4517-4c0a-a153-70fd04d1430d"
      },
      "source": [
        "#lets perform addition\n",
        "d.add(d1,fill_value=0)"
      ],
      "execution_count": 12,
      "outputs": [
        {
          "output_type": "execute_result",
          "data": {
            "text/plain": [
              "a    6.0\n",
              "b    8.0\n",
              "c    7.0\n",
              "d    7.0\n",
              "e    9.0\n",
              "dtype: float64"
            ]
          },
          "metadata": {
            "tags": []
          },
          "execution_count": 12
        }
      ]
    },
    {
      "cell_type": "code",
      "metadata": {
        "execution": {
          "iopub.status.busy": "2021-08-08T19:34:33.880064Z",
          "iopub.execute_input": "2021-08-08T19:34:33.880479Z",
          "iopub.status.idle": "2021-08-08T19:34:33.891103Z",
          "shell.execute_reply.started": "2021-08-08T19:34:33.880436Z",
          "shell.execute_reply": "2021-08-08T19:34:33.890111Z"
        },
        "trusted": true,
        "id": "EaRCvNvYQ7DR"
      },
      "source": [
        "s1 = pd.Series(d1)\n",
        "s2 = pd.Series([1,2,3,4])"
      ],
      "execution_count": 13,
      "outputs": []
    },
    {
      "cell_type": "code",
      "metadata": {
        "execution": {
          "iopub.status.busy": "2021-08-08T19:34:33.892579Z",
          "iopub.execute_input": "2021-08-08T19:34:33.893195Z",
          "iopub.status.idle": "2021-08-08T19:34:33.914625Z",
          "shell.execute_reply.started": "2021-08-08T19:34:33.893163Z",
          "shell.execute_reply": "2021-08-08T19:34:33.913481Z"
        },
        "trusted": true,
        "colab": {
          "base_uri": "https://localhost:8080/"
        },
        "id": "1a0-99RbQ7DS",
        "outputId": "abcb499d-3928-4d96-9343-d37ed1e620ef"
      },
      "source": [
        "s1 + s2"
      ],
      "execution_count": 14,
      "outputs": [
        {
          "output_type": "execute_result",
          "data": {
            "text/plain": [
              "a   NaN\n",
              "b   NaN\n",
              "c   NaN\n",
              "e   NaN\n",
              "0   NaN\n",
              "1   NaN\n",
              "2   NaN\n",
              "3   NaN\n",
              "dtype: float64"
            ]
          },
          "metadata": {
            "tags": []
          },
          "execution_count": 14
        }
      ]
    },
    {
      "cell_type": "markdown",
      "metadata": {
        "id": "1UFla4BeQ7DS"
      },
      "source": [
        "2. **Pandas DataFrame**\n",
        "\n",
        "Its a heterogeneous two dimensional objects, which stores data in rows and columns\n"
      ]
    },
    {
      "cell_type": "code",
      "metadata": {
        "execution": {
          "iopub.status.busy": "2021-08-08T19:34:33.915999Z",
          "iopub.execute_input": "2021-08-08T19:34:33.916299Z",
          "iopub.status.idle": "2021-08-08T19:34:33.923728Z",
          "shell.execute_reply.started": "2021-08-08T19:34:33.916270Z",
          "shell.execute_reply": "2021-08-08T19:34:33.922859Z"
        },
        "trusted": true,
        "colab": {
          "base_uri": "https://localhost:8080/"
        },
        "id": "ZAEcIfybQ7DT",
        "outputId": "0c791d4c-fa2d-410d-e50f-ae1311408005"
      },
      "source": [
        "#lets create an empty dataframe\n",
        "df = pd.DataFrame()\n",
        "print(df, type(df))"
      ],
      "execution_count": 15,
      "outputs": [
        {
          "output_type": "stream",
          "text": [
            "Empty DataFrame\n",
            "Columns: []\n",
            "Index: [] <class 'pandas.core.frame.DataFrame'>\n"
          ],
          "name": "stdout"
        }
      ]
    },
    {
      "cell_type": "code",
      "metadata": {
        "execution": {
          "iopub.status.busy": "2021-08-08T19:34:33.925061Z",
          "iopub.execute_input": "2021-08-08T19:34:33.925596Z",
          "iopub.status.idle": "2021-08-08T19:34:33.943237Z",
          "shell.execute_reply.started": "2021-08-08T19:34:33.925562Z",
          "shell.execute_reply": "2021-08-08T19:34:33.942109Z"
        },
        "trusted": true,
        "colab": {
          "base_uri": "https://localhost:8080/"
        },
        "id": "NzBBKVirQ7DT",
        "outputId": "cf099110-a084-42fa-f6ef-52666490083c"
      },
      "source": [
        "s = pd.DataFrame(columns=['A','B','C','D','E'],index=range(1,6))\n",
        "print(s)"
      ],
      "execution_count": 16,
      "outputs": [
        {
          "output_type": "stream",
          "text": [
            "     A    B    C    D    E\n",
            "1  NaN  NaN  NaN  NaN  NaN\n",
            "2  NaN  NaN  NaN  NaN  NaN\n",
            "3  NaN  NaN  NaN  NaN  NaN\n",
            "4  NaN  NaN  NaN  NaN  NaN\n",
            "5  NaN  NaN  NaN  NaN  NaN\n"
          ],
          "name": "stdout"
        }
      ]
    },
    {
      "cell_type": "code",
      "metadata": {
        "execution": {
          "iopub.status.busy": "2021-08-08T19:34:33.944392Z",
          "iopub.execute_input": "2021-08-08T19:34:33.944705Z",
          "iopub.status.idle": "2021-08-08T19:34:33.950298Z",
          "shell.execute_reply.started": "2021-08-08T19:34:33.944678Z",
          "shell.execute_reply": "2021-08-08T19:34:33.949099Z"
        },
        "trusted": true,
        "id": "ES0cAHCNQ7DT"
      },
      "source": [
        "#lets create dataframe with data\n",
        "data = {\n",
        "    'apples': [3,2,0,1],\n",
        "    'oranges': [0,3,7,2]\n",
        "}"
      ],
      "execution_count": 17,
      "outputs": []
    },
    {
      "cell_type": "code",
      "metadata": {
        "execution": {
          "iopub.status.busy": "2021-08-08T19:34:33.952281Z",
          "iopub.execute_input": "2021-08-08T19:34:33.952763Z",
          "iopub.status.idle": "2021-08-08T19:34:33.966488Z",
          "shell.execute_reply.started": "2021-08-08T19:34:33.952719Z",
          "shell.execute_reply": "2021-08-08T19:34:33.965525Z"
        },
        "trusted": true,
        "colab": {
          "base_uri": "https://localhost:8080/"
        },
        "id": "LYwZgimsQ7DU",
        "outputId": "1111bc00-77b3-4333-952d-ce26452a41ca"
      },
      "source": [
        "purchase = pd.DataFrame(data)\n",
        "print(purchase)"
      ],
      "execution_count": 18,
      "outputs": [
        {
          "output_type": "stream",
          "text": [
            "   apples  oranges\n",
            "0       3        0\n",
            "1       2        3\n",
            "2       0        7\n",
            "3       1        2\n"
          ],
          "name": "stdout"
        }
      ]
    },
    {
      "cell_type": "code",
      "metadata": {
        "execution": {
          "iopub.status.busy": "2021-08-08T19:34:33.967811Z",
          "iopub.execute_input": "2021-08-08T19:34:33.968229Z",
          "iopub.status.idle": "2021-08-08T19:34:33.981234Z",
          "shell.execute_reply.started": "2021-08-08T19:34:33.968182Z",
          "shell.execute_reply": "2021-08-08T19:34:33.980392Z"
        },
        "trusted": true,
        "colab": {
          "base_uri": "https://localhost:8080/"
        },
        "id": "aMYb2TCSQ7DU",
        "outputId": "1dd835b4-7564-4347-a3e0-bfb611f09d71"
      },
      "source": [
        "#lets change the index value of the dataFrame\n",
        "pur = pd.DataFrame(data, index=['June','Robert','Lily','David'])\n",
        "print(pur)"
      ],
      "execution_count": 19,
      "outputs": [
        {
          "output_type": "stream",
          "text": [
            "        apples  oranges\n",
            "June         3        0\n",
            "Robert       2        3\n",
            "Lily         0        7\n",
            "David        1        2\n"
          ],
          "name": "stdout"
        }
      ]
    },
    {
      "cell_type": "code",
      "metadata": {
        "execution": {
          "iopub.status.busy": "2021-08-08T19:34:33.982165Z",
          "iopub.execute_input": "2021-08-08T19:34:33.982418Z",
          "iopub.status.idle": "2021-08-08T19:34:33.993732Z",
          "shell.execute_reply.started": "2021-08-08T19:34:33.982392Z",
          "shell.execute_reply": "2021-08-08T19:34:33.992914Z"
        },
        "trusted": true,
        "id": "7I6OHs5xQ7DU"
      },
      "source": [
        "#lets create dataframe using datetime as index\n",
        "arr = {\n",
        "    'A':range(1,5),\n",
        "    'B':range(5,9)\n",
        "}\n",
        "\n",
        "index = pd.DatetimeIndex(['2021-07-01','2021-07-02','2021-07-03','2021-07-04'])"
      ],
      "execution_count": 20,
      "outputs": []
    },
    {
      "cell_type": "code",
      "metadata": {
        "execution": {
          "iopub.status.busy": "2021-08-08T19:34:33.994768Z",
          "iopub.execute_input": "2021-08-08T19:34:33.995070Z",
          "iopub.status.idle": "2021-08-08T19:34:34.014955Z",
          "shell.execute_reply.started": "2021-08-08T19:34:33.995041Z",
          "shell.execute_reply": "2021-08-08T19:34:34.013832Z"
        },
        "trusted": true,
        "colab": {
          "base_uri": "https://localhost:8080/",
          "height": 172
        },
        "id": "ggbu8tmfQ7DV",
        "outputId": "61c1731c-b345-4568-c572-d9b984a186e5"
      },
      "source": [
        "pd.DataFrame(arr, index=index)"
      ],
      "execution_count": 21,
      "outputs": [
        {
          "output_type": "execute_result",
          "data": {
            "text/html": [
              "<div>\n",
              "<style scoped>\n",
              "    .dataframe tbody tr th:only-of-type {\n",
              "        vertical-align: middle;\n",
              "    }\n",
              "\n",
              "    .dataframe tbody tr th {\n",
              "        vertical-align: top;\n",
              "    }\n",
              "\n",
              "    .dataframe thead th {\n",
              "        text-align: right;\n",
              "    }\n",
              "</style>\n",
              "<table border=\"1\" class=\"dataframe\">\n",
              "  <thead>\n",
              "    <tr style=\"text-align: right;\">\n",
              "      <th></th>\n",
              "      <th>A</th>\n",
              "      <th>B</th>\n",
              "    </tr>\n",
              "  </thead>\n",
              "  <tbody>\n",
              "    <tr>\n",
              "      <th>2021-07-01</th>\n",
              "      <td>1</td>\n",
              "      <td>5</td>\n",
              "    </tr>\n",
              "    <tr>\n",
              "      <th>2021-07-02</th>\n",
              "      <td>2</td>\n",
              "      <td>6</td>\n",
              "    </tr>\n",
              "    <tr>\n",
              "      <th>2021-07-03</th>\n",
              "      <td>3</td>\n",
              "      <td>7</td>\n",
              "    </tr>\n",
              "    <tr>\n",
              "      <th>2021-07-04</th>\n",
              "      <td>4</td>\n",
              "      <td>8</td>\n",
              "    </tr>\n",
              "  </tbody>\n",
              "</table>\n",
              "</div>"
            ],
            "text/plain": [
              "            A  B\n",
              "2021-07-01  1  5\n",
              "2021-07-02  2  6\n",
              "2021-07-03  3  7\n",
              "2021-07-04  4  8"
            ]
          },
          "metadata": {
            "tags": []
          },
          "execution_count": 21
        }
      ]
    },
    {
      "cell_type": "code",
      "metadata": {
        "execution": {
          "iopub.status.busy": "2021-08-08T19:34:34.016173Z",
          "iopub.execute_input": "2021-08-08T19:34:34.016462Z",
          "iopub.status.idle": "2021-08-08T19:34:34.023977Z",
          "shell.execute_reply.started": "2021-08-08T19:34:34.016434Z",
          "shell.execute_reply": "2021-08-08T19:34:34.022733Z"
        },
        "trusted": true,
        "id": "bHnk_4zuQ7DV"
      },
      "source": [
        "#task: create a dataframe of random numbers with 10 rows and columns as A,B,C,D\n",
        "ar = {\n",
        "  'A':np.random.randn(10),\n",
        "  'B':np.random.randn(10),\n",
        "  'C':np.random.randn(10),\n",
        "  'D':np.random.randn(10),\n",
        "  'E':np.random.randn(10)\n",
        "}\n",
        "a = pd.DataFrame(ar)"
      ],
      "execution_count": 22,
      "outputs": []
    },
    {
      "cell_type": "code",
      "metadata": {
        "execution": {
          "iopub.status.busy": "2021-08-08T19:34:34.028644Z",
          "iopub.execute_input": "2021-08-08T19:34:34.029056Z",
          "iopub.status.idle": "2021-08-08T19:34:34.050421Z",
          "shell.execute_reply.started": "2021-08-08T19:34:34.029022Z",
          "shell.execute_reply": "2021-08-08T19:34:34.049512Z"
        },
        "trusted": true,
        "colab": {
          "base_uri": "https://localhost:8080/",
          "height": 357
        },
        "id": "I3Uwkv2wQ7DV",
        "outputId": "bb7e87f0-8471-4232-e9e5-2fe17ba1e959"
      },
      "source": [
        "a"
      ],
      "execution_count": 23,
      "outputs": [
        {
          "output_type": "execute_result",
          "data": {
            "text/html": [
              "<div>\n",
              "<style scoped>\n",
              "    .dataframe tbody tr th:only-of-type {\n",
              "        vertical-align: middle;\n",
              "    }\n",
              "\n",
              "    .dataframe tbody tr th {\n",
              "        vertical-align: top;\n",
              "    }\n",
              "\n",
              "    .dataframe thead th {\n",
              "        text-align: right;\n",
              "    }\n",
              "</style>\n",
              "<table border=\"1\" class=\"dataframe\">\n",
              "  <thead>\n",
              "    <tr style=\"text-align: right;\">\n",
              "      <th></th>\n",
              "      <th>A</th>\n",
              "      <th>B</th>\n",
              "      <th>C</th>\n",
              "      <th>D</th>\n",
              "      <th>E</th>\n",
              "    </tr>\n",
              "  </thead>\n",
              "  <tbody>\n",
              "    <tr>\n",
              "      <th>0</th>\n",
              "      <td>0.582668</td>\n",
              "      <td>-1.713776</td>\n",
              "      <td>-0.026336</td>\n",
              "      <td>0.168062</td>\n",
              "      <td>-0.475632</td>\n",
              "    </tr>\n",
              "    <tr>\n",
              "      <th>1</th>\n",
              "      <td>-0.793331</td>\n",
              "      <td>0.567254</td>\n",
              "      <td>-0.944674</td>\n",
              "      <td>0.387200</td>\n",
              "      <td>-0.457768</td>\n",
              "    </tr>\n",
              "    <tr>\n",
              "      <th>2</th>\n",
              "      <td>1.407249</td>\n",
              "      <td>1.718384</td>\n",
              "      <td>3.092457</td>\n",
              "      <td>-0.174324</td>\n",
              "      <td>-0.602785</td>\n",
              "    </tr>\n",
              "    <tr>\n",
              "      <th>3</th>\n",
              "      <td>0.226723</td>\n",
              "      <td>0.785757</td>\n",
              "      <td>-1.127369</td>\n",
              "      <td>-0.254307</td>\n",
              "      <td>2.535604</td>\n",
              "    </tr>\n",
              "    <tr>\n",
              "      <th>4</th>\n",
              "      <td>-0.675404</td>\n",
              "      <td>-0.013164</td>\n",
              "      <td>1.633522</td>\n",
              "      <td>0.154542</td>\n",
              "      <td>-2.048645</td>\n",
              "    </tr>\n",
              "    <tr>\n",
              "      <th>5</th>\n",
              "      <td>0.965967</td>\n",
              "      <td>0.167427</td>\n",
              "      <td>-1.300763</td>\n",
              "      <td>0.333071</td>\n",
              "      <td>-0.965078</td>\n",
              "    </tr>\n",
              "    <tr>\n",
              "      <th>6</th>\n",
              "      <td>-1.329815</td>\n",
              "      <td>-0.810670</td>\n",
              "      <td>-0.108102</td>\n",
              "      <td>-0.051474</td>\n",
              "      <td>0.205710</td>\n",
              "    </tr>\n",
              "    <tr>\n",
              "      <th>7</th>\n",
              "      <td>1.301029</td>\n",
              "      <td>-0.150165</td>\n",
              "      <td>0.567228</td>\n",
              "      <td>-1.636924</td>\n",
              "      <td>-1.380518</td>\n",
              "    </tr>\n",
              "    <tr>\n",
              "      <th>8</th>\n",
              "      <td>-1.175716</td>\n",
              "      <td>-0.533019</td>\n",
              "      <td>1.268164</td>\n",
              "      <td>-0.016509</td>\n",
              "      <td>-0.387946</td>\n",
              "    </tr>\n",
              "    <tr>\n",
              "      <th>9</th>\n",
              "      <td>1.976448</td>\n",
              "      <td>0.804445</td>\n",
              "      <td>-1.053809</td>\n",
              "      <td>0.938446</td>\n",
              "      <td>1.088579</td>\n",
              "    </tr>\n",
              "  </tbody>\n",
              "</table>\n",
              "</div>"
            ],
            "text/plain": [
              "          A         B         C         D         E\n",
              "0  0.582668 -1.713776 -0.026336  0.168062 -0.475632\n",
              "1 -0.793331  0.567254 -0.944674  0.387200 -0.457768\n",
              "2  1.407249  1.718384  3.092457 -0.174324 -0.602785\n",
              "3  0.226723  0.785757 -1.127369 -0.254307  2.535604\n",
              "4 -0.675404 -0.013164  1.633522  0.154542 -2.048645\n",
              "5  0.965967  0.167427 -1.300763  0.333071 -0.965078\n",
              "6 -1.329815 -0.810670 -0.108102 -0.051474  0.205710\n",
              "7  1.301029 -0.150165  0.567228 -1.636924 -1.380518\n",
              "8 -1.175716 -0.533019  1.268164 -0.016509 -0.387946\n",
              "9  1.976448  0.804445 -1.053809  0.938446  1.088579"
            ]
          },
          "metadata": {
            "tags": []
          },
          "execution_count": 23
        }
      ]
    },
    {
      "cell_type": "markdown",
      "metadata": {
        "id": "R7ZelvaEQ7DW"
      },
      "source": [
        "**Project:**\n",
        "\n",
        "**Movie Recomender System**\n",
        "\n",
        "A pandas based movie recommender system to recomend good or bad movies."
      ]
    },
    {
      "cell_type": "code",
      "metadata": {
        "execution": {
          "iopub.status.busy": "2021-08-08T19:34:34.051791Z",
          "iopub.execute_input": "2021-08-08T19:34:34.052162Z",
          "iopub.status.idle": "2021-08-08T19:34:34.086525Z",
          "shell.execute_reply.started": "2021-08-08T19:34:34.052131Z",
          "shell.execute_reply": "2021-08-08T19:34:34.085501Z"
        },
        "trusted": true,
        "id": "nlh91DNMQ7DW"
      },
      "source": [
        "#lets load the file into dataset as variable\n",
        "movies_df = pd.read_csv('/content/IMDB-Movie-Data.csv', index_col='Title')"
      ],
      "execution_count": 24,
      "outputs": []
    },
    {
      "cell_type": "code",
      "metadata": {
        "execution": {
          "iopub.status.busy": "2021-08-08T19:34:34.087935Z",
          "iopub.execute_input": "2021-08-08T19:34:34.088267Z",
          "iopub.status.idle": "2021-08-08T19:34:34.111583Z",
          "shell.execute_reply.started": "2021-08-08T19:34:34.088240Z",
          "shell.execute_reply": "2021-08-08T19:34:34.110658Z"
        },
        "trusted": true,
        "colab": {
          "base_uri": "https://localhost:8080/",
          "height": 892
        },
        "id": "DMnabYKeQ7DW",
        "outputId": "9d38faef-b882-4d6e-c9bc-6ab884947ab0"
      },
      "source": [
        "#use head to view whats in dataset\n",
        "movies_df.head(10)"
      ],
      "execution_count": 25,
      "outputs": [
        {
          "output_type": "execute_result",
          "data": {
            "text/html": [
              "<div>\n",
              "<style scoped>\n",
              "    .dataframe tbody tr th:only-of-type {\n",
              "        vertical-align: middle;\n",
              "    }\n",
              "\n",
              "    .dataframe tbody tr th {\n",
              "        vertical-align: top;\n",
              "    }\n",
              "\n",
              "    .dataframe thead th {\n",
              "        text-align: right;\n",
              "    }\n",
              "</style>\n",
              "<table border=\"1\" class=\"dataframe\">\n",
              "  <thead>\n",
              "    <tr style=\"text-align: right;\">\n",
              "      <th></th>\n",
              "      <th>Rank</th>\n",
              "      <th>Genre</th>\n",
              "      <th>Description</th>\n",
              "      <th>Director</th>\n",
              "      <th>Actors</th>\n",
              "      <th>Year</th>\n",
              "      <th>Runtime (Minutes)</th>\n",
              "      <th>Rating</th>\n",
              "      <th>Votes</th>\n",
              "      <th>Revenue (Millions)</th>\n",
              "      <th>Metascore</th>\n",
              "    </tr>\n",
              "    <tr>\n",
              "      <th>Title</th>\n",
              "      <th></th>\n",
              "      <th></th>\n",
              "      <th></th>\n",
              "      <th></th>\n",
              "      <th></th>\n",
              "      <th></th>\n",
              "      <th></th>\n",
              "      <th></th>\n",
              "      <th></th>\n",
              "      <th></th>\n",
              "      <th></th>\n",
              "    </tr>\n",
              "  </thead>\n",
              "  <tbody>\n",
              "    <tr>\n",
              "      <th>Guardians of the Galaxy</th>\n",
              "      <td>1</td>\n",
              "      <td>Action,Adventure,Sci-Fi</td>\n",
              "      <td>A group of intergalactic criminals are forced ...</td>\n",
              "      <td>James Gunn</td>\n",
              "      <td>Chris Pratt, Vin Diesel, Bradley Cooper, Zoe S...</td>\n",
              "      <td>2014</td>\n",
              "      <td>121</td>\n",
              "      <td>8.1</td>\n",
              "      <td>757074</td>\n",
              "      <td>333.13</td>\n",
              "      <td>76.0</td>\n",
              "    </tr>\n",
              "    <tr>\n",
              "      <th>Prometheus</th>\n",
              "      <td>2</td>\n",
              "      <td>Adventure,Mystery,Sci-Fi</td>\n",
              "      <td>Following clues to the origin of mankind, a te...</td>\n",
              "      <td>Ridley Scott</td>\n",
              "      <td>Noomi Rapace, Logan Marshall-Green, Michael Fa...</td>\n",
              "      <td>2012</td>\n",
              "      <td>124</td>\n",
              "      <td>7.0</td>\n",
              "      <td>485820</td>\n",
              "      <td>126.46</td>\n",
              "      <td>65.0</td>\n",
              "    </tr>\n",
              "    <tr>\n",
              "      <th>Split</th>\n",
              "      <td>3</td>\n",
              "      <td>Horror,Thriller</td>\n",
              "      <td>Three girls are kidnapped by a man with a diag...</td>\n",
              "      <td>M. Night Shyamalan</td>\n",
              "      <td>James McAvoy, Anya Taylor-Joy, Haley Lu Richar...</td>\n",
              "      <td>2016</td>\n",
              "      <td>117</td>\n",
              "      <td>7.3</td>\n",
              "      <td>157606</td>\n",
              "      <td>138.12</td>\n",
              "      <td>62.0</td>\n",
              "    </tr>\n",
              "    <tr>\n",
              "      <th>Sing</th>\n",
              "      <td>4</td>\n",
              "      <td>Animation,Comedy,Family</td>\n",
              "      <td>In a city of humanoid animals, a hustling thea...</td>\n",
              "      <td>Christophe Lourdelet</td>\n",
              "      <td>Matthew McConaughey,Reese Witherspoon, Seth Ma...</td>\n",
              "      <td>2016</td>\n",
              "      <td>108</td>\n",
              "      <td>7.2</td>\n",
              "      <td>60545</td>\n",
              "      <td>270.32</td>\n",
              "      <td>59.0</td>\n",
              "    </tr>\n",
              "    <tr>\n",
              "      <th>Suicide Squad</th>\n",
              "      <td>5</td>\n",
              "      <td>Action,Adventure,Fantasy</td>\n",
              "      <td>A secret government agency recruits some of th...</td>\n",
              "      <td>David Ayer</td>\n",
              "      <td>Will Smith, Jared Leto, Margot Robbie, Viola D...</td>\n",
              "      <td>2016</td>\n",
              "      <td>123</td>\n",
              "      <td>6.2</td>\n",
              "      <td>393727</td>\n",
              "      <td>325.02</td>\n",
              "      <td>40.0</td>\n",
              "    </tr>\n",
              "    <tr>\n",
              "      <th>The Great Wall</th>\n",
              "      <td>6</td>\n",
              "      <td>Action,Adventure,Fantasy</td>\n",
              "      <td>European mercenaries searching for black powde...</td>\n",
              "      <td>Yimou Zhang</td>\n",
              "      <td>Matt Damon, Tian Jing, Willem Dafoe, Andy Lau</td>\n",
              "      <td>2016</td>\n",
              "      <td>103</td>\n",
              "      <td>6.1</td>\n",
              "      <td>56036</td>\n",
              "      <td>45.13</td>\n",
              "      <td>42.0</td>\n",
              "    </tr>\n",
              "    <tr>\n",
              "      <th>La La Land</th>\n",
              "      <td>7</td>\n",
              "      <td>Comedy,Drama,Music</td>\n",
              "      <td>A jazz pianist falls for an aspiring actress i...</td>\n",
              "      <td>Damien Chazelle</td>\n",
              "      <td>Ryan Gosling, Emma Stone, Rosemarie DeWitt, J....</td>\n",
              "      <td>2016</td>\n",
              "      <td>128</td>\n",
              "      <td>8.3</td>\n",
              "      <td>258682</td>\n",
              "      <td>151.06</td>\n",
              "      <td>93.0</td>\n",
              "    </tr>\n",
              "    <tr>\n",
              "      <th>Mindhorn</th>\n",
              "      <td>8</td>\n",
              "      <td>Comedy</td>\n",
              "      <td>A has-been actor best known for playing the ti...</td>\n",
              "      <td>Sean Foley</td>\n",
              "      <td>Essie Davis, Andrea Riseborough, Julian Barrat...</td>\n",
              "      <td>2016</td>\n",
              "      <td>89</td>\n",
              "      <td>6.4</td>\n",
              "      <td>2490</td>\n",
              "      <td>NaN</td>\n",
              "      <td>71.0</td>\n",
              "    </tr>\n",
              "    <tr>\n",
              "      <th>The Lost City of Z</th>\n",
              "      <td>9</td>\n",
              "      <td>Action,Adventure,Biography</td>\n",
              "      <td>A true-life drama, centering on British explor...</td>\n",
              "      <td>James Gray</td>\n",
              "      <td>Charlie Hunnam, Robert Pattinson, Sienna Mille...</td>\n",
              "      <td>2016</td>\n",
              "      <td>141</td>\n",
              "      <td>7.1</td>\n",
              "      <td>7188</td>\n",
              "      <td>8.01</td>\n",
              "      <td>78.0</td>\n",
              "    </tr>\n",
              "    <tr>\n",
              "      <th>Passengers</th>\n",
              "      <td>10</td>\n",
              "      <td>Adventure,Drama,Romance</td>\n",
              "      <td>A spacecraft traveling to a distant colony pla...</td>\n",
              "      <td>Morten Tyldum</td>\n",
              "      <td>Jennifer Lawrence, Chris Pratt, Michael Sheen,...</td>\n",
              "      <td>2016</td>\n",
              "      <td>116</td>\n",
              "      <td>7.0</td>\n",
              "      <td>192177</td>\n",
              "      <td>100.01</td>\n",
              "      <td>41.0</td>\n",
              "    </tr>\n",
              "  </tbody>\n",
              "</table>\n",
              "</div>"
            ],
            "text/plain": [
              "                         Rank  ... Metascore\n",
              "Title                          ...          \n",
              "Guardians of the Galaxy     1  ...      76.0\n",
              "Prometheus                  2  ...      65.0\n",
              "Split                       3  ...      62.0\n",
              "Sing                        4  ...      59.0\n",
              "Suicide Squad               5  ...      40.0\n",
              "The Great Wall              6  ...      42.0\n",
              "La La Land                  7  ...      93.0\n",
              "Mindhorn                    8  ...      71.0\n",
              "The Lost City of Z          9  ...      78.0\n",
              "Passengers                 10  ...      41.0\n",
              "\n",
              "[10 rows x 11 columns]"
            ]
          },
          "metadata": {
            "tags": []
          },
          "execution_count": 25
        }
      ]
    },
    {
      "cell_type": "code",
      "metadata": {
        "execution": {
          "iopub.status.busy": "2021-08-08T19:34:34.112919Z",
          "iopub.execute_input": "2021-08-08T19:34:34.113334Z",
          "iopub.status.idle": "2021-08-08T19:34:34.121776Z",
          "shell.execute_reply.started": "2021-08-08T19:34:34.113213Z",
          "shell.execute_reply": "2021-08-08T19:34:34.120829Z"
        },
        "trusted": true,
        "colab": {
          "base_uri": "https://localhost:8080/"
        },
        "id": "o-g0IS8HQ7DX",
        "outputId": "aa718b40-7ef9-4c19-b772-35525fff6d64"
      },
      "source": [
        "#lets print the shape of the dataset\n",
        "movies_df.shape"
      ],
      "execution_count": 26,
      "outputs": [
        {
          "output_type": "execute_result",
          "data": {
            "text/plain": [
              "(1000, 11)"
            ]
          },
          "metadata": {
            "tags": []
          },
          "execution_count": 26
        }
      ]
    },
    {
      "cell_type": "code",
      "metadata": {
        "execution": {
          "iopub.status.busy": "2021-08-08T19:34:34.122940Z",
          "iopub.execute_input": "2021-08-08T19:34:34.123537Z",
          "iopub.status.idle": "2021-08-08T19:34:34.146358Z",
          "shell.execute_reply.started": "2021-08-08T19:34:34.123384Z",
          "shell.execute_reply": "2021-08-08T19:34:34.145681Z"
        },
        "trusted": true,
        "colab": {
          "base_uri": "https://localhost:8080/"
        },
        "id": "0utrH7ItQ7DX",
        "outputId": "3bc3e0c4-4934-4665-9c05-05877cef64ee"
      },
      "source": [
        "#lets get the information about our dataset\n",
        "movies_df.info()"
      ],
      "execution_count": 27,
      "outputs": [
        {
          "output_type": "stream",
          "text": [
            "<class 'pandas.core.frame.DataFrame'>\n",
            "Index: 1000 entries, Guardians of the Galaxy to Nine Lives\n",
            "Data columns (total 11 columns):\n",
            " #   Column              Non-Null Count  Dtype  \n",
            "---  ------              --------------  -----  \n",
            " 0   Rank                1000 non-null   int64  \n",
            " 1   Genre               1000 non-null   object \n",
            " 2   Description         1000 non-null   object \n",
            " 3   Director            1000 non-null   object \n",
            " 4   Actors              1000 non-null   object \n",
            " 5   Year                1000 non-null   int64  \n",
            " 6   Runtime (Minutes)   1000 non-null   int64  \n",
            " 7   Rating              1000 non-null   float64\n",
            " 8   Votes               1000 non-null   int64  \n",
            " 9   Revenue (Millions)  872 non-null    float64\n",
            " 10  Metascore           936 non-null    float64\n",
            "dtypes: float64(3), int64(4), object(4)\n",
            "memory usage: 93.8+ KB\n"
          ],
          "name": "stdout"
        }
      ]
    },
    {
      "cell_type": "code",
      "metadata": {
        "execution": {
          "iopub.status.busy": "2021-08-08T19:34:34.147288Z",
          "iopub.execute_input": "2021-08-08T19:34:34.147666Z",
          "iopub.status.idle": "2021-08-08T19:34:34.157305Z",
          "shell.execute_reply.started": "2021-08-08T19:34:34.147630Z",
          "shell.execute_reply": "2021-08-08T19:34:34.156256Z"
        },
        "trusted": true,
        "colab": {
          "base_uri": "https://localhost:8080/"
        },
        "id": "BIh2QjDoQ7DX",
        "outputId": "71b9044c-bab5-47e3-b670-93b50f659025"
      },
      "source": [
        "#Lets handle duplicate entries\n",
        "tmp_df = movies_df.append(movies_df)\n",
        "tmp_df.shape"
      ],
      "execution_count": 28,
      "outputs": [
        {
          "output_type": "execute_result",
          "data": {
            "text/plain": [
              "(2000, 11)"
            ]
          },
          "metadata": {
            "tags": []
          },
          "execution_count": 28
        }
      ]
    },
    {
      "cell_type": "code",
      "metadata": {
        "execution": {
          "iopub.status.busy": "2021-08-08T19:34:34.158749Z",
          "iopub.execute_input": "2021-08-08T19:34:34.159124Z",
          "iopub.status.idle": "2021-08-08T19:34:34.174958Z",
          "shell.execute_reply.started": "2021-08-08T19:34:34.159095Z",
          "shell.execute_reply": "2021-08-08T19:34:34.173931Z"
        },
        "trusted": true,
        "colab": {
          "base_uri": "https://localhost:8080/"
        },
        "id": "JdCGGeixQ7DY",
        "outputId": "e79cd252-cc7b-4f51-f8a6-f3514f4383ff"
      },
      "source": [
        "#lets drop the duplicates\n",
        "temp_df = tmp_df.drop_duplicates()\n",
        "temp_df.shape"
      ],
      "execution_count": 29,
      "outputs": [
        {
          "output_type": "execute_result",
          "data": {
            "text/plain": [
              "(1000, 11)"
            ]
          },
          "metadata": {
            "tags": []
          },
          "execution_count": 29
        }
      ]
    },
    {
      "cell_type": "code",
      "metadata": {
        "execution": {
          "iopub.status.busy": "2021-08-08T19:34:34.176387Z",
          "iopub.execute_input": "2021-08-08T19:34:34.176669Z",
          "iopub.status.idle": "2021-08-08T19:34:34.184908Z",
          "shell.execute_reply.started": "2021-08-08T19:34:34.176643Z",
          "shell.execute_reply": "2021-08-08T19:34:34.183713Z"
        },
        "trusted": true,
        "id": "E4phQJhDQ7DY"
      },
      "source": [
        "tmp_new_df = temp_df.append(temp_df)"
      ],
      "execution_count": 30,
      "outputs": []
    },
    {
      "cell_type": "code",
      "metadata": {
        "execution": {
          "iopub.status.busy": "2021-08-08T19:34:34.186144Z",
          "iopub.execute_input": "2021-08-08T19:34:34.186446Z",
          "iopub.status.idle": "2021-08-08T19:34:34.206852Z",
          "shell.execute_reply.started": "2021-08-08T19:34:34.186418Z",
          "shell.execute_reply": "2021-08-08T19:34:34.205971Z"
        },
        "trusted": true,
        "colab": {
          "base_uri": "https://localhost:8080/"
        },
        "id": "7vU2Bw4jQ7DY",
        "outputId": "050179a9-e3f9-46b1-e941-f05c6c472114"
      },
      "source": [
        "tmp_new_df.drop_duplicates(inplace=True)\n",
        "tmp_new_df.shape"
      ],
      "execution_count": 31,
      "outputs": [
        {
          "output_type": "execute_result",
          "data": {
            "text/plain": [
              "(1000, 11)"
            ]
          },
          "metadata": {
            "tags": []
          },
          "execution_count": 31
        }
      ]
    },
    {
      "cell_type": "markdown",
      "metadata": {
        "id": "g2sDry3LQ7DY"
      },
      "source": [
        "drop_duplicates(keep=[first,last,fasle])\n",
        "\n",
        "first: (default) Drops duplicates except for the first occurence\n",
        "\n",
        "last: Drops duplicates except for the last occurence\n",
        "\n",
        "fasle: Drops all duplicates"
      ]
    },
    {
      "cell_type": "code",
      "metadata": {
        "execution": {
          "iopub.status.busy": "2021-08-08T19:34:34.210229Z",
          "iopub.execute_input": "2021-08-08T19:34:34.210528Z",
          "iopub.status.idle": "2021-08-08T19:34:34.220757Z",
          "shell.execute_reply.started": "2021-08-08T19:34:34.210501Z",
          "shell.execute_reply": "2021-08-08T19:34:34.219857Z"
        },
        "trusted": true,
        "id": "B9ymrolvQ7DY"
      },
      "source": [
        "tmp_new_df = temp_df.append(temp_df)"
      ],
      "execution_count": 32,
      "outputs": []
    },
    {
      "cell_type": "code",
      "metadata": {
        "execution": {
          "iopub.status.busy": "2021-08-08T19:34:34.224294Z",
          "iopub.execute_input": "2021-08-08T19:34:34.224639Z",
          "iopub.status.idle": "2021-08-08T19:34:34.242846Z",
          "shell.execute_reply.started": "2021-08-08T19:34:34.224602Z",
          "shell.execute_reply": "2021-08-08T19:34:34.241959Z"
        },
        "trusted": true,
        "colab": {
          "base_uri": "https://localhost:8080/"
        },
        "id": "S24P9oirQ7DZ",
        "outputId": "8fee5f9a-2d7f-46a3-a187-655c02f91f64"
      },
      "source": [
        "tmp_new_df.drop_duplicates(inplace = True, keep=False)\n",
        "tmp_new_df.shape"
      ],
      "execution_count": 33,
      "outputs": [
        {
          "output_type": "execute_result",
          "data": {
            "text/plain": [
              "(0, 11)"
            ]
          },
          "metadata": {
            "tags": []
          },
          "execution_count": 33
        }
      ]
    },
    {
      "cell_type": "code",
      "metadata": {
        "execution": {
          "iopub.status.busy": "2021-08-08T19:34:34.243973Z",
          "iopub.execute_input": "2021-08-08T19:34:34.244254Z",
          "iopub.status.idle": "2021-08-08T19:34:34.257581Z",
          "shell.execute_reply.started": "2021-08-08T19:34:34.244228Z",
          "shell.execute_reply": "2021-08-08T19:34:34.256616Z"
        },
        "trusted": true,
        "colab": {
          "base_uri": "https://localhost:8080/"
        },
        "id": "QTWQZzu2Q7DZ",
        "outputId": "50619b98-395c-42e0-b5bd-ad7f6fa1551d"
      },
      "source": [
        "#Column Cleanup\n",
        "#lets print the column names\n",
        "movies_df.columns"
      ],
      "execution_count": 34,
      "outputs": [
        {
          "output_type": "execute_result",
          "data": {
            "text/plain": [
              "Index(['Rank', 'Genre', 'Description', 'Director', 'Actors', 'Year',\n",
              "       'Runtime (Minutes)', 'Rating', 'Votes', 'Revenue (Millions)',\n",
              "       'Metascore'],\n",
              "      dtype='object')"
            ]
          },
          "metadata": {
            "tags": []
          },
          "execution_count": 34
        }
      ]
    },
    {
      "cell_type": "code",
      "metadata": {
        "execution": {
          "iopub.status.busy": "2021-08-08T19:34:34.258967Z",
          "iopub.execute_input": "2021-08-08T19:34:34.259380Z",
          "iopub.status.idle": "2021-08-08T19:34:34.264860Z",
          "shell.execute_reply.started": "2021-08-08T19:34:34.259338Z",
          "shell.execute_reply": "2021-08-08T19:34:34.264082Z"
        },
        "trusted": true,
        "id": "GzDcXEUhQ7DZ"
      },
      "source": [
        "#lets rename our runtime and revenue columns\n",
        "movies_df.rename(columns={\n",
        "    'Runtime (Minutes)':'Runtime',\n",
        "    'Revenue (Millions)':'Revenue'\n",
        "},inplace=True)"
      ],
      "execution_count": 35,
      "outputs": []
    },
    {
      "cell_type": "code",
      "metadata": {
        "execution": {
          "iopub.status.busy": "2021-08-08T19:34:34.266083Z",
          "iopub.execute_input": "2021-08-08T19:34:34.266564Z",
          "iopub.status.idle": "2021-08-08T19:34:34.278880Z",
          "shell.execute_reply.started": "2021-08-08T19:34:34.266533Z",
          "shell.execute_reply": "2021-08-08T19:34:34.277906Z"
        },
        "trusted": true,
        "colab": {
          "base_uri": "https://localhost:8080/"
        },
        "id": "v6uxh1f6Q7DZ",
        "outputId": "53a9d0c1-0a68-4669-df90-2e8468cb2f6a"
      },
      "source": [
        "movies_df.columns"
      ],
      "execution_count": 36,
      "outputs": [
        {
          "output_type": "execute_result",
          "data": {
            "text/plain": [
              "Index(['Rank', 'Genre', 'Description', 'Director', 'Actors', 'Year', 'Runtime',\n",
              "       'Rating', 'Votes', 'Revenue', 'Metascore'],\n",
              "      dtype='object')"
            ]
          },
          "metadata": {
            "tags": []
          },
          "execution_count": 36
        }
      ]
    },
    {
      "cell_type": "code",
      "metadata": {
        "execution": {
          "iopub.status.busy": "2021-08-08T19:34:34.280213Z",
          "iopub.execute_input": "2021-08-08T19:34:34.280516Z",
          "iopub.status.idle": "2021-08-08T19:34:34.291227Z",
          "shell.execute_reply.started": "2021-08-08T19:34:34.280479Z",
          "shell.execute_reply": "2021-08-08T19:34:34.289795Z"
        },
        "trusted": true,
        "colab": {
          "base_uri": "https://localhost:8080/"
        },
        "id": "SAJznm1VQ7Da",
        "outputId": "b0b46407-6032-48cb-e25f-57e7b65b5b3c"
      },
      "source": [
        "#task: rename all the column names with lower case\n",
        "movies_df.columns = [col.lower() for col in movies_df]\n",
        "movies_df.columns"
      ],
      "execution_count": 37,
      "outputs": [
        {
          "output_type": "execute_result",
          "data": {
            "text/plain": [
              "Index(['rank', 'genre', 'description', 'director', 'actors', 'year', 'runtime',\n",
              "       'rating', 'votes', 'revenue', 'metascore'],\n",
              "      dtype='object')"
            ]
          },
          "metadata": {
            "tags": []
          },
          "execution_count": 37
        }
      ]
    }
  ]
}